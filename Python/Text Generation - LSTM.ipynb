{
  "nbformat": 4,
  "nbformat_minor": 0,
  "metadata": {
    "colab": {
      "provenance": []
    },
    "kernelspec": {
      "name": "python3",
      "display_name": "Python 3"
    },
    "language_info": {
      "name": "python"
    },
    "accelerator": "GPU",
    "gpuClass": "standard"
  },
  "cells": [
    {
      "cell_type": "markdown",
      "metadata": {
        "id": "tgmzVhKhmJHM"
      },
      "source": [
        "# Generación de texto con una red LSTM\n",
        "En esta actividad vamos a utilizar una red recurrente LSTM para generar texto.\n",
        "\n",
        "El corpus que sirve de referencia para generar los textos se compone de obras de H.P. Lovecraft, aunque se puede utilizar cualquier otro.\n",
        "\n",
        "El interés de esta actividad es utilizar las redes **LSTM para algo distinto de una clasificación**, aunque, como se puede observar, la calidad de los textos generados es inferior a la que se consigue con otros modelos más actuales, como los transformer.\n",
        "\n",
        "**Debes completar el código en las secciones indicadas con # COMPLETAR CODIGO**"
      ]
    },
    {
      "cell_type": "markdown",
      "metadata": {
        "id": "lUGDPYoH6Vmh"
      },
      "source": [
        "## Instalación e importación de paquetes"
      ]
    },
    {
      "cell_type": "code",
      "metadata": {
        "id": "XkmvTyPxA9bp",
        "colab": {
          "base_uri": "https://localhost:8080/"
        },
        "outputId": "b4d7daee-40bf-4b69-ab73-9db6fed7aec2"
      },
      "source": [
        "!pip install progressbar2"
      ],
      "execution_count": null,
      "outputs": [
        {
          "output_type": "stream",
          "name": "stdout",
          "text": [
            "Looking in indexes: https://pypi.org/simple, https://us-python.pkg.dev/colab-wheels/public/simple/\n",
            "Requirement already satisfied: progressbar2 in /usr/local/lib/python3.7/dist-packages (3.38.0)\n",
            "Requirement already satisfied: six in /usr/local/lib/python3.7/dist-packages (from progressbar2) (1.15.0)\n",
            "Requirement already satisfied: python-utils>=2.3.0 in /usr/local/lib/python3.7/dist-packages (from progressbar2) (3.3.3)\n"
          ]
        }
      ]
    },
    {
      "cell_type": "code",
      "metadata": {
        "colab": {
          "base_uri": "https://localhost:8080/"
        },
        "id": "hg_-Lc8WBBiu",
        "outputId": "978b142c-de83-47cf-dcb3-36ecba6e45da"
      },
      "source": [
        "import os\n",
        "import urllib\n",
        "import numpy as np\n",
        "import matplotlib.pyplot as plt\n",
        "from collections import Counter\n",
        "import html\n",
        "\n",
        "import nltk\n",
        "from nltk import word_tokenize\n",
        "nltk.download('punkt')\n",
        "import pickle\n",
        "import random\n",
        "import progressbar\n",
        "from tensorflow.keras import models, layers\n",
        "from tensorflow.keras.utils import to_categorical\n",
        "\n",
        "try:\n",
        "    from nltk.tokenize.moses import MosesDetokenizer\n",
        "    detokenizer = MosesDetokenizer()\n",
        "    use_moses_detokenizer = True\n",
        "except:\n",
        "    use_moses_detokenizer = False\n",
        "\n",
        "print(f\"use_moses_detokenizer={use_moses_detokenizer}\")"
      ],
      "execution_count": null,
      "outputs": [
        {
          "output_type": "stream",
          "name": "stderr",
          "text": [
            "[nltk_data] Downloading package punkt to /root/nltk_data...\n",
            "[nltk_data]   Unzipping tokenizers/punkt.zip.\n"
          ]
        },
        {
          "output_type": "stream",
          "name": "stdout",
          "text": [
            "use_moses_detokenizer=False\n"
          ]
        }
      ]
    },
    {
      "cell_type": "markdown",
      "metadata": {
        "id": "-WtteF7Mu9r-"
      },
      "source": [
        "## Definición de parámetros del corpus y su preprocesado"
      ]
    },
    {
      "cell_type": "code",
      "metadata": {
        "id": "uhtm7a7aCIr_"
      },
      "source": [
        "corpus_url = \"https://www.gutenberg.org/cache/epub/11/pg11.txt\"\n",
        "corpus_path = \"lovecraft.txt\"\n",
        "preprocessed_corpus_path = \"lovecraft_preprocessed.p\"\n",
        "most_common_words_number = 10000\n"
      ],
      "execution_count": null,
      "outputs": []
    },
    {
      "cell_type": "markdown",
      "metadata": {
        "id": "kH8wS9yCvRXc"
      },
      "source": [
        "## Tranformación entre palabras e índices\n",
        "Se definen dos funciones:\n",
        "* **encode_sequence**: codifica una secuencia de palabras en una secuencia de índices\n",
        "* **decode_indices**: decodifica una secuencia de índices en la secuencia de palabras correspondiente"
      ]
    },
    {
      "cell_type": "code",
      "metadata": {
        "id": "6uqjM9GSKNxM"
      },
      "source": [
        "def encode_sequence(sequence, vocabulary):\n",
        "\n",
        "    return [vocabulary.index(element) for element in sequence if element in vocabulary]\n",
        "\n",
        "\n",
        "def decode_indices(indices, vocabulary):\n",
        "\n",
        "    decoded_tokens = [vocabulary[index] for index in indices]\n",
        "    if use_moses_detokenizer  == True:\n",
        "        return detokenizer.detokenize(decoded_tokens, return_str=True)\n",
        "    else:\n",
        "        return \" \".join(decoded_tokens)"
      ],
      "execution_count": null,
      "outputs": []
    },
    {
      "cell_type": "markdown",
      "metadata": {
        "id": "V0YFmoL9hXHi"
      },
      "source": [
        "## Descarga del corpus\n",
        "Solo se descarga si no se encuentra en local (Colab o disco)"
      ]
    },
    {
      "cell_type": "code",
      "metadata": {
        "colab": {
          "base_uri": "https://localhost:8080/"
        },
        "id": "U1NGiz_3hUru",
        "outputId": "2d1c4d82-e62f-4175-a776-f1ce4b17e022"
      },
      "source": [
        "import requests\n",
        "\n",
        "def download_corpus_if_necessary():\n",
        "\n",
        "    if not os.path.exists(corpus_path):\n",
        "       print(\"Descargamos el corpus...\")\n",
        "\n",
        "       # Descargamos el contenido\n",
        "       corpus_string = requests.get(corpus_url).content.decode('utf-8')\n",
        "\n",
        "       # Eliminamos etiquetas HTML\n",
        "       corpus_string = corpus_string.replace(\"<pre>\", \"\")\n",
        "       corpus_string = corpus_string.replace(\"</pre>\", \"\")\n",
        "\n",
        "       # Grabamos en fichero\n",
        "       corpus_file = open(corpus_path, \"w\")\n",
        "       corpus_file.write(corpus_string)\n",
        "       corpus_file.close()\n",
        "\n",
        "       print(\"El corpus se ha grabado en\", corpus_path)\n",
        "    else:\n",
        "       print(\"El corpus ya estaba grabado\")\n",
        "\n",
        "download_corpus_if_necessary()"
      ],
      "execution_count": null,
      "outputs": [
        {
          "output_type": "stream",
          "name": "stdout",
          "text": [
            "Descargamos el corpus...\n",
            "El corpus se ha grabado en lovecraft.txt\n"
          ]
        }
      ]
    },
    {
      "cell_type": "markdown",
      "metadata": {
        "id": "yd8FM41ODLCf"
      },
      "source": [
        "## Preprocesado del corpus\n",
        "Solo se preprocesa si no se ha hecho antes."
      ]
    },
    {
      "cell_type": "code",
      "metadata": {
        "colab": {
          "base_uri": "https://localhost:8080/"
        },
        "id": "ekKisSsb_fje",
        "outputId": "1a4c5283-8f0b-4e85-8710-9b8e3cbac28f"
      },
      "source": [
        "def preprocess_corpus_if_necessary():\n",
        "\n",
        "    if not os.path.exists(preprocessed_corpus_path):\n",
        "        print(\"Preprocesamos el corpus...\")\n",
        "\n",
        "        corpus_file = open(corpus_path, \"r\")\n",
        "        corpus_string = corpus_file.read()\n",
        "\n",
        "        # Generación del vocabulario\n",
        "        print(\"Extraemos las palabras (tokens)...\")\n",
        "        corpus_tokens = word_tokenize(corpus_string)\n",
        "        print(\"Número de tokens:\", len(corpus_tokens))\n",
        "        print(\"Generamos el vocabulario...\")\n",
        "        word_counter = Counter()\n",
        "        word_counter.update(corpus_tokens)\n",
        "        print(\"Longitud del vocabulario antes del corte:\", len(word_counter))\n",
        "        vocabulary = [key for key, value in word_counter.most_common(most_common_words_number)]\n",
        "        print(\"Longitud del vocabulario después del corte:\", len(vocabulary))\n",
        "\n",
        "        # Conversión a índices\n",
        "        print(\"Codificamos a índices...\")\n",
        "        indices = encode_sequence(corpus_tokens, vocabulary)\n",
        "        print(\"Número de índices:\", len(indices))\n",
        "\n",
        "        # Saving.\n",
        "        print(\"Grabamos fichero de preprocesado del corpus...\")\n",
        "        pickle.dump((indices, vocabulary), open(preprocessed_corpus_path, \"wb\"))\n",
        "    else:\n",
        "        print(\"El corpus ya estaba preprocesado\")\n",
        "\n",
        "\n",
        "\n",
        "preprocess_corpus_if_necessary()"
      ],
      "execution_count": null,
      "outputs": [
        {
          "output_type": "stream",
          "name": "stdout",
          "text": [
            "Preprocesamos el corpus...\n",
            "Extraemos las palabras (tokens)...\n",
            "Número de tokens: 36924\n",
            "Generamos el vocabulario...\n",
            "Longitud del vocabulario antes del corte: 3782\n",
            "Longitud del vocabulario después del corte: 3782\n",
            "Codificamos a índices...\n",
            "Número de índices: 36924\n",
            "Grabamos fichero de preprocesado del corpus...\n"
          ]
        }
      ]
    },
    {
      "cell_type": "markdown",
      "metadata": {
        "id": "uUGvyFcb0u4s"
      },
      "source": [
        "## Generación del dataset\n",
        "Enfocamos la generación del dataset como un **aprendizaje auto-supervisado (self-supervised learning)**:\n",
        "* para generar secuencias de entrada, seleccionamos de forma aleatoria una secuencia de índices (correspondientes a palabras) del corpus\n",
        "* para asignar una etiqueta, escogemos el índice de la palabra siguiente a la secuencia de entrada"
      ]
    },
    {
      "cell_type": "code",
      "metadata": {
        "id": "z79RLSh50veq"
      },
      "source": [
        "# Parámetros de generación del dataset\n",
        "dataset_size = 50000\n",
        "sequence_length = 30 # longitud de los textos del dataset de entrenamiento\n",
        "\n",
        "def get_dataset(indices):\n",
        "\n",
        "    data_input = []\n",
        "    data_output = []\n",
        "    current_size = 0\n",
        "    bar = progressbar.ProgressBar(max_value=dataset_size)\n",
        "    while current_size < dataset_size:\n",
        "\n",
        "        # seleccionamos de forma aleatoria una secuencia de índices (correspondientes a palabras)\n",
        "        random_index = random.randint(0, len(indices) - (sequence_length + 1))\n",
        "        input_sequence = indices[random_index:random_index + sequence_length]\n",
        "        # la etiqueta de la secuencia aleatoria es el índice de la siguiente palabra\n",
        "        output_label = indices[random_index + sequence_length]\n",
        "\n",
        "        data_input.append(input_sequence)\n",
        "        data_output.append(output_label)\n",
        "\n",
        "        current_size += 1\n",
        "        bar.update(current_size)\n",
        "    bar.finish()\n",
        "\n",
        "    # Transformamos las listas a numpy arrays\n",
        "    data_input = np.array(data_input)\n",
        "    data_output = np.array(data_output)\n",
        "    return (data_input, data_output)\n"
      ],
      "execution_count": null,
      "outputs": []
    },
    {
      "cell_type": "markdown",
      "metadata": {
        "id": "hHOclEylxLOR"
      },
      "source": [
        "## Definición de la red LSTM y entrenamiento\n",
        "Solo se define y entrena si no se ha hecho antes, o si se fuerza con el parámetro train_anyway.\n",
        "\n",
        "Por último, se graba el modelo."
      ]
    },
    {
      "cell_type": "code",
      "metadata": {
        "colab": {
          "base_uri": "https://localhost:8080/",
          "height": 1000
        },
        "id": "mDbtuIYeA8Rk",
        "outputId": "d6b49189-82f0-446a-e9c2-b37c33e47eb9"
      },
      "source": [
        "# Parámetros del modelo y entrenamiento\n",
        "train_anyway = True # fuerza el entrenamiento, aunque se haya realizado antes\n",
        "epochs = 10 # número de interaciones a entrenar\n",
        "batch_size = 128 # tamaño de lote\n",
        "hidden_size = 1000 # número de nodos en la red LSTM\n",
        "model_path = \"lovecraft_model.h5\"\n",
        "\n",
        "def train_neural_network():\n",
        "\n",
        "    if not os.path.exists(model_path) or train_anyway == True:\n",
        "\n",
        "        # Carga de las palabras del corpus y sus índices\n",
        "        indices, vocabulary = pickle.load(open(preprocessed_corpus_path, \"rb\"))\n",
        "\n",
        "        # Generación del dataset\n",
        "        print(\"\\nGeneramos el dataset...\")\n",
        "        data_input, data_output = get_dataset(indices)\n",
        "        data_output = to_categorical(data_output, num_classes=len(vocabulary))\n",
        "\n",
        "        # Creación del modelo\n",
        "        print(\"Creamos el modelo...\")\n",
        "\n",
        "        # COMPLETAR CODIGO (debes seguir las indicaciones de la actividad para generar la red LSTM)\n",
        "        model = models.Sequential()\n",
        "        model.add(layers.Embedding(input_dim = len(data_input), output_dim = 1000)) #Embedding, dimension de salida = 1000 grupos\n",
        "        model.add(layers.LSTM(1000)) #Capa LSTM\n",
        "        model.add(layers.Dense(len(vocabulary), activation='softmax')) #Capa lineal con el largo del vocabulario como tamaño de dimensión. La función de activación asignada es Softmax.\n",
        "        model.summary()\n",
        "\n",
        "        # Definimos el resto del modelo: optimizador, función de pérdidas y métrica\n",
        "        # COMPLETAR CODIGO\n",
        "        model.compile(\n",
        "            optimizer= \"adam\"\n",
        "            ,loss = \"categorical_crossentropy\"\n",
        "            ,metrics = \"categorical_accuracy\"\n",
        "        )\n",
        "\n",
        "\n",
        "        # Entrenamiento del modelo\n",
        "        print(\"Entrenamos el modelo...\")\n",
        "        # COMPLETAR CODIGO\n",
        "        history = model.fit(data_input\n",
        "                     ,data_output\n",
        "                     ,epochs=epochs\n",
        "                     ,batch_size=batch_size\n",
        "                     )\n",
        "        # Grabación del modelo\n",
        "        print(\"...y grabamos el modelo\")\n",
        "        model.save(model_path)\n",
        "\n",
        "        plot_history(history)\n",
        "\n",
        "\n",
        "def plot_history(history):\n",
        "\n",
        "    print(history.history.keys())\n",
        "\n",
        "    # Gráfica de función de pérdida\n",
        "    plt.plot(history.history['loss'])\n",
        "    plt.title('model loss')\n",
        "    plt.ylabel('loss')\n",
        "    plt.xlabel('epoch')\n",
        "    plt.legend(['train', 'test'], loc='upper left')\n",
        "    plt.savefig(\"history_loss.png\")\n",
        "    # plt.clf()\n",
        "    plt.show()\n",
        "    plt.close()\n",
        "\n",
        "    # Gráfica de accuracy.\n",
        "    plt.plot(history.history['categorical_accuracy'])\n",
        "    plt.title('model accuracy')\n",
        "    plt.ylabel('accuracy')\n",
        "    plt.xlabel('epoch')\n",
        "    plt.legend(['train', 'test'], loc='upper left')\n",
        "    plt.savefig(\"history_accuracy.png\")\n",
        "    # plt.clf()\n",
        "\n",
        "    plt.show()\n",
        "    plt.close()\n",
        "\n",
        "train_neural_network()"
      ],
      "execution_count": null,
      "outputs": [
        {
          "output_type": "stream",
          "name": "stderr",
          "text": [
            " 49% (24684 of 50000) |########          | Elapsed Time: 0:00:00 ETA:   0:00:00"
          ]
        },
        {
          "output_type": "stream",
          "name": "stdout",
          "text": [
            "\n",
            "Generamos el dataset...\n"
          ]
        },
        {
          "output_type": "stream",
          "name": "stderr",
          "text": [
            "100% (50000 of 50000) |##################| Elapsed Time: 0:00:00 Time:  0:00:00\n"
          ]
        },
        {
          "output_type": "stream",
          "name": "stdout",
          "text": [
            "Creamos el modelo...\n",
            "Model: \"sequential\"\n",
            "_________________________________________________________________\n",
            " Layer (type)                Output Shape              Param #   \n",
            "=================================================================\n",
            " embedding (Embedding)       (None, None, 1000)        50000000  \n",
            "                                                                 \n",
            " lstm (LSTM)                 (None, 1000)              8004000   \n",
            "                                                                 \n",
            " dense (Dense)               (None, 3782)              3785782   \n",
            "                                                                 \n",
            "=================================================================\n",
            "Total params: 61,789,782\n",
            "Trainable params: 61,789,782\n",
            "Non-trainable params: 0\n",
            "_________________________________________________________________\n",
            "Entrenamos el modelo...\n",
            "Epoch 1/10\n",
            "391/391 [==============================] - 40s 79ms/step - loss: 5.7206 - categorical_accuracy: 0.1251\n",
            "Epoch 2/10\n",
            "391/391 [==============================] - 32s 81ms/step - loss: 4.6597 - categorical_accuracy: 0.1941\n",
            "Epoch 3/10\n",
            "391/391 [==============================] - 32s 82ms/step - loss: 3.8487 - categorical_accuracy: 0.2648\n",
            "Epoch 4/10\n",
            "391/391 [==============================] - 32s 81ms/step - loss: 2.9994 - categorical_accuracy: 0.3780\n",
            "Epoch 5/10\n",
            "391/391 [==============================] - 32s 81ms/step - loss: 2.2058 - categorical_accuracy: 0.5202\n",
            "Epoch 6/10\n",
            "391/391 [==============================] - 32s 81ms/step - loss: 1.5289 - categorical_accuracy: 0.6632\n",
            "Epoch 7/10\n",
            "391/391 [==============================] - 32s 81ms/step - loss: 1.0186 - categorical_accuracy: 0.7809\n",
            "Epoch 8/10\n",
            "391/391 [==============================] - 32s 81ms/step - loss: 0.6497 - categorical_accuracy: 0.8684\n",
            "Epoch 9/10\n",
            "391/391 [==============================] - 32s 81ms/step - loss: 0.3913 - categorical_accuracy: 0.9290\n",
            "Epoch 10/10\n",
            "391/391 [==============================] - 32s 81ms/step - loss: 0.2228 - categorical_accuracy: 0.9669\n",
            "...y grabamos el modelo\n",
            "dict_keys(['loss', 'categorical_accuracy'])\n"
          ]
        },
        {
          "output_type": "display_data",
          "data": {
            "text/plain": [
              "<Figure size 432x288 with 1 Axes>"
            ],
            "image/png": "[encoded data removed]"
          },
          "metadata": {
            "needs_background": "light"
          }
        },
        {
          "output_type": "display_data",
          "data": {
            "text/plain": [
              "<Figure size 432x288 with 1 Axes>"
            ],
            "image/png": "[encoded data removed]"
          },
          "metadata": {
            "needs_background": "light"
          }
        }
      ]
    },
    {
      "cell_type": "markdown",
      "metadata": {
        "id": "MCzZpOgI3U-T"
      },
      "source": [
        "## Generación de texto\n",
        "\n",
        "La generación de texto se basa en la función **get_index_from_prediction**, que obtiene un índice a partir de una predicción y un parámetro de temperatura"
      ]
    },
    {
      "cell_type": "code",
      "metadata": {
        "colab": {
          "base_uri": "https://localhost:8080/"
        },
        "id": "mry9VsvlW2yU",
        "outputId": "cd25bc06-6869-4ba4-8d54-93a92fcfd1c2"
      },
      "source": [
        "# Parámetros de generación de texto\n",
        "generated_sequence_length = 50 # longitud de los textos generados\n",
        "n_generated_texts = 15 # número de textos a generar\n",
        "\n",
        "def generate_texts(n_generated_texts=10):\n",
        "\n",
        "    print(f\"Generamos {n_generated_texts} textos...\")\n",
        "\n",
        "    # carga del corpus\n",
        "    indices, vocabulary = pickle.load(open(preprocessed_corpus_path, \"rb\"))\n",
        "\n",
        "    # carga del modelo previamente grabado\n",
        "    model = models.load_model(model_path)\n",
        "\n",
        "    # Generamos tantos textos como indique el parámetro n_generated_texts\n",
        "    for _ in range(n_generated_texts):\n",
        "\n",
        "        # Escogemos un parámetro aleatorio \"temperature\" para la predicción\n",
        "        temperature = random.uniform(0.0, 1.0)\n",
        "        print(\"Temperatura:\", temperature)\n",
        "\n",
        "        # Obtenemos una muestra aleatoria a modo de secuencia semilla a partir de la cual se generarán textos\n",
        "        random_index = random.randint(0, len(indices) - (generated_sequence_length))\n",
        "        input_sequence = indices[random_index:random_index + sequence_length]\n",
        "\n",
        "        # Generamos la secuenca de salida repitiendo la predicción\n",
        "        generated_sequence = []\n",
        "        while len(generated_sequence) < generated_sequence_length:\n",
        "            prediction = model.predict(np.expand_dims(input_sequence, axis=0))\n",
        "            predicted_index = get_index_from_prediction(prediction[0], temperature)\n",
        "            generated_sequence.append(predicted_index)\n",
        "            input_sequence = input_sequence[1:]\n",
        "            input_sequence.append(predicted_index)\n",
        "\n",
        "        # Convertimos la secuencia de índices generada en una frase\n",
        "        text = decode_indices(generated_sequence, vocabulary)\n",
        "        print(text)\n",
        "        print(\"\")\n",
        "\n",
        "\n",
        "def get_index_from_prediction(prediction, temperature=0.0):\n",
        "\n",
        "    # Temperatura cero - usamos argmax.\n",
        "    if temperature == 0.0:\n",
        "        return np.argmax(prediction)\n",
        "\n",
        "    # Temperatura distinta de cero - aplicamos cierta aleatoriedad\n",
        "    else:\n",
        "        prediction = np.asarray(prediction).astype('float64')\n",
        "        prediction = np.log(prediction) / temperature\n",
        "        exp_prediction= np.exp(prediction)\n",
        "        prediction = exp_prediction / np.sum(exp_prediction)\n",
        "        probabilities = np.random.multinomial(1, prediction, 1)\n",
        "        return np.argmax(probabilities)\n",
        "\n",
        "\n",
        "generate_texts(n_generated_texts)"
      ],
      "execution_count": null,
      "outputs": [
        {
          "output_type": "stream",
          "name": "stdout",
          "text": [
            "Generamos 15 textos...\n",
            "Temperatura: 0.6974542526282624\n",
            "small again , that is -- ' ' I 've read that it , ' said Alice . ' I do n't know what they 're too , ' said the Mock Turtle angrily : 'really you would be a LITTLE larger , ' added the Gryphon . 'Well ,\n",
            "\n",
            "Temperatura: 0.20501331661592992\n",
            "in despair she heard it out of sight , and till she could not think of any tears . ' I wish I had finished the trial , ' said Alice very humbly : 'you had got to go , but her . ' I 've read that , '\n",
            "\n",
            "Temperatura: 0.7246878960537537\n",
            "? -- Mind that makes me grow out again ! I will like a bit -- a pig , and makes this moment they could . ' 'So they were this , and she ran out again . As soon she tried to go , and 'd 'll take nothing\n",
            "\n",
            "Temperatura: 0.8959230318505749\n",
            "the little bottle ; then , alas ! she was walking to them a wink of further ; but she had no use going up so , and she thought she was so VERY much of little bottle , but she felt ever know that she was now . At\n",
            "\n",
            "Temperatura: 0.2801426966956778\n",
            "' 'Ca n't remember about , ' said the Caterpillar . 'Well , I 've seen them -- ' As they began ; ' I must be so small . Alice replied very politely , but to Alice ; 'but I 'm not tired of this time . ' I\n",
            "\n",
            "Temperatura: 0.26968256268523205\n",
            ". 'Of course they were ' , said , with a great hurry to change the subject . 'Ten hours the Queen , ' he said , 'than waste twice , ' the Mock Turtle said , turning to the jury . They were just beginning to write this down\n",
            "\n",
            "Temperatura: 0.11581182384711974\n",
            ", 'Bring me the list of the singers in the last concert ! ' on the Gryphon , with a shrill , of the Queen of the crowd of her sister ! ' on the Gryphon . The Hatter shook the cook would the Hatter , and , as she\n",
            "\n",
            "Temperatura: 0.054557913235436906\n",
            "she had looked under the words for it , and found quite a crowd of little animals , and she had never been so much about her head , so she was going to herself , and she was quite pleased to find that . 'But perhaps they 'll be\n",
            "\n",
            "Temperatura: 0.6661835247143091\n",
            "ears like the Duchess , the royal children she had a large idea that she left to leave off back to the table , and went back to the table , the puppy was the least notice was her chin : She had got to go before , as she\n",
            "\n",
            "Temperatura: 0.4741281358938113\n",
            "up as the March Hare . The first difficulty was that that she was , as it as it was ) across her mouth , and till she found it over into a cucumber-frame small , and the words did seemed quite be the same as she went on ,\n",
            "\n",
            "Temperatura: 0.24088913485651842\n",
            "the Mock Turtle ; 'but I must be so , ' the Mock Turtle said : 'advance twice , so that 's an offended of the trial 's place , and then the King 's voice of its voice . 'You did ! ' said the Duchess : she had\n",
            "\n",
            "Temperatura: 0.011263470677212228\n",
            "The soldiers were silent , and told Alice Alice ; so he was the same thing , that the King said to , ' -- the Dormouse had nothing said to Alice , very earnestly -- 'You must go , and wag the thimble , ' I did n't !\n",
            "\n",
            "Temperatura: 0.4421074379417018\n",
            "it again . ' 'If that she was going on like the Queen , it woke on . ' 'It 's the very thing , ' said the King ; 'and do n't be nervous or lobsters , or now . ' 'What did you mean , ' said the\n",
            "\n",
            "Temperatura: 0.9618819454180442\n",
            ", they began moving about again , and Alice quite pleased even alone with the croquet-ground The little bit , and thought , to be great grand , when she had grown so into the garden it was , only about the time that it was not mind safe and\n",
            "\n",
            "Temperatura: 0.5133653565634152\n",
            "head sadly . ) 'That 's the best of educations -- ' the March Hare meekly meekly ! ' -- the Queen had meekly off , without some of the other voice , and the choking of the Hatter of the table that the list of the singers in the\n",
            "\n"
          ]
        }
      ]
    }
  ]
}