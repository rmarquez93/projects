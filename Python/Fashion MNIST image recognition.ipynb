{
  "nbformat": 4,
  "nbformat_minor": 0,
  "metadata": {
    "colab": {
      "provenance": []
    },
    "kernelspec": {
      "name": "python3",
      "display_name": "Python 3"
    },
    "language_info": {
      "name": "python"
    },
    "accelerator": "GPU",
    "gpuClass": "standard"
  },
  "cells": [
    {
      "cell_type": "code",
      "execution_count": null,
      "metadata": {
        "id": "BRWG5yi18gX9"
      },
      "outputs": [],
      "source": [
        "import tensorflow as tf\n",
        "from tensorflow import keras\n",
        "\n",
        "import numpy as np\n",
        "import matplotlib.pyplot as plt\n",
        "import pandas as pd\n",
        "from sklearn.model_selection import train_test_split\n",
        "\n",
        "from time import time\n",
        "import datetime\n",
        "from sklearn.svm import SVC\n",
        "from sklearn.decomposition import PCA\n",
        "from sklearn.model_selection import learning_curve,GridSearchCV\n",
        "\n",
        "from sklearn.metrics import confusion_matrix,classification_report\n",
        "from sklearn.preprocessing import StandardScaler"
      ]
    },
    {
      "cell_type": "code",
      "source": [
        "fashion_mnist = keras.datasets.fashion_mnist\n",
        "mnist = keras.datasets.mnist"
      ],
      "metadata": {
        "id": "OZymQ3A9KNu3"
      },
      "execution_count": null,
      "outputs": []
    },
    {
      "cell_type": "markdown",
      "source": [
        "Comienzo el ejercicio cargando los datasets desde Tensorflow. Según la documentación del Dataset, se hace una carga de Arrays y se generan 4 variables (features y variable objetivo tanto en train como en test) ya que la información viene contenida en formato de tuplas. "
      ],
      "metadata": {
        "id": "Uontg7CDshG1"
      }
    },
    {
      "cell_type": "code",
      "source": [
        "(x_train_mnist, y_train_mnist), (x_test_mnist, y_test_mnist) = mnist.load_data()\n",
        "(x_train_fashion, y_train_fashion), (x_test_fashion,y_test_fashion) = fashion_mnist.load_data()"
      ],
      "metadata": {
        "id": "72Prw55q87FT"
      },
      "execution_count": null,
      "outputs": []
    },
    {
      "cell_type": "markdown",
      "source": [
        "Como segundo paso observo cómo está compuesto un objeto de cada Dataframe para entender la información que contienen. \n",
        "\n",
        "Para esto, utilizo imshow del paquete de matplotlib el cual se encarga de generar imágenes con base en la información del array (según un patrón de RGB, por ejemplo)."
      ],
      "metadata": {
        "id": "AXCtIebetGkU"
      }
    },
    {
      "cell_type": "code",
      "source": [
        "plt.figure()\n",
        "plt.imshow(x_train_fashion[600])\n",
        "plt.colorbar()\n",
        "plt.grid(False)\n",
        "plt.show()"
      ],
      "metadata": {
        "colab": {
          "base_uri": "https://localhost:8080/",
          "height": 266
        },
        "id": "KIazAH9H9Bmi",
        "outputId": "3be19dab-b556-4bb5-8576-7d03e3c7baf6"
      },
      "execution_count": null,
      "outputs": [
        {
          "output_type": "display_data",
          "data": {
            "text/plain": [
              "<Figure size 432x288 with 2 Axes>"
            ],
            "image/png": "[encoded data removed]"
          },
          "metadata": {
            "needs_background": "light"
          }
        }
      ]
    },
    {
      "cell_type": "code",
      "source": [
        "print(\"Largo de todo el dataset de fashion mnist TRAIN: {}\".format(len(x_train_fashion)))\n",
        "print(\"Largo del array: {}\".format(len(x_train_fashion[600])))\n",
        "print(\"Largo del primer objeto del array: {}\".format(len(x_train_fashion[600][1])))"
      ],
      "metadata": {
        "id": "nLqe5jfu9EqF",
        "colab": {
          "base_uri": "https://localhost:8080/"
        },
        "outputId": "cf82ca01-1c83-408d-eb37-0ada25c3699d"
      },
      "execution_count": null,
      "outputs": [
        {
          "output_type": "stream",
          "name": "stdout",
          "text": [
            "Largo de todo el dataset de fashion mnist TRAIN: 60000\n",
            "Largo del array: 28\n",
            "Largo del primer objeto del array: 28\n"
          ]
        }
      ]
    },
    {
      "cell_type": "markdown",
      "source": [
        "Lo que quiere decir lo anterior es que dentro del dataset de fashion mnist se encuentran 60000 items. Dentro de cada uno de los mismos, a su vez, se componen arrays de 28 x 28 pixeles donde se informa la escala de color."
      ],
      "metadata": {
        "id": "CIZjK6FjuLLX"
      }
    },
    {
      "cell_type": "code",
      "source": [
        "plt.figure()\n",
        "plt.imshow(x_train_mnist[600])\n",
        "plt.colorbar()\n",
        "plt.grid(False)\n",
        "plt.show()"
      ],
      "metadata": {
        "colab": {
          "base_uri": "https://localhost:8080/",
          "height": 265
        },
        "id": "GPojqZMZuqPp",
        "outputId": "f40c4cae-861b-4567-f582-f3158cbd8590"
      },
      "execution_count": null,
      "outputs": [
        {
          "output_type": "display_data",
          "data": {
            "text/plain": [
              "<Figure size 432x288 with 2 Axes>"
            ],
            "image/png": "[encoded data removed]"
          },
          "metadata": {
            "needs_background": "light"
          }
        }
      ]
    },
    {
      "cell_type": "code",
      "source": [
        "print(\"Largo de todo el dataset de mnist TRAIN: {}\".format(len(x_train_mnist)))\n",
        "print(\"Largo del array: {}\".format(len(x_train_mnist[600])))\n",
        "print(\"Largo del primer objeto del array: {}\".format(len(x_train_mnist[600][1])))"
      ],
      "metadata": {
        "colab": {
          "base_uri": "https://localhost:8080/"
        },
        "id": "s1-ZNo7QvMHX",
        "outputId": "537c5935-da79-445c-8d6c-bf778c7fe97c"
      },
      "execution_count": null,
      "outputs": [
        {
          "output_type": "stream",
          "name": "stdout",
          "text": [
            "Largo de todo el dataset de mnist TRAIN: 60000\n",
            "Largo del array: 28\n",
            "Largo del primer objeto del array: 28\n"
          ]
        }
      ]
    },
    {
      "cell_type": "markdown",
      "source": [
        "Se puede observar que ambos datasets están compuestos por representaciones de imágenes, en formato unidimensional, que refieren a números del 0 al 9 (en el caso de mnist) y de distintos tipos de ropa (en el caso de fashion mnist)."
      ],
      "metadata": {
        "id": "WiPbcrNluvS1"
      }
    },
    {
      "cell_type": "code",
      "source": [
        "#Observación del número de clases que hay para cada dataset\n",
        "\n",
        "print(\"Valores únicos de clase para fashion mnist: {}, \\nTotal de clases: {}\".format(np.unique(y_train_fashion),\n",
        "                                                                           len(np.unique(y_train_fashion))))\n",
        "\n",
        "print(\"\\nValores únicos de clase para mnist: {}, \\nTotal de clases: {}\".format(np.unique(y_train_mnist),\n",
        "                                                                           len(np.unique(y_train_mnist))))"
      ],
      "metadata": {
        "colab": {
          "base_uri": "https://localhost:8080/"
        },
        "id": "k3K64Z9JvCHo",
        "outputId": "a7f9fb4e-1027-44dc-c8e7-896478e4f6e9"
      },
      "execution_count": null,
      "outputs": [
        {
          "output_type": "stream",
          "name": "stdout",
          "text": [
            "Valores únicos de clase para fashion mnist: [0 1 2 3 4 5 6 7 8 9], \n",
            "Total de clases: 10\n",
            "\n",
            "Valores únicos de clase para mnist: [0 1 2 3 4 5 6 7 8 9], \n",
            "Total de clases: 10\n"
          ]
        }
      ]
    },
    {
      "cell_type": "markdown",
      "source": [
        "# Reducción de dimensionalidad para los datasets"
      ],
      "metadata": {
        "id": "3byyI-sgxbdP"
      }
    },
    {
      "cell_type": "markdown",
      "source": [
        "Comienzo generando subconjuntos de test y train con los datasets ya disponibles."
      ],
      "metadata": {
        "id": "HfsJWkKExY-7"
      }
    },
    {
      "cell_type": "code",
      "source": [
        "#Conversión set MNIST\n",
        "\n",
        "Xtrain_mnist, Xtest, Ytrain_mnist, Ytest = train_test_split(x_train_mnist, y_train_mnist, test_size=(4/6), random_state=420)\n",
        "\n",
        "#Largo del dataset de entrenamiento de acuerdo a lo solicitado en el ejercicio\n",
        "print(len(Xtrain_mnist))\n",
        "print(len(Ytrain_mnist))\n",
        "\n",
        "#Elimino los sets de test ya que utilizaré el otro DF completo.\n",
        "del Xtest\n",
        "del Ytest"
      ],
      "metadata": {
        "colab": {
          "base_uri": "https://localhost:8080/"
        },
        "id": "7wieGIanvwdj",
        "outputId": "2e2106a8-ff86-4e05-9ce3-e20bb43fb984"
      },
      "execution_count": null,
      "outputs": [
        {
          "output_type": "stream",
          "name": "stdout",
          "text": [
            "20000\n",
            "20000\n"
          ]
        }
      ]
    },
    {
      "cell_type": "markdown",
      "source": [
        "A partir de la explicación anterior, donde se comentaba que los dataset estaban compuestos por elementos que tenían (dentro de cada uno de ellos) una forma de 28 elementos con 28 elementos anidados, procedo a generar un array unidimensional donde cada elemento esté representado únicamente por un array."
      ],
      "metadata": {
        "id": "qS-sy3db2pIB"
      }
    },
    {
      "cell_type": "code",
      "source": [
        "Xtrain_mnist = np.reshape(np.array(Xtrain_mnist), (20000, 28*28))\n",
        "x_test_mnist = np.reshape(np.array(x_test_mnist), (10000, 28*28))\n",
        "\n",
        "print(\"Forma de array de entrenamiento: {} \\nForma de array de testing: {}\".format(np.shape(Xtrain_mnist), np.shape(x_test_mnist)))"
      ],
      "metadata": {
        "colab": {
          "base_uri": "https://localhost:8080/"
        },
        "id": "9ZeAhJaS0Tbu",
        "outputId": "f0af886e-a875-4b2c-a75a-b2755576eb4e"
      },
      "execution_count": null,
      "outputs": [
        {
          "output_type": "stream",
          "name": "stdout",
          "text": [
            "Forma de array de entrenamiento: (20000, 784) \n",
            "Forma de array de testing: (10000, 784)\n"
          ]
        }
      ]
    },
    {
      "cell_type": "markdown",
      "source": [
        "Antes de comenzar a realizar el PCA, estandarizo el set de datos (media 0 y desviación típica 1 de los datos) para mejorar el procesamiento de cálculo de los algoritmos de clasificación.\n",
        "\n",
        "Para efectuar la reducción de dimensionalidad paso a generar un PCA que permita comprimir las imágenes y, por lo tanto, minimizar la cantidad de features de los dataframes. El punto clave en esta reducción radicará entonces en que la varianza se encuentra en la mayor medida de los posible correctamente explicada por el PCA generado."
      ],
      "metadata": {
        "id": "P-yAtlekxgX2"
      }
    },
    {
      "cell_type": "code",
      "source": [
        "#Genero un PCA con el total de features para ver la varianza acumulada explicada en el PCA dependiendo la cantidad de componentes.\n",
        "\n",
        "scaler = StandardScaler()\n",
        "x_standared_mnist = scaler.fit_transform(Xtrain_mnist)\n",
        "\n",
        "pca_784 = PCA(n_components=784)\n",
        "pca_784.fit(x_standared_mnist)\n",
        "\n",
        "plt.grid()\n",
        "plt.plot(np.cumsum(pca_784.explained_variance_ratio_ * 100))\n",
        "plt.xlabel('Cantidad de componentes')\n",
        "plt.ylabel('Varianza explicada')\n",
        "plt.show()"
      ],
      "metadata": {
        "colab": {
          "base_uri": "https://localhost:8080/",
          "height": 279
        },
        "id": "qgj3guuS2ghv",
        "outputId": "54e052ad-627a-4f23-8e76-af107ce377af"
      },
      "execution_count": null,
      "outputs": [
        {
          "output_type": "display_data",
          "data": {
            "text/plain": [
              "<Figure size 432x288 with 1 Axes>"
            ],
            "image/png": "[encoded data removed]"
          },
          "metadata": {
            "needs_background": "light"
          }
        }
      ]
    },
    {
      "cell_type": "markdown",
      "source": [
        "Al generar el PCA con el total de componentes e ir viendo la evolución de la varianza explicada, tomo como 200 el número de componentes óptimos que permitirán reducir la dimensionalidad sin afectar la calidad de la información."
      ],
      "metadata": {
        "id": "IpBFVPdf4O1A"
      }
    },
    {
      "cell_type": "code",
      "source": [
        "pca_200_mnist = PCA(n_components=200)\n",
        "\n",
        "#Nuevo dataset de training con PCA y estandarización\n",
        "\n",
        "mnist_pca_200_reduced = pca_200_mnist.fit_transform(x_standared_mnist)\n",
        "\n",
        "#Para volver al tipo de datos original, procedo a hacer una inverse transform del PCA y, posteriormente, de la standarización.\n",
        "\n",
        "mnist_pca_200_recovered = scaler.inverse_transform(pca_200_mnist.inverse_transform(mnist_pca_200_reduced))"
      ],
      "metadata": {
        "id": "g-SUtmZW2zr1"
      },
      "execution_count": null,
      "outputs": []
    },
    {
      "cell_type": "markdown",
      "source": [
        "Una vez generada la reducción, se puede ver debajo que el resultado es satisfactorio. Al reducir la dimensionalidad, la imagen aún así se mantiene distinguible."
      ],
      "metadata": {
        "id": "lwwQQ1yO4uzY"
      }
    },
    {
      "cell_type": "code",
      "source": [
        "image_pca_10 = mnist_pca_200_recovered[600].reshape([28,28])\n",
        "plt.imshow(image_pca_10)\n",
        "plt.colorbar()\n",
        "plt.title('Imagen con 200 componentes', fontsize=15, pad=15)\n",
        "plt.show()"
      ],
      "metadata": {
        "colab": {
          "base_uri": "https://localhost:8080/",
          "height": 292
        },
        "id": "QutUXnWO3AO9",
        "outputId": "2c5bc993-3d89-46a2-f391-b3ec68899651"
      },
      "execution_count": null,
      "outputs": [
        {
          "output_type": "display_data",
          "data": {
            "text/plain": [
              "<Figure size 432x288 with 2 Axes>"
            ],
            "image/png": "[encoded data removed]"
          },
          "metadata": {
            "needs_background": "light"
          }
        }
      ]
    },
    {
      "cell_type": "code",
      "source": [
        "plt.imshow(Xtrain_mnist[600].reshape([28,28]))\n",
        "plt.colorbar()\n",
        "plt.title('Imagen con original - 784 componentes', fontsize=15, pad=15)\n",
        "plt.show()"
      ],
      "metadata": {
        "colab": {
          "base_uri": "https://localhost:8080/",
          "height": 292
        },
        "id": "KI_be5x23kwt",
        "outputId": "d7e41f18-6b12-4ab3-91d7-09a6c7094ae4"
      },
      "execution_count": null,
      "outputs": [
        {
          "output_type": "display_data",
          "data": {
            "text/plain": [
              "<Figure size 432x288 with 2 Axes>"
            ],
            "image/png": "[encoded data removed]"
          },
          "metadata": {
            "needs_background": "light"
          }
        }
      ]
    },
    {
      "cell_type": "markdown",
      "source": [
        "Repito los mismos pasos, para el set de Fashion MNIST."
      ],
      "metadata": {
        "id": "bEj9x3rW6Si2"
      }
    },
    {
      "cell_type": "code",
      "source": [
        "#Conversión Fashion MNIST\n",
        "\n",
        "Xtrain_fashion, Xtest, Ytrain_fashion, Ytest = train_test_split(x_train_fashion, y_train_fashion, test_size=(4/6), random_state=420)\n",
        "\n",
        "#Largo del dataset de entrenamiento de acuerdo a lo solicitado en el ejercicio\n",
        "print(len(Xtrain_fashion))\n",
        "print(len(Ytrain_fashion))\n",
        "\n",
        "#Elimino los sets de test ya que utilizaré el otro DF completo.\n",
        "del Xtest\n",
        "del Ytest"
      ],
      "metadata": {
        "colab": {
          "base_uri": "https://localhost:8080/"
        },
        "id": "couXJ8HVCRf6",
        "outputId": "e9ce04c0-9d59-4c29-c6ba-54a8945facef"
      },
      "execution_count": null,
      "outputs": [
        {
          "output_type": "stream",
          "name": "stdout",
          "text": [
            "20000\n",
            "20000\n"
          ]
        }
      ]
    },
    {
      "cell_type": "code",
      "source": [
        "Xtrain_fashion = np.reshape(np.array(Xtrain_fashion), (20000, 28*28))\n",
        "x_test_fashion = np.reshape(np.array(x_test_fashion), (10000, 28*28))\n",
        "\n",
        "print(\"Forma de array de entrenamiento: {} \\nForma de array de testing: {}\".\n",
        "      format(np.shape(Xtrain_fashion), np.shape(x_test_fashion)))"
      ],
      "metadata": {
        "colab": {
          "base_uri": "https://localhost:8080/"
        },
        "id": "KRW22FpiCwRd",
        "outputId": "e9e5ed18-483f-4b39-9a4e-bddbf7a6747d"
      },
      "execution_count": null,
      "outputs": [
        {
          "output_type": "stream",
          "name": "stdout",
          "text": [
            "Forma de array de entrenamiento: (20000, 784) \n",
            "Forma de array de testing: (10000, 784)\n"
          ]
        }
      ]
    },
    {
      "cell_type": "code",
      "source": [
        "#Genero un PCA con el total de features para ver la varianza acumulada explicada en el PCA dependiendo la cantidad de componentes.\n",
        "\n",
        "\n",
        "scaler = StandardScaler()\n",
        "x_standared = scaler.fit_transform(Xtrain_fashion)\n",
        "\n",
        "\n",
        "pca_784 = PCA(n_components=784)\n",
        "pca_784.fit(x_standared)\n",
        "\n",
        "plt.grid()\n",
        "plt.plot(np.cumsum(pca_784.explained_variance_ratio_ * 100))\n",
        "plt.xlabel('Cantidad de componentes')\n",
        "plt.ylabel('Varianza explicada')\n",
        "plt.show()"
      ],
      "metadata": {
        "colab": {
          "base_uri": "https://localhost:8080/",
          "height": 279
        },
        "id": "rIUtZvxE6Wd4",
        "outputId": "6ad754ce-bae8-43ae-efd9-3cc11b232814"
      },
      "execution_count": null,
      "outputs": [
        {
          "output_type": "display_data",
          "data": {
            "text/plain": [
              "<Figure size 432x288 with 1 Axes>"
            ],
            "image/png": "[encoded data removed]"
          },
          "metadata": {
            "needs_background": "light"
          }
        }
      ]
    },
    {
      "cell_type": "markdown",
      "source": [
        "Se puede observar que, a diferencia de el set MNIST, en este caso se requerirán mas componentes para continuar explicando la varianza en un valor aceptable. A pesar de lo anterior, decido tomar 200 componentes a efectos de comparabilidad. "
      ],
      "metadata": {
        "id": "JnAR6t2r6ovg"
      }
    },
    {
      "cell_type": "code",
      "source": [
        "pca_200_fashionmnist = PCA(n_components=200)\n",
        "\n",
        "#Nuevo dataset de training con PCA y estandarización\n",
        "\n",
        "fashionmnist_pca_200_reduced = pca_200_fashionmnist.fit_transform(x_standared)\n",
        "\n",
        "#Para volver al tipo de datos original, procedo a hacer una inverse transform del PCA y, posteriormente, de la standarización.\n",
        "\n",
        "fashionmnist_pca_200_recovered = scaler.inverse_transform(pca_200_fashionmnist.inverse_transform(fashionmnist_pca_200_reduced))"
      ],
      "metadata": {
        "id": "PPQycS9d6g54"
      },
      "execution_count": null,
      "outputs": []
    },
    {
      "cell_type": "code",
      "source": [
        "image_pca_10 = fashionmnist_pca_200_recovered[100].reshape([28,28])\n",
        "plt.imshow(image_pca_10)\n",
        "plt.colorbar()\n",
        "plt.title('Imagen con 200 componentes', fontsize=15, pad=15)\n",
        "plt.show()"
      ],
      "metadata": {
        "colab": {
          "base_uri": "https://localhost:8080/",
          "height": 292
        },
        "id": "dwZY6czX6ciL",
        "outputId": "5f15568c-928f-4103-ec0c-9958815a6b5d"
      },
      "execution_count": null,
      "outputs": [
        {
          "output_type": "display_data",
          "data": {
            "text/plain": [
              "<Figure size 432x288 with 2 Axes>"
            ],
            "image/png": "[encoded data removed]"
          },
          "metadata": {
            "needs_background": "light"
          }
        }
      ]
    },
    {
      "cell_type": "code",
      "source": [
        "plt.imshow(Xtrain_fashion[100].reshape([28,28]))\n",
        "plt.colorbar()\n",
        "plt.title('Imagen con original - 784 componentes', fontsize=15, pad=15)\n",
        "plt.show()"
      ],
      "metadata": {
        "colab": {
          "base_uri": "https://localhost:8080/",
          "height": 292
        },
        "id": "Uv0VR5156jlJ",
        "outputId": "3418cbd3-784d-431f-eb19-c8170512bce5"
      },
      "execution_count": null,
      "outputs": [
        {
          "output_type": "display_data",
          "data": {
            "text/plain": [
              "<Figure size 432x288 with 2 Axes>"
            ],
            "image/png": "[encoded data removed]"
          },
          "metadata": {
            "needs_background": "light"
          }
        }
      ]
    },
    {
      "cell_type": "markdown",
      "source": [
        "Una vez generados ambos PCA, continúo utilzándolos como bases de trabajo para minimizar los tiempos computacionales."
      ],
      "metadata": {
        "id": "O8Yz14-53hJy"
      }
    },
    {
      "cell_type": "markdown",
      "source": [
        "# Modelo SVM para dataset MNIST\n"
      ],
      "metadata": {
        "id": "oAZOtkK5xTHI"
      }
    },
    {
      "cell_type": "markdown",
      "source": [
        "Como primer paso para el modelo con kerneal lineal, procedo a genera un gridsearch para encontrar el parámetro C óptimo.\n",
        "\n",
        "Para el modelo mnist voy a utilizar dos tipos de datos: para el modelo con kernel lineal utilizaré los datos tal y como están (sin escalar ni dimensionalidad reducida) mientras que para el kernel gausiano usaré el PCA. \n",
        "\n",
        "El motivo de esta decisión es por los tiempos de cómputos de los modelos y buscar la mejor alternativa para este objetivo didáctico."
      ],
      "metadata": {
        "id": "dwbC3f315enb"
      }
    },
    {
      "cell_type": "code",
      "source": [
        "parameters = [{'kernel': ['linear'], 'C': [1, 10, 100, 1000],  'probability': [False], 'gamma': ['scale']}]\n",
        "\n",
        "timeIni = time()\n",
        "grid = GridSearchCV(SVC(), parameters)\n",
        "grid.fit(Xtrain_mnist, Ytrain_mnist)\n",
        "timeEnd = time()\n",
        "timeDiff = datetime.datetime.fromtimestamp(timeEnd-timeIni).strftime(\"%M:%S:%f\")\n",
        "\n",
        "print(\"La mejor parametrización para la SVM (en el conjunto de training) es: \", grid.best_params_)\n",
        "print(\"Tiempo necesario para su cómputo: \", timeDiff)"
      ],
      "metadata": {
        "colab": {
          "base_uri": "https://localhost:8080/"
        },
        "id": "T3TcvHKRywWZ",
        "outputId": "73dc3c34-26a7-4d2c-f66c-36490c210350"
      },
      "execution_count": null,
      "outputs": [
        {
          "output_type": "stream",
          "name": "stdout",
          "text": [
            "La mejor parametrización para la SVM (en el conjunto de training) es:  {'C': 1, 'gamma': 'scale', 'kernel': 'linear', 'probability': False}\n",
            "Tiempo necesario para su cómputo:  08:41:756004\n"
          ]
        }
      ]
    },
    {
      "cell_type": "markdown",
      "source": [
        "A partir de la búsqueda grid que se hizo, el parámetro C ideal parece ser 1 para optimizar el modelo. \n",
        "\n",
        "Con lo anterior en mente, genero una iteración para cada valor de C con el fin de conocer mejor los valores devueltos por cada uno de los modelos al hacer fit sobre los datos de testing. \n",
        "\n",
        "En una primera instancia, genero el PCA también en los datos de test para que puedan ser utilizados en el modelo."
      ],
      "metadata": {
        "id": "1w7rLJiM7X_F"
      }
    },
    {
      "cell_type": "code",
      "source": [
        "minAcc = 100\n",
        "maxAcc = 0\n",
        "rapidoAcc = 0\n",
        "lentoAcc = 0\n",
        "mejorTime = 0\n",
        "peorTime = 0\n",
        "minTime = 1000000000\n",
        "maxTime = 0\n",
        "\n",
        "mejorModelo = SVC()\n",
        "peorModelo = SVC()\n",
        "rapidoModelo = SVC()\n",
        "lentoModelo = SVC()\n",
        "\n",
        "\n",
        "kernel = \"linear\"\n",
        "\n",
        "for c in (1, 10, 100, 1000):\n",
        "  print(\"Kernel lineal con C=\", c)\n",
        "  \n",
        "  timeIni = time()\n",
        "  modelo = SVC(kernel = kernel, C=c, probability = False, gamma = \"scale\").fit(Xtrain_mnist,Ytrain_mnist)\n",
        "  print(modelo)\n",
        "  timeEnd = time()\n",
        "  timeDiff = datetime.datetime.fromtimestamp(timeEnd-timeIni).strftime(\"%M:%S:%f\")\n",
        "\n",
        "  acc = modelo.score(x_test_mnist, y_test_mnist)\n",
        "  print(\"Precisión (accuracy): \", acc)\n",
        "  print(\"Tiempo entrenamiento: \", timeDiff)\n",
        "\n",
        "  predicciones = modelo.predict(x_test_mnist)\n",
        "  print(\"Matriz de confusión:\")\n",
        "  print(confusion_matrix(y_test_mnist, predicciones))\n",
        "  print(classification_report(y_test_mnist, predicciones))\n",
        "  print(\"---------------------------------------\")\n",
        "  print()\n"
      ],
      "metadata": {
        "colab": {
          "base_uri": "https://localhost:8080/"
        },
        "id": "y_gBMtj47lNJ",
        "outputId": "2a0119c7-90d2-4729-bd28-84414c8c8d9d"
      },
      "execution_count": null,
      "outputs": [
        {
          "output_type": "stream",
          "name": "stdout",
          "text": [
            "Kernel lineal con C= 1\n",
            "SVC(C=1, kernel='linear')\n",
            "Precisión (accuracy):  0.9148\n",
            "Tiempo entrenamiento:  00:39:837258\n",
            "Matriz de confusión:\n",
            "[[ 961    0    2    2    1    5    8    1    0    0]\n",
            " [   0 1121    1    2    0    1    3    0    7    0]\n",
            " [  17    6  948   14   10    0   12    7   17    1]\n",
            " [   7    5   15  895    2   37    3   13   29    4]\n",
            " [   5    1    5    1  929    0    7    1    2   31]\n",
            " [  16    6   11   48    7  756    8    2   32    6]\n",
            " [  11    2   15    1    4   17  905    1    1    1]\n",
            " [   1    5   21    7    9    0    0  943    4   38]\n",
            " [   7   13   21   56   11   28    6    9  818    5]\n",
            " [  10    8    2    9   61    6    0   34    7  872]]\n",
            "              precision    recall  f1-score   support\n",
            "\n",
            "           0       0.93      0.98      0.95       980\n",
            "           1       0.96      0.99      0.97      1135\n",
            "           2       0.91      0.92      0.91      1032\n",
            "           3       0.86      0.89      0.88      1010\n",
            "           4       0.90      0.95      0.92       982\n",
            "           5       0.89      0.85      0.87       892\n",
            "           6       0.95      0.94      0.95       958\n",
            "           7       0.93      0.92      0.92      1028\n",
            "           8       0.89      0.84      0.87       974\n",
            "           9       0.91      0.86      0.89      1009\n",
            "\n",
            "    accuracy                           0.91     10000\n",
            "   macro avg       0.91      0.91      0.91     10000\n",
            "weighted avg       0.91      0.91      0.91     10000\n",
            "\n",
            "---------------------------------------\n",
            "\n",
            "Kernel lineal con C= 10\n",
            "SVC(C=10, kernel='linear')\n",
            "Precisión (accuracy):  0.9148\n",
            "Tiempo entrenamiento:  00:40:337739\n",
            "Matriz de confusión:\n",
            "[[ 961    0    2    2    1    5    8    1    0    0]\n",
            " [   0 1121    1    2    0    1    3    0    7    0]\n",
            " [  17    6  948   14   10    0   12    7   17    1]\n",
            " [   7    5   15  895    2   37    3   13   29    4]\n",
            " [   5    1    5    1  929    0    7    1    2   31]\n",
            " [  16    6   11   48    7  756    8    2   32    6]\n",
            " [  11    2   15    1    4   17  905    1    1    1]\n",
            " [   1    5   21    7    9    0    0  943    4   38]\n",
            " [   7   13   21   56   11   28    6    9  818    5]\n",
            " [  10    8    2    9   61    6    0   34    7  872]]\n",
            "              precision    recall  f1-score   support\n",
            "\n",
            "           0       0.93      0.98      0.95       980\n",
            "           1       0.96      0.99      0.97      1135\n",
            "           2       0.91      0.92      0.91      1032\n",
            "           3       0.86      0.89      0.88      1010\n",
            "           4       0.90      0.95      0.92       982\n",
            "           5       0.89      0.85      0.87       892\n",
            "           6       0.95      0.94      0.95       958\n",
            "           7       0.93      0.92      0.92      1028\n",
            "           8       0.89      0.84      0.87       974\n",
            "           9       0.91      0.86      0.89      1009\n",
            "\n",
            "    accuracy                           0.91     10000\n",
            "   macro avg       0.91      0.91      0.91     10000\n",
            "weighted avg       0.91      0.91      0.91     10000\n",
            "\n",
            "---------------------------------------\n",
            "\n",
            "Kernel lineal con C= 100\n",
            "SVC(C=100, kernel='linear')\n",
            "Precisión (accuracy):  0.9148\n",
            "Tiempo entrenamiento:  00:42:185970\n",
            "Matriz de confusión:\n",
            "[[ 961    0    2    2    1    5    8    1    0    0]\n",
            " [   0 1121    1    2    0    1    3    0    7    0]\n",
            " [  17    6  948   14   10    0   12    7   17    1]\n",
            " [   7    5   15  895    2   37    3   13   29    4]\n",
            " [   5    1    5    1  929    0    7    1    2   31]\n",
            " [  16    6   11   48    7  756    8    2   32    6]\n",
            " [  11    2   15    1    4   17  905    1    1    1]\n",
            " [   1    5   21    7    9    0    0  943    4   38]\n",
            " [   7   13   21   56   11   28    6    9  818    5]\n",
            " [  10    8    2    9   61    6    0   34    7  872]]\n",
            "              precision    recall  f1-score   support\n",
            "\n",
            "           0       0.93      0.98      0.95       980\n",
            "           1       0.96      0.99      0.97      1135\n",
            "           2       0.91      0.92      0.91      1032\n",
            "           3       0.86      0.89      0.88      1010\n",
            "           4       0.90      0.95      0.92       982\n",
            "           5       0.89      0.85      0.87       892\n",
            "           6       0.95      0.94      0.95       958\n",
            "           7       0.93      0.92      0.92      1028\n",
            "           8       0.89      0.84      0.87       974\n",
            "           9       0.91      0.86      0.89      1009\n",
            "\n",
            "    accuracy                           0.91     10000\n",
            "   macro avg       0.91      0.91      0.91     10000\n",
            "weighted avg       0.91      0.91      0.91     10000\n",
            "\n",
            "---------------------------------------\n",
            "\n",
            "Kernel lineal con C= 1000\n",
            "SVC(C=1000, kernel='linear')\n",
            "Precisión (accuracy):  0.9148\n",
            "Tiempo entrenamiento:  00:40:944223\n",
            "Matriz de confusión:\n",
            "[[ 961    0    2    2    1    5    8    1    0    0]\n",
            " [   0 1121    1    2    0    1    3    0    7    0]\n",
            " [  17    6  948   14   10    0   12    7   17    1]\n",
            " [   7    5   15  895    2   37    3   13   29    4]\n",
            " [   5    1    5    1  929    0    7    1    2   31]\n",
            " [  16    6   11   48    7  756    8    2   32    6]\n",
            " [  11    2   15    1    4   17  905    1    1    1]\n",
            " [   1    5   21    7    9    0    0  943    4   38]\n",
            " [   7   13   21   56   11   28    6    9  818    5]\n",
            " [  10    8    2    9   61    6    0   34    7  872]]\n",
            "              precision    recall  f1-score   support\n",
            "\n",
            "           0       0.93      0.98      0.95       980\n",
            "           1       0.96      0.99      0.97      1135\n",
            "           2       0.91      0.92      0.91      1032\n",
            "           3       0.86      0.89      0.88      1010\n",
            "           4       0.90      0.95      0.92       982\n",
            "           5       0.89      0.85      0.87       892\n",
            "           6       0.95      0.94      0.95       958\n",
            "           7       0.93      0.92      0.92      1028\n",
            "           8       0.89      0.84      0.87       974\n",
            "           9       0.91      0.86      0.89      1009\n",
            "\n",
            "    accuracy                           0.91     10000\n",
            "   macro avg       0.91      0.91      0.91     10000\n",
            "weighted avg       0.91      0.91      0.91     10000\n",
            "\n",
            "---------------------------------------\n",
            "\n"
          ]
        }
      ]
    },
    {
      "cell_type": "markdown",
      "source": [
        "Como se puede ver a partir de lo generado anteriormente, los valores de precision/recall no cambian a medida que C se aumenta. \n",
        "\n",
        "Dado lo anterior, y con el fin de prevenir un posible overfitting, decido mantener la decisión anterior que indicaba que el parámetro C óptimo del modelo lineal es C=1.\n",
        "\n",
        "Una vez encontrado el modelo lineal óptimo, paso a realizar uno gausiano. Para el modelo gausiano procederé primero con el escalado y PCA del set de testing para poder ser comparado en la matriz de confusión."
      ],
      "metadata": {
        "id": "56ZqXs5k97Up"
      }
    },
    {
      "cell_type": "code",
      "source": [
        "\n",
        "#X test estandarizada\n",
        "x_test_standared_mnist = scaler.fit_transform(x_test_mnist)\n",
        "\n",
        "#Test data con PCA (Componentes = 200)\n",
        "testmnist_pca_200_reduced = pca_200_mnist.fit_transform(x_test_standared_mnist)\n"
      ],
      "metadata": {
        "id": "VqoWxWS79ump"
      },
      "execution_count": null,
      "outputs": []
    },
    {
      "cell_type": "code",
      "source": [
        "parameters = [{'kernel': ['rbf'], 'C': [1, 10, 100, 1000], 'probability': [False], 'gamma': ['scale']}]\n",
        "\n",
        "timeIni = time()\n",
        "grid = GridSearchCV(SVC(), parameters)\n",
        "grid.fit(mnist_pca_200_reduced, Ytrain_mnist)\n",
        "timeEnd = time()\n",
        "timeDiff = datetime.datetime.fromtimestamp(timeEnd-timeIni).strftime(\"%M:%S:%f\")\n",
        "\n",
        "print(\"La mejor parametrización para la SVM (en el conjunto de training) es: \", grid.best_params_)\n",
        "print(\"Tiempo necesario para su cómputo: \", timeDiff)"
      ],
      "metadata": {
        "colab": {
          "base_uri": "https://localhost:8080/"
        },
        "id": "HHwcbcUq-Qch",
        "outputId": "c61e6e39-b1b1-482b-b77c-1d1135debf51"
      },
      "execution_count": null,
      "outputs": [
        {
          "output_type": "stream",
          "name": "stdout",
          "text": [
            "La mejor parametrización para la SVM (en el conjunto de training) es:  {'C': 10, 'gamma': 'scale', 'kernel': 'rbf', 'probability': False}\n",
            "Tiempo necesario para su cómputo:  05:02:916702\n"
          ]
        }
      ]
    },
    {
      "cell_type": "code",
      "source": [
        "kernel = \"rbf\"\n",
        "\n",
        "for c in (1, 10, 100, 1000):\n",
        " \n",
        "  print(\"Kernel Gaussiano con C=\", c)\n",
        "  timeIni = time()\n",
        "  modelo = SVC(kernel = kernel , C=c).fit(mnist_pca_200_reduced,Ytrain_mnist)\n",
        "  print(modelo.fit(mnist_pca_200_reduced,Ytrain_mnist))\n",
        "  timeEnd = time()\n",
        "  timeDiff = datetime.datetime.fromtimestamp(timeEnd-timeIni).strftime(\"%M:%S:%f\")\n",
        "\n",
        "  acc = modelo.score(testmnist_pca_200_reduced, y_test_mnist)\n",
        "  print(\"Precisión (accuracy): \", acc)\n",
        "  print(\"Tiempo entrenamiento: \", timeDiff)\n",
        "\n",
        "  predicciones = modelo.predict(testmnist_pca_200_reduced)\n",
        "  print(\"Matriz de confusión:\")\n",
        "  print(confusion_matrix(y_test_mnist, predicciones))\n",
        "  print(classification_report(y_test_mnist, predicciones))\n",
        "  print(\"---------------------------------------\")\n",
        "  print()\n"
      ],
      "metadata": {
        "colab": {
          "base_uri": "https://localhost:8080/"
        },
        "id": "VxqzJk-R-4CM",
        "outputId": "f867382c-c210-423c-fbbf-6b2327a78daf"
      },
      "execution_count": null,
      "outputs": [
        {
          "output_type": "stream",
          "name": "stdout",
          "text": [
            "Kernel Gaussiano con C= 1\n",
            "SVC(C=1)\n",
            "Precisión (accuracy):  0.5934\n",
            "Tiempo entrenamiento:  00:29:324873\n",
            "Matriz de confusión:\n",
            "[[801   0  28   4   4  62  19   9  50   3]\n",
            " [  1 875  22  24  59  41   7  11  93   2]\n",
            " [ 34  10 651  17  33  14  76  31 165   1]\n",
            " [ 26  16  95 511   3 140   7  40 163   9]\n",
            " [  6   3  91  19 325   0  27  80  81 350]\n",
            " [ 16   8  39 171   8 356  11 189  75  19]\n",
            " [ 74   3 110  12   3  48 669  36   2   1]\n",
            " [  1  16  14 110  23   1   1 728  24 110]\n",
            " [ 25   0  68  98  32  37   5  61 607  41]\n",
            " [  7   4  27  39 274   9   1 205  32 411]]\n",
            "              precision    recall  f1-score   support\n",
            "\n",
            "           0       0.81      0.82      0.81       980\n",
            "           1       0.94      0.77      0.85      1135\n",
            "           2       0.57      0.63      0.60      1032\n",
            "           3       0.51      0.51      0.51      1010\n",
            "           4       0.43      0.33      0.37       982\n",
            "           5       0.50      0.40      0.45       892\n",
            "           6       0.81      0.70      0.75       958\n",
            "           7       0.52      0.71      0.60      1028\n",
            "           8       0.47      0.62      0.54       974\n",
            "           9       0.43      0.41      0.42      1009\n",
            "\n",
            "    accuracy                           0.59     10000\n",
            "   macro avg       0.60      0.59      0.59     10000\n",
            "weighted avg       0.60      0.59      0.59     10000\n",
            "\n",
            "---------------------------------------\n",
            "\n",
            "Kernel Gaussiano con C= 10\n",
            "SVC(C=10)\n",
            "Precisión (accuracy):  0.5796\n",
            "Tiempo entrenamiento:  00:26:629837\n",
            "Matriz de confusión:\n",
            "[[798   0  32   4   3  62  24   3  50   4]\n",
            " [  2 844  14  35  70  18   5  11 126  10]\n",
            " [ 33   8 669  16  29  13  53  36 171   4]\n",
            " [ 30   5 101 498   2 125   7  36 192  14]\n",
            " [  6   1  88  24 330   0  24  88 143 278]\n",
            " [ 19   5  52 214   8 317   9 158  85  25]\n",
            " [ 94   4 122  10   9  64 619  30   5   1]\n",
            " [  1   9  13 123  23   1   1 756  37  64]\n",
            " [ 25   0  75 108  30  40   3  52 584  57]\n",
            " [  6   0  27  72 263   8   4 204  44 381]]\n",
            "              precision    recall  f1-score   support\n",
            "\n",
            "           0       0.79      0.81      0.80       980\n",
            "           1       0.96      0.74      0.84      1135\n",
            "           2       0.56      0.65      0.60      1032\n",
            "           3       0.45      0.49      0.47      1010\n",
            "           4       0.43      0.34      0.38       982\n",
            "           5       0.49      0.36      0.41       892\n",
            "           6       0.83      0.65      0.73       958\n",
            "           7       0.55      0.74      0.63      1028\n",
            "           8       0.41      0.60      0.48       974\n",
            "           9       0.45      0.38      0.41      1009\n",
            "\n",
            "    accuracy                           0.58     10000\n",
            "   macro avg       0.59      0.57      0.58     10000\n",
            "weighted avg       0.60      0.58      0.58     10000\n",
            "\n",
            "---------------------------------------\n",
            "\n",
            "Kernel Gaussiano con C= 100\n",
            "SVC(C=100)\n",
            "Precisión (accuracy):  0.5674\n",
            "Tiempo entrenamiento:  00:26:100892\n",
            "Matriz de confusión:\n",
            "[[799   0  29   4   3  67  22   6  46   4]\n",
            " [  2 785  15  46  82  22   6  12 154  11]\n",
            " [ 35   8 675  18  32  13  54  32 162   3]\n",
            " [ 29   5 102 492   2 134   8  38 190  10]\n",
            " [  7   0  84  24 314   0  27  78 155 293]\n",
            " [ 19   2  51 218   6 324   9 152  85  26]\n",
            " [ 93   2 120  10  13  64 617  32   6   1]\n",
            " [  1   6  12 122  32   1   1 750  42  61]\n",
            " [ 25   0  74 116  34  42   3  51 574  55]\n",
            " [  6   0  26  84 284   9   4 209  43 344]]\n",
            "              precision    recall  f1-score   support\n",
            "\n",
            "           0       0.79      0.82      0.80       980\n",
            "           1       0.97      0.69      0.81      1135\n",
            "           2       0.57      0.65      0.61      1032\n",
            "           3       0.43      0.49      0.46      1010\n",
            "           4       0.39      0.32      0.35       982\n",
            "           5       0.48      0.36      0.41       892\n",
            "           6       0.82      0.64      0.72       958\n",
            "           7       0.55      0.73      0.63      1028\n",
            "           8       0.39      0.59      0.47       974\n",
            "           9       0.43      0.34      0.38      1009\n",
            "\n",
            "    accuracy                           0.57     10000\n",
            "   macro avg       0.58      0.56      0.56     10000\n",
            "weighted avg       0.59      0.57      0.57     10000\n",
            "\n",
            "---------------------------------------\n",
            "\n",
            "Kernel Gaussiano con C= 1000\n",
            "SVC(C=1000)\n",
            "Precisión (accuracy):  0.5674\n",
            "Tiempo entrenamiento:  00:26:469109\n",
            "Matriz de confusión:\n",
            "[[799   0  29   4   3  67  22   6  46   4]\n",
            " [  2 785  15  46  82  22   6  12 154  11]\n",
            " [ 35   8 675  18  32  13  54  32 162   3]\n",
            " [ 29   5 102 492   2 134   8  38 190  10]\n",
            " [  7   0  84  24 314   0  27  78 155 293]\n",
            " [ 19   2  51 218   6 324   9 152  85  26]\n",
            " [ 93   2 120  10  13  64 617  32   6   1]\n",
            " [  1   6  12 122  32   1   1 750  42  61]\n",
            " [ 25   0  74 116  34  42   3  51 574  55]\n",
            " [  6   0  26  84 284   9   4 209  43 344]]\n",
            "              precision    recall  f1-score   support\n",
            "\n",
            "           0       0.79      0.82      0.80       980\n",
            "           1       0.97      0.69      0.81      1135\n",
            "           2       0.57      0.65      0.61      1032\n",
            "           3       0.43      0.49      0.46      1010\n",
            "           4       0.39      0.32      0.35       982\n",
            "           5       0.48      0.36      0.41       892\n",
            "           6       0.82      0.64      0.72       958\n",
            "           7       0.55      0.73      0.63      1028\n",
            "           8       0.39      0.59      0.47       974\n",
            "           9       0.43      0.34      0.38      1009\n",
            "\n",
            "    accuracy                           0.57     10000\n",
            "   macro avg       0.58      0.56      0.56     10000\n",
            "weighted avg       0.59      0.57      0.57     10000\n",
            "\n",
            "---------------------------------------\n",
            "\n"
          ]
        }
      ]
    },
    {
      "cell_type": "markdown",
      "source": [
        "Para el modelo gausiano solamente he modificado el parámetro C (al igual que en el lineal) para mejorar el tiempo computacional que requerirá el modelo.\n",
        "\n",
        "En cualquiera de los casos, se puede notar que los modelos con kernel lineal mejoran no solo la accurracy general del modelo sino que también lo hace para cada label junto a su correspondiente recall.\n",
        "\n",
        "En tiempos de cómputo, se puede notar que ambos kernel demoran aproximadamente lo mismo (aprox 20 minutos). Para la situación particular de este ejercicio decido tomar el modelo con kernel lineal con C=1 debido a su mejora en precision/recall y manteniendo baja la posibilidad de overfitting. "
      ],
      "metadata": {
        "id": "KP5lp0WmxVIF"
      }
    },
    {
      "cell_type": "markdown",
      "source": [
        "# Modelo SVM para dataset Fashion MNIST"
      ],
      "metadata": {
        "id": "2MopWh7FCIHF"
      }
    },
    {
      "cell_type": "markdown",
      "source": [
        "El set de datos Fashion MNIST posee mayor complejidad en su procesamiento y, por lo tanto, consume muchos recursos a la hora de ser modelizado. Dada la situación anterior, utilizaré para ambos kernel la versión estandarizada y con PCA de los datasets."
      ],
      "metadata": {
        "id": "thbe5GCRC9kS"
      }
    },
    {
      "cell_type": "code",
      "source": [
        "# Set de testing estandarizado\n",
        "x_test_standared_fashion = scaler.fit_transform(x_test_fashion)\n",
        "\n",
        "# PCA con 200 componentes\n",
        "testfashionmnist_pca_200_reduced = pca_200_fashionmnist.fit_transform(x_test_standared_fashion)"
      ],
      "metadata": {
        "id": "JdYGr2GEK0MZ"
      },
      "execution_count": null,
      "outputs": []
    },
    {
      "cell_type": "code",
      "source": [
        "parameters = [{'kernel': ['linear'], 'C': [1, 10 ],  'probability': [False], 'gamma': ['scale']}]\n",
        "\n",
        "timeIni = time()\n",
        "grid = GridSearchCV(SVC(), parameters)\n",
        "grid.fit(fashionmnist_pca_200_reduced, Ytrain_fashion)\n",
        "timeEnd = time()\n",
        "timeDiff = datetime.datetime.fromtimestamp(timeEnd-timeIni).strftime(\"%M:%S:%f\")\n",
        "\n",
        "print(\"La mejor parametrización para la SVM (en el conjunto de training) es: \", grid.best_params_)\n",
        "print(\"Tiempo necesario para su cómputo: \", timeDiff)"
      ],
      "metadata": {
        "id": "ZDRJiL7CDGYt",
        "colab": {
          "base_uri": "https://localhost:8080/"
        },
        "outputId": "d6446530-7cad-443e-ba64-c9baa4e1f39f"
      },
      "execution_count": null,
      "outputs": [
        {
          "output_type": "stream",
          "name": "stdout",
          "text": [
            "La mejor parametrización para la SVM (en el conjunto de training) es:  {'C': 1, 'gamma': 'scale', 'kernel': 'linear', 'probability': False}\n",
            "Tiempo necesario para su cómputo:  41:52:009838\n"
          ]
        }
      ]
    },
    {
      "cell_type": "code",
      "source": [
        "kernel = \"linear\"\n",
        "\n",
        "for c in (1, 10):\n",
        "  print(\"Kernel lineal con C=\", c)\n",
        "  \n",
        "  timeIni = time()\n",
        "  modelo = SVC(kernel = kernel, C=c).fit(fashionmnist_pca_200_reduced,Ytrain_fashion)\n",
        "  print(modelo)\n",
        "  timeEnd = time()\n",
        "  timeDiff = datetime.datetime.fromtimestamp(timeEnd-timeIni).strftime(\"%M:%S:%f\")\n",
        "\n",
        "  acc = modelo.score(testfashionmnist_pca_200_reduced, y_test_fashion)\n",
        "  print(\"Precisión (accuracy): \", acc)\n",
        "  print(\"Tiempo entrenamiento: \", timeDiff)\n",
        "\n",
        "  predicciones = modelo.predict(testfashionmnist_pca_200_reduced)\n",
        "  print(\"Matriz de confusión:\")\n",
        "  print(confusion_matrix(y_test_fashion, predicciones))\n",
        "  print(classification_report(y_test_fashion, predicciones))\n",
        "  print(\"---------------------------------------\")"
      ],
      "metadata": {
        "id": "PULBfP-rDLER",
        "colab": {
          "base_uri": "https://localhost:8080/"
        },
        "outputId": "ca23ad67-70ba-40a3-e65c-4a3473f22eb6"
      },
      "execution_count": null,
      "outputs": [
        {
          "output_type": "stream",
          "name": "stdout",
          "text": [
            "Kernel lineal con C= 1\n",
            "SVC(C=1, kernel='linear')\n",
            "Precisión (accuracy):  0.5891\n",
            "Tiempo entrenamiento:  01:09:944016\n",
            "Matriz de confusión:\n",
            "[[640  12  48 137  27   3 108   0  25   0]\n",
            " [ 42 895   9  41   5   0   6   0   2   0]\n",
            " [ 69   4 475  19 156   1 265   0  11   0]\n",
            " [170 157  66 543  19   0  35   0  10   0]\n",
            " [ 12   5 253 129 466   0 125   0  10   0]\n",
            " [  0   0   1   2   0 664   2 246   4  81]\n",
            " [199   9 269 125 163   1 198   0  36   0]\n",
            " [  0   0   0   0   0 308   0 629   8  55]\n",
            " [ 41   1  71  31  37  50  55  36 674   4]\n",
            " [  5   0   0   0   0 181   2 104   1 707]]\n",
            "              precision    recall  f1-score   support\n",
            "\n",
            "           0       0.54      0.64      0.59      1000\n",
            "           1       0.83      0.90      0.86      1000\n",
            "           2       0.40      0.47      0.43      1000\n",
            "           3       0.53      0.54      0.54      1000\n",
            "           4       0.53      0.47      0.50      1000\n",
            "           5       0.55      0.66      0.60      1000\n",
            "           6       0.25      0.20      0.22      1000\n",
            "           7       0.62      0.63      0.62      1000\n",
            "           8       0.86      0.67      0.76      1000\n",
            "           9       0.83      0.71      0.77      1000\n",
            "\n",
            "    accuracy                           0.59     10000\n",
            "   macro avg       0.59      0.59      0.59     10000\n",
            "weighted avg       0.59      0.59      0.59     10000\n",
            "\n",
            "---------------------------------------\n",
            "Kernel lineal con C= 10\n",
            "SVC(C=10, kernel='linear')\n",
            "Precisión (accuracy):  0.5303\n",
            "Tiempo entrenamiento:  10:30:088720\n",
            "Matriz de confusión:\n",
            "[[625  30  75 103  41   5  95   0  26   0]\n",
            " [ 44 886  12  47   7   0   3   0   1   0]\n",
            " [ 97   7 409  41 157   1 273   0  15   0]\n",
            " [205 266 110 315  43   0  51   0  10   0]\n",
            " [ 11   4 261 115 469   0 125   0  15   0]\n",
            " [  0   1   3   1   0 709   1 207   5  73]\n",
            " [202  16 251 139 223   2 136   0  31   0]\n",
            " [  0   0   0   0   0 383   0 477   6 134]\n",
            " [ 46   1  74  41  44  58  71  36 626   3]\n",
            " [  7   0   0   0   0 204   2 135   1 651]]\n",
            "              precision    recall  f1-score   support\n",
            "\n",
            "           0       0.51      0.62      0.56      1000\n",
            "           1       0.73      0.89      0.80      1000\n",
            "           2       0.34      0.41      0.37      1000\n",
            "           3       0.39      0.32      0.35      1000\n",
            "           4       0.48      0.47      0.47      1000\n",
            "           5       0.52      0.71      0.60      1000\n",
            "           6       0.18      0.14      0.15      1000\n",
            "           7       0.56      0.48      0.51      1000\n",
            "           8       0.85      0.63      0.72      1000\n",
            "           9       0.76      0.65      0.70      1000\n",
            "\n",
            "    accuracy                           0.53     10000\n",
            "   macro avg       0.53      0.53      0.52     10000\n",
            "weighted avg       0.53      0.53      0.52     10000\n",
            "\n",
            "---------------------------------------\n"
          ]
        }
      ]
    },
    {
      "cell_type": "markdown",
      "source": [
        "Modelos generados con Kernel Gausiano:"
      ],
      "metadata": {
        "id": "Pv1A6EYeDixk"
      }
    },
    {
      "cell_type": "code",
      "source": [
        "parameters = [{'kernel': ['rbf'], 'C': [1, 10, 100, 1000], 'probability': [False], 'gamma': ['scale']}]\n",
        "\n",
        "timeIni = time()\n",
        "grid = GridSearchCV(SVC(), parameters)\n",
        "grid.fit(fashionmnist_pca_200_reduced, Ytrain_fashion)\n",
        "timeEnd = time()\n",
        "timeDiff = datetime.datetime.fromtimestamp(timeEnd-timeIni).strftime(\"%M:%S:%f\")\n",
        "\n",
        "print(\"La mejor parametrización para la SVM (en el conjunto de training) es: \", grid.best_params_)\n",
        "print(\"Tiempo necesario para su cómputo: \", timeDiff)"
      ],
      "metadata": {
        "id": "023nuEmFDdp1",
        "colab": {
          "base_uri": "https://localhost:8080/"
        },
        "outputId": "dac3dda6-9552-4740-9f51-1e7253cdde5a"
      },
      "execution_count": null,
      "outputs": [
        {
          "output_type": "stream",
          "name": "stdout",
          "text": [
            "La mejor parametrización para la SVM (en el conjunto de training) es:  {'C': 10, 'gamma': 'scale', 'kernel': 'rbf', 'probability': False}\n",
            "Tiempo necesario para su cómputo:  05:19:914876\n"
          ]
        }
      ]
    },
    {
      "cell_type": "code",
      "source": [
        "kernel = \"rbf\"\n",
        "\n",
        "for c in (1, 10, 100, 1000):\n",
        "    print(\"Kernel Gaussiano con con C=\", c)\n",
        "    timeIni = time()\n",
        "    modelo = SVC(kernel = kernel , C=c).fit(fashionmnist_pca_200_reduced,Ytrain_fashion)\n",
        "    print(modelo.fit(fashionmnist_pca_200_reduced,Ytrain_fashion))\n",
        "    timeEnd = time()\n",
        "    timeDiff = datetime.datetime.fromtimestamp(timeEnd-timeIni).strftime(\"%M:%S:%f\")\n",
        "\n",
        "    acc = modelo.score(testfashionmnist_pca_200_reduced, y_test_fashion)\n",
        "    print(\"Precisión (accuracy): \", acc)\n",
        "    print(\"Tiempo entrenamiento: \", timeDiff)\n",
        "\n",
        "    predicciones = modelo.predict(testfashionmnist_pca_200_reduced)\n",
        "    print(\"Matriz de confusión:\")\n",
        "    print(confusion_matrix(y_test_fashion, predicciones))\n",
        "    print(classification_report(y_test_fashion, predicciones))\n",
        "    print(\"---------------------------------------\")\n",
        "    print()"
      ],
      "metadata": {
        "id": "XrRZvwJgDp0L",
        "colab": {
          "base_uri": "https://localhost:8080/"
        },
        "outputId": "080c377e-2218-4dd7-bdc0-96ce752e11df"
      },
      "execution_count": null,
      "outputs": [
        {
          "output_type": "stream",
          "name": "stdout",
          "text": [
            "Kernel Gaussiano con con C= 1\n",
            "SVC(C=1)\n",
            "Precisión (accuracy):  0.7449\n",
            "Tiempo entrenamiento:  00:27:214196\n",
            "Matriz de confusión:\n",
            "[[738   0  18 125   3   1  92   0  23   0]\n",
            " [ 15 905  12  52   8   0   6   0   2   0]\n",
            " [  8   0 635  16 182   0 150   0   9   0]\n",
            " [ 32  16  20 866   8   1  53   0   4   0]\n",
            " [  0   1 154  74 635   0 126   0  10   0]\n",
            " [  0   0   0   3   0 657   1 266  12  61]\n",
            " [163   0 217  97 126   1 357   0  39   0]\n",
            " [  0   0   0   0   0  96   0 847   4  53]\n",
            " [  0   1   2  11   7   8  19   7 943   2]\n",
            " [  0   0   1   1   0  30   0  79  23 866]]\n",
            "              precision    recall  f1-score   support\n",
            "\n",
            "           0       0.77      0.74      0.75      1000\n",
            "           1       0.98      0.91      0.94      1000\n",
            "           2       0.60      0.64      0.62      1000\n",
            "           3       0.70      0.87      0.77      1000\n",
            "           4       0.66      0.64      0.64      1000\n",
            "           5       0.83      0.66      0.73      1000\n",
            "           6       0.44      0.36      0.40      1000\n",
            "           7       0.71      0.85      0.77      1000\n",
            "           8       0.88      0.94      0.91      1000\n",
            "           9       0.88      0.87      0.87      1000\n",
            "\n",
            "    accuracy                           0.74     10000\n",
            "   macro avg       0.74      0.74      0.74     10000\n",
            "weighted avg       0.74      0.74      0.74     10000\n",
            "\n",
            "---------------------------------------\n",
            "\n",
            "Kernel Gaussiano con con C= 10\n",
            "SVC(C=10)\n",
            "Precisión (accuracy):  0.7113\n",
            "Tiempo entrenamiento:  00:26:322765\n",
            "Matriz de confusión:\n",
            "[[686   0  18 128   5   0 140   0  23   0]\n",
            " [ 18 914  11  42   6   0   7   0   2   0]\n",
            " [ 10   0 597  16 154   1 213   0   9   0]\n",
            " [ 28  13  43 863   9   0  41   0   3   0]\n",
            " [  0   1 230  85 514   0 158   0  12   0]\n",
            " [  0   0   1   2   0 616   2 312  12  55]\n",
            " [137   0 248 104 107   1 366   0  37   0]\n",
            " [  0   0   0   0   0 164   0 779   6  51]\n",
            " [  2   1   6  11   4   7  19   6 941   3]\n",
            " [  0   0   1   1   0  65   0  74  22 837]]\n",
            "              precision    recall  f1-score   support\n",
            "\n",
            "           0       0.78      0.69      0.73      1000\n",
            "           1       0.98      0.91      0.95      1000\n",
            "           2       0.52      0.60      0.55      1000\n",
            "           3       0.69      0.86      0.77      1000\n",
            "           4       0.64      0.51      0.57      1000\n",
            "           5       0.72      0.62      0.66      1000\n",
            "           6       0.39      0.37      0.38      1000\n",
            "           7       0.67      0.78      0.72      1000\n",
            "           8       0.88      0.94      0.91      1000\n",
            "           9       0.88      0.84      0.86      1000\n",
            "\n",
            "    accuracy                           0.71     10000\n",
            "   macro avg       0.72      0.71      0.71     10000\n",
            "weighted avg       0.72      0.71      0.71     10000\n",
            "\n",
            "---------------------------------------\n",
            "\n",
            "Kernel Gaussiano con con C= 100\n",
            "SVC(C=100)\n",
            "Precisión (accuracy):  0.6895\n",
            "Tiempo entrenamiento:  00:29:127202\n",
            "Matriz de confusión:\n",
            "[[669   1  27 112   6   2 158   0  25   0]\n",
            " [ 32 910   8  36   5   0   7   0   2   0]\n",
            " [ 14   1 582  19 121   1 253   0   9   0]\n",
            " [ 75  22  42 816  12   0  29   0   4   0]\n",
            " [  1   2 277  79 453   0 176   0  12   0]\n",
            " [  1   0   2   1   0 618   1 309  13  55]\n",
            " [162   1 279 100  85   1 335   0  37   0]\n",
            " [  0   0   0   0   0 199   0 739   7  55]\n",
            " [  1   1   8  10   5  11  17   6 938   3]\n",
            " [  0   0   1   1   0  71   0  70  22 835]]\n",
            "              precision    recall  f1-score   support\n",
            "\n",
            "           0       0.70      0.67      0.68      1000\n",
            "           1       0.97      0.91      0.94      1000\n",
            "           2       0.47      0.58      0.52      1000\n",
            "           3       0.70      0.82      0.75      1000\n",
            "           4       0.66      0.45      0.54      1000\n",
            "           5       0.68      0.62      0.65      1000\n",
            "           6       0.34      0.34      0.34      1000\n",
            "           7       0.66      0.74      0.70      1000\n",
            "           8       0.88      0.94      0.91      1000\n",
            "           9       0.88      0.83      0.86      1000\n",
            "\n",
            "    accuracy                           0.69     10000\n",
            "   macro avg       0.69      0.69      0.69     10000\n",
            "weighted avg       0.69      0.69      0.69     10000\n",
            "\n",
            "---------------------------------------\n",
            "\n",
            "Kernel Gaussiano con con C= 1000\n",
            "SVC(C=1000)\n",
            "Precisión (accuracy):  0.6855\n",
            "Tiempo entrenamiento:  00:28:727134\n",
            "Matriz de confusión:\n",
            "[[659   1  23 112   7   2 171   0  25   0]\n",
            " [ 31 911   7  35   5   0   9   0   2   0]\n",
            " [ 15   1 579  20 123   1 252   0   9   0]\n",
            " [ 77  23  43 814  10   0  29   0   4   0]\n",
            " [  3   2 288  79 435   0 181   0  12   0]\n",
            " [  1   0   2   1   0 618   1 309  13  55]\n",
            " [161   1 278  99  95   1 328   0  37   0]\n",
            " [  0   0   0   0   0 200   0 739   7  54]\n",
            " [  2   1   8  10   5  11  16   6 938   3]\n",
            " [  0   0   1   1   0  71   0  71  22 834]]\n",
            "              precision    recall  f1-score   support\n",
            "\n",
            "           0       0.69      0.66      0.68      1000\n",
            "           1       0.97      0.91      0.94      1000\n",
            "           2       0.47      0.58      0.52      1000\n",
            "           3       0.70      0.81      0.75      1000\n",
            "           4       0.64      0.43      0.52      1000\n",
            "           5       0.68      0.62      0.65      1000\n",
            "           6       0.33      0.33      0.33      1000\n",
            "           7       0.66      0.74      0.70      1000\n",
            "           8       0.88      0.94      0.91      1000\n",
            "           9       0.88      0.83      0.86      1000\n",
            "\n",
            "    accuracy                           0.69     10000\n",
            "   macro avg       0.69      0.69      0.68     10000\n",
            "weighted avg       0.69      0.69      0.68     10000\n",
            "\n",
            "---------------------------------------\n",
            "\n"
          ]
        }
      ]
    },
    {
      "cell_type": "markdown",
      "source": [
        "A partir de los modelos generados anteriormente se puede notar que la mejor opción sería por la familia de kernel gausianos. A su vez, el grid search recomienda un C= 10 mientras que en el loop realizado, se puede ver que C= 1 tiene un rendimiento aceptable.\n",
        "\n",
        "A partir de lo anterior, decido utilizar el modelo kernel gausiano con c=1."
      ],
      "metadata": {
        "id": "pRc197IfbmwD"
      }
    },
    {
      "cell_type": "markdown",
      "source": [
        "# Cruce modelos: MNIST y Fashion MNIST"
      ],
      "metadata": {
        "id": "v__KcNz_D19k"
      }
    },
    {
      "cell_type": "markdown",
      "source": [
        "Como último paso, voy a utilizar el modelo elegido en mnist para predecir 5000 de fashion mnist y viceversa para, de esta forma, ver el poder de generalización de los modelos."
      ],
      "metadata": {
        "id": "LXQdgCDBcgAe"
      }
    },
    {
      "cell_type": "code",
      "source": [
        "#Modelo mnist aplicado a fashion mnist\n",
        "\n",
        "modelo = SVC(kernel = \"linear\", C= 1).fit(Xtrain_mnist, Ytrain_mnist)\n",
        "acc = modelo.score(x_test_fashion, y_test_fashion)\n",
        "print(\"Precisión (accuracy): \", acc)\n",
        "predicciones = modelo.predict(x_test_fashion)\n",
        "print(\"Matriz de confusión:\")\n",
        "print(confusion_matrix(y_test_fashion, predicciones))\n",
        "print(classification_report(y_test_fashion, predicciones))\n",
        "print(\"---------------------------------------\")"
      ],
      "metadata": {
        "id": "AWFxzJz6D58b",
        "colab": {
          "base_uri": "https://localhost:8080/"
        },
        "outputId": "3bb88618-640e-435b-8042-4a9e1bab7229"
      },
      "execution_count": null,
      "outputs": [
        {
          "output_type": "stream",
          "name": "stdout",
          "text": [
            "Precisión (accuracy):  0.1349\n",
            "Matriz de confusión:\n",
            "[[  2   0  73 810   1  91   1   3  15   4]\n",
            " [  9   2 212 751   0  13   0   0  12   1]\n",
            " [  3   0 392 470   0 130   0   0   4   1]\n",
            " [  1   2 116 735   1 101   7   0  19  18]\n",
            " [  7   0 591 358   0  30   1   1   7   5]\n",
            " [175   0 392  24 155 211  30  11   2   0]\n",
            " [  1   0 313 559   0 110   1   0   8   8]\n",
            " [ 28   0 795   0 139  15  17   6   0   0]\n",
            " [ 17   0 527  33   6 321  91   2   0   3]\n",
            " [ 27   0 594  42   0 335   0   1   1   0]]\n",
            "              precision    recall  f1-score   support\n",
            "\n",
            "           0       0.01      0.00      0.00      1000\n",
            "           1       0.50      0.00      0.00      1000\n",
            "           2       0.10      0.39      0.16      1000\n",
            "           3       0.19      0.73      0.31      1000\n",
            "           4       0.00      0.00      0.00      1000\n",
            "           5       0.16      0.21      0.18      1000\n",
            "           6       0.01      0.00      0.00      1000\n",
            "           7       0.25      0.01      0.01      1000\n",
            "           8       0.00      0.00      0.00      1000\n",
            "           9       0.00      0.00      0.00      1000\n",
            "\n",
            "    accuracy                           0.13     10000\n",
            "   macro avg       0.12      0.13      0.07     10000\n",
            "weighted avg       0.12      0.13      0.07     10000\n",
            "\n",
            "---------------------------------------\n"
          ]
        }
      ]
    },
    {
      "cell_type": "markdown",
      "source": [
        "Se puede notar que el modelo funciona muy mal cuando se aplica a un set de datos que siguen distintos patrones. Esto tiene sentido ya que el modelo aprendió solamente patrones relacionados a números y no a vestimenta. A su vez, en el caso de que los valores de precision/recall fueran mejores, su interpretabilidad es nula ya que los labels de uno y otro dataset significan distintas cosas.\n",
        "\n",
        "Por último, se ve una alta baja de precision general del modelo en comparación con el set de datos de testing del modelo original (0.9148 vs 0.1349 en comparación)."
      ],
      "metadata": {
        "id": "kjNcPiCFd6Yr"
      }
    },
    {
      "cell_type": "code",
      "source": [
        "#Modelo fashion mnist aplicado a mnist\n",
        "\n",
        "modelo = SVC(kernel = \"rbf\" , C=10 ).fit(fashionmnist_pca_200_reduced,Ytrain_fashion)\n",
        "acc = modelo.score(testmnist_pca_200_reduced, y_test_mnist)\n",
        "print(\"Precisión (accuracy): \", acc)\n",
        "predicciones = modelo.predict(testmnist_pca_200_reduced)\n",
        "print(\"Matriz de confusión:\")\n",
        "print(confusion_matrix(y_test_mnist, predicciones))\n",
        "print(classification_report(y_test_mnist, predicciones))\n",
        "print(\"---------------------------------------\")"
      ],
      "metadata": {
        "colab": {
          "base_uri": "https://localhost:8080/"
        },
        "id": "bQhByCXxefrA",
        "outputId": "11f64729-b879-404e-dd54-fb6574dde7b3"
      },
      "execution_count": null,
      "outputs": [
        {
          "output_type": "stream",
          "name": "stdout",
          "text": [
            "Precisión (accuracy):  0.1071\n",
            "Matriz de confusión:\n",
            "[[258  27 212 158  49   0 244   0  32   0]\n",
            " [403   7  30 196   4   0 490   0   5   0]\n",
            " [171   1 152 209  60   0 253   0 185   1]\n",
            " [ 21  82 422  87 133   0 136   2 124   3]\n",
            " [ 12   1  44  75  38 126   7  10 570  99]\n",
            " [ 65  47  72 142 215   0 162   2 162  25]\n",
            " [ 96  17 173 172 117   7 163   0 139  74]\n",
            " [ 39   0  69  52   3  80  56 118 429 182]\n",
            " [ 17  16 182 234 228   2 189   5  93   8]\n",
            " [  4   0  54  32  61 182  18 155 348 155]]\n",
            "              precision    recall  f1-score   support\n",
            "\n",
            "           0       0.24      0.26      0.25       980\n",
            "           1       0.04      0.01      0.01      1135\n",
            "           2       0.11      0.15      0.12      1032\n",
            "           3       0.06      0.09      0.07      1010\n",
            "           4       0.04      0.04      0.04       982\n",
            "           5       0.00      0.00      0.00       892\n",
            "           6       0.09      0.17      0.12       958\n",
            "           7       0.40      0.11      0.18      1028\n",
            "           8       0.04      0.10      0.06       974\n",
            "           9       0.28      0.15      0.20      1009\n",
            "\n",
            "    accuracy                           0.11     10000\n",
            "   macro avg       0.13      0.11      0.11     10000\n",
            "weighted avg       0.13      0.11      0.11     10000\n",
            "\n",
            "---------------------------------------\n"
          ]
        }
      ]
    },
    {
      "cell_type": "markdown",
      "source": [
        "Al igual que en el caso anterior, se observa que el modelo generado para fashion mnist no es extrapolable para mnist."
      ],
      "metadata": {
        "id": "2HKJkxFXfkf2"
      }
    }
  ]
}