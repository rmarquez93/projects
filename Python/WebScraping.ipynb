{
  "cells": [
    {
      "cell_type": "markdown",
      "source": [
        "Como punto de partida para la creación del dataset inicial, generaremos un script de webscraping que recoja las ICOs listadas en www.icoholder.com.\n",
        "\n",
        "El script constará de dos partes: en la primera se consigue el listado de todas las ICOs que hay en la página y en la segunda se iterará sobre"
      ],
      "metadata": {
        "id": "TTapNnXFevZI"
      }
    },
    {
      "cell_type": "code",
      "execution_count": null,
      "metadata": {
        "id": "KDaaGXx1ejKf"
      },
      "outputs": [],
      "source": [
        "#Importamos las librerias de selenium para poder trabajar con ellas durante la actividad\n",
        "# creamos la variable webdriver de firebox, con la que vamos a recuperar los distintos elementos de la web\n",
        "from selenium import webdriver\n",
        "from selenium.webdriver.common.by import By\n",
        "from selenium.webdriver.support.wait import WebDriverWait\n",
        "\n",
        "import pandas as pd\n",
        "import numpy as np\n",
        "import time\n",
        "import os\n",
        "os.environ[\"PATH\"] = '$PATH:.'\n",
        "options = webdriver.FirefoxOptions()\n",
        "driver = webdriver.Firefox()"
      ]
    },
    {
      "cell_type": "code",
      "execution_count": null,
      "metadata": {
        "id": "Ve2xfDDrejKh"
      },
      "outputs": [],
      "source": [
        "driver.get(\"https://icoholder.com/en/icos/past\")\n",
        "driver.implicitly_wait(10)"
      ]
    },
    {
      "cell_type": "code",
      "execution_count": null,
      "metadata": {
        "id": "XU5-bguaejKi",
        "outputId": "1a6272d9-e8f5-45f1-9efa-8011653ecafb"
      },
      "outputs": [
        {
          "data": {
            "text/plain": [
              "6784"
            ]
          },
          "execution_count": 9,
          "metadata": {},
          "output_type": "execute_result"
        }
      ],
      "source": [
        "# Obtengo el numero de la ultima pagina disponible.\n",
        "a = driver.find_element(By.CSS_SELECTOR, \".pagination > li:nth-child(10)\").text\n",
        "# Genero una lista con los numeros de las paginas de manera que se pueda ir recorriendo cada una y obteniendo la lista de URL de cada ICO listada en esa pagina.\n",
        "#total_pages = np.arange(int(a)-1,1,-1)\n",
        "total_pages = np.arange(425,1,-1)\n",
        "URL_list_icos =[]\n",
        "\n",
        "for i in total_pages:\n",
        "    # Me posiciono en la pagina\n",
        "    driver.get(\"https://icoholder.com/en/icos/past?page=\"+str(i))\n",
        "    driver.implicitly_wait(10)\n",
        "\n",
        "    #Por cada pagina hay 31 ICOs, por lo que recorro cada uno de ellos y obtengo la URL de cada uno de ellos.\n",
        "    for i in range(1,32,2):\n",
        "        #Me quedo con el elemento del ico que tiene nombre y url\n",
        "        selector = f\"div.ico-list-row:nth-child({i}) > div:nth-child(3) > h3:nth-child(1) > a:nth-child(1)\"\n",
        "        aItem = driver.find_element(By.CSS_SELECTOR, selector)\n",
        "\n",
        "        #Guardo el ico en una lista [Nombre, URL]\n",
        "        URL_list_icos.append([aItem.text,aItem.get_attribute('href')])\n",
        "\n",
        "    #URL_list_icos.append(get_icos_url(driver))\n",
        "    time.sleep(1.24)\n",
        "\n",
        "len(URL_list_icos)\n"
      ]
    },
    {
      "cell_type": "code",
      "execution_count": null,
      "metadata": {
        "id": "nVEljWOnejKl",
        "outputId": "efcf84f7-9656-49a8-ee52-939c48293602"
      },
      "outputs": [
        {
          "data": {
            "text/plain": [
              "3513"
            ]
          },
          "execution_count": 4,
          "metadata": {},
          "output_type": "execute_result"
        }
      ],
      "source": [
        "len(URL_list_icos)"
      ]
    },
    {
      "cell_type": "code",
      "execution_count": null,
      "metadata": {
        "id": "EaJLtSUXejKm"
      },
      "outputs": [],
      "source": [
        "# Con la lista de URL ICOs creo un dataFrafe y lo guardo en un csv.\n",
        "df_url_2 = pd.DataFrame(URL_list_icos, columns=['ICO_Name', 'URL'])\n",
        "df_url_2.to_csv('url_icos_425_v2.csv', index=False)"
      ]
    },
    {
      "cell_type": "code",
      "execution_count": null,
      "metadata": {
        "id": "fck8JQn7ejKm",
        "outputId": "c8611bb6-3b3d-488f-d10a-ade5a38018d8"
      },
      "outputs": [
        {
          "data": {
            "text/html": [
              "<div>\n",
              "<style scoped>\n",
              "    .dataframe tbody tr th:only-of-type {\n",
              "        vertical-align: middle;\n",
              "    }\n",
              "\n",
              "    .dataframe tbody tr th {\n",
              "        vertical-align: top;\n",
              "    }\n",
              "\n",
              "    .dataframe thead th {\n",
              "        text-align: right;\n",
              "    }\n",
              "</style>\n",
              "<table border=\"1\" class=\"dataframe\">\n",
              "  <thead>\n",
              "    <tr style=\"text-align: right;\">\n",
              "      <th></th>\n",
              "      <th>index</th>\n",
              "      <th>ICO_Name</th>\n",
              "      <th>URL</th>\n",
              "    </tr>\n",
              "  </thead>\n",
              "  <tbody>\n",
              "    <tr>\n",
              "      <th>0</th>\n",
              "      <td>0</td>\n",
              "      <td>World Cup Apes</td>\n",
              "      <td>https://icoholder.com/en/world-cup-apes-1024462</td>\n",
              "    </tr>\n",
              "    <tr>\n",
              "      <th>1</th>\n",
              "      <td>1</td>\n",
              "      <td>Premium Trade</td>\n",
              "      <td>https://icoholder.com/en/premium-trade</td>\n",
              "    </tr>\n",
              "    <tr>\n",
              "      <th>2</th>\n",
              "      <td>2</td>\n",
              "      <td>Moneypot X (MPX) ICO</td>\n",
              "      <td>https://icoholder.com/en/moneypot-x-mpx-ico-3246</td>\n",
              "    </tr>\n",
              "    <tr>\n",
              "      <th>3</th>\n",
              "      <td>3</td>\n",
              "      <td>LoopX</td>\n",
              "      <td>https://icoholder.com/en/loopx-17448</td>\n",
              "    </tr>\n",
              "    <tr>\n",
              "      <th>4</th>\n",
              "      <td>4</td>\n",
              "      <td>Cromacoin</td>\n",
              "      <td>https://icoholder.com/en/cromacoin-25611</td>\n",
              "    </tr>\n",
              "    <tr>\n",
              "      <th>...</th>\n",
              "      <td>...</td>\n",
              "      <td>...</td>\n",
              "      <td>...</td>\n",
              "    </tr>\n",
              "    <tr>\n",
              "      <th>10292</th>\n",
              "      <td>6779</td>\n",
              "      <td>BCharity - International Charity Exchange</td>\n",
              "      <td>https://icoholder.com/en/bcharity-internationa...</td>\n",
              "    </tr>\n",
              "    <tr>\n",
              "      <th>10293</th>\n",
              "      <td>6780</td>\n",
              "      <td>TheFund.io</td>\n",
              "      <td>https://icoholder.com/en/thefund-io-26513</td>\n",
              "    </tr>\n",
              "    <tr>\n",
              "      <th>10294</th>\n",
              "      <td>6781</td>\n",
              "      <td>Stan World</td>\n",
              "      <td>https://icoholder.com/en/stan-world-30970</td>\n",
              "    </tr>\n",
              "    <tr>\n",
              "      <th>10295</th>\n",
              "      <td>6782</td>\n",
              "      <td>P2PS</td>\n",
              "      <td>https://icoholder.com/en/p2ps-16779</td>\n",
              "    </tr>\n",
              "    <tr>\n",
              "      <th>10296</th>\n",
              "      <td>6783</td>\n",
              "      <td>Enlte (ENLTE)</td>\n",
              "      <td>https://icoholder.com/en/enlte-enlte-21413</td>\n",
              "    </tr>\n",
              "  </tbody>\n",
              "</table>\n",
              "<p>10297 rows × 3 columns</p>\n",
              "</div>"
            ],
            "text/plain": [
              "       index                                   ICO_Name  \\\n",
              "0          0                             World Cup Apes   \n",
              "1          1                              Premium Trade   \n",
              "2          2                       Moneypot X (MPX) ICO   \n",
              "3          3                                      LoopX   \n",
              "4          4                                  Cromacoin   \n",
              "...      ...                                        ...   \n",
              "10292   6779  BCharity - International Charity Exchange   \n",
              "10293   6780                                 TheFund.io   \n",
              "10294   6781                                 Stan World   \n",
              "10295   6782                                       P2PS   \n",
              "10296   6783                              Enlte (ENLTE)   \n",
              "\n",
              "                                                     URL  \n",
              "0        https://icoholder.com/en/world-cup-apes-1024462  \n",
              "1                 https://icoholder.com/en/premium-trade  \n",
              "2       https://icoholder.com/en/moneypot-x-mpx-ico-3246  \n",
              "3                   https://icoholder.com/en/loopx-17448  \n",
              "4               https://icoholder.com/en/cromacoin-25611  \n",
              "...                                                  ...  \n",
              "10292  https://icoholder.com/en/bcharity-internationa...  \n",
              "10293          https://icoholder.com/en/thefund-io-26513  \n",
              "10294          https://icoholder.com/en/stan-world-30970  \n",
              "10295                https://icoholder.com/en/p2ps-16779  \n",
              "10296         https://icoholder.com/en/enlte-enlte-21413  \n",
              "\n",
              "[10297 rows x 3 columns]"
            ]
          },
          "execution_count": 14,
          "metadata": {},
          "output_type": "execute_result"
        }
      ],
      "source": [
        "df_final = pd.concat([df_url ,df_url_2],axis=0).reset_index()\n",
        "df_final"
      ]
    },
    {
      "cell_type": "code",
      "execution_count": null,
      "metadata": {
        "id": "qSEe5Fk-ejKn",
        "outputId": "9f4667ed-f7b7-4fa3-c4b2-0f3d8743b8f5"
      },
      "outputs": [
        {
          "data": {
            "text/html": [
              "<div>\n",
              "<style scoped>\n",
              "    .dataframe tbody tr th:only-of-type {\n",
              "        vertical-align: middle;\n",
              "    }\n",
              "\n",
              "    .dataframe tbody tr th {\n",
              "        vertical-align: top;\n",
              "    }\n",
              "\n",
              "    .dataframe thead th {\n",
              "        text-align: right;\n",
              "    }\n",
              "</style>\n",
              "<table border=\"1\" class=\"dataframe\">\n",
              "  <thead>\n",
              "    <tr style=\"text-align: right;\">\n",
              "      <th></th>\n",
              "      <th>index</th>\n",
              "      <th>ICO_Name</th>\n",
              "      <th>URL</th>\n",
              "    </tr>\n",
              "  </thead>\n",
              "  <tbody>\n",
              "    <tr>\n",
              "      <th>17</th>\n",
              "      <td>17</td>\n",
              "      <td>Premium Trade</td>\n",
              "      <td>https://icoholder.com/en/premium-trade</td>\n",
              "    </tr>\n",
              "    <tr>\n",
              "      <th>19</th>\n",
              "      <td>19</td>\n",
              "      <td>CryptoKami</td>\n",
              "      <td>https://icoholder.com/en/cryptokami-18029</td>\n",
              "    </tr>\n",
              "    <tr>\n",
              "      <th>20</th>\n",
              "      <td>20</td>\n",
              "      <td>Cromacoin</td>\n",
              "      <td>https://icoholder.com/en/cromacoin-25611</td>\n",
              "    </tr>\n",
              "    <tr>\n",
              "      <th>22</th>\n",
              "      <td>22</td>\n",
              "      <td>Maximine ICO</td>\n",
              "      <td>https://icoholder.com/en/maximine-ico-21047</td>\n",
              "    </tr>\n",
              "    <tr>\n",
              "      <th>25</th>\n",
              "      <td>25</td>\n",
              "      <td>SupportChain</td>\n",
              "      <td>https://icoholder.com/en/supportchain-23096</td>\n",
              "    </tr>\n",
              "    <tr>\n",
              "      <th>...</th>\n",
              "      <td>...</td>\n",
              "      <td>...</td>\n",
              "      <td>...</td>\n",
              "    </tr>\n",
              "    <tr>\n",
              "      <th>10217</th>\n",
              "      <td>6704</td>\n",
              "      <td>World Cup Apes</td>\n",
              "      <td>https://icoholder.com/en/world-cup-apes-1024462</td>\n",
              "    </tr>\n",
              "    <tr>\n",
              "      <th>10233</th>\n",
              "      <td>6720</td>\n",
              "      <td>Cryptostone</td>\n",
              "      <td>https://icoholder.com/en/cryptostone-1025141</td>\n",
              "    </tr>\n",
              "    <tr>\n",
              "      <th>10249</th>\n",
              "      <td>6736</td>\n",
              "      <td>IguVerse™</td>\n",
              "      <td>https://icoholder.com/en/iguverse-1025023</td>\n",
              "    </tr>\n",
              "    <tr>\n",
              "      <th>10265</th>\n",
              "      <td>6752</td>\n",
              "      <td>World Cup Apes</td>\n",
              "      <td>https://icoholder.com/en/world-cup-apes-1024462</td>\n",
              "    </tr>\n",
              "    <tr>\n",
              "      <th>10281</th>\n",
              "      <td>6768</td>\n",
              "      <td>World Cup Apes</td>\n",
              "      <td>https://icoholder.com/en/world-cup-apes-1024462</td>\n",
              "    </tr>\n",
              "  </tbody>\n",
              "</table>\n",
              "<p>2527 rows × 3 columns</p>\n",
              "</div>"
            ],
            "text/plain": [
              "       index        ICO_Name                                              URL\n",
              "17        17   Premium Trade           https://icoholder.com/en/premium-trade\n",
              "19        19      CryptoKami        https://icoholder.com/en/cryptokami-18029\n",
              "20        20       Cromacoin         https://icoholder.com/en/cromacoin-25611\n",
              "22        22    Maximine ICO      https://icoholder.com/en/maximine-ico-21047\n",
              "25        25    SupportChain      https://icoholder.com/en/supportchain-23096\n",
              "...      ...             ...                                              ...\n",
              "10217   6704  World Cup Apes  https://icoholder.com/en/world-cup-apes-1024462\n",
              "10233   6720     Cryptostone     https://icoholder.com/en/cryptostone-1025141\n",
              "10249   6736       IguVerse™        https://icoholder.com/en/iguverse-1025023\n",
              "10265   6752  World Cup Apes  https://icoholder.com/en/world-cup-apes-1024462\n",
              "10281   6768  World Cup Apes  https://icoholder.com/en/world-cup-apes-1024462\n",
              "\n",
              "[2527 rows x 3 columns]"
            ]
          },
          "execution_count": 20,
          "metadata": {},
          "output_type": "execute_result"
        }
      ],
      "source": [
        "df_final[df_final.duplicated(subset='URL')]"
      ]
    },
    {
      "cell_type": "code",
      "execution_count": null,
      "metadata": {
        "id": "EexnE-x1ejKo",
        "outputId": "299a1ca7-bce6-40d9-cb45-0e42ed5ddbce"
      },
      "outputs": [
        {
          "data": {
            "text/plain": [
              "(10297, 3)"
            ]
          },
          "execution_count": 21,
          "metadata": {},
          "output_type": "execute_result"
        }
      ],
      "source": [
        "df_final.shape"
      ]
    },
    {
      "cell_type": "code",
      "execution_count": null,
      "metadata": {
        "id": "j-DXiRIEejKp"
      },
      "outputs": [],
      "source": [
        "df_final.drop_duplicates(subset='URL', keep='first', inplace=True)"
      ]
    },
    {
      "cell_type": "code",
      "execution_count": null,
      "metadata": {
        "id": "TzPbR1bjejKp",
        "outputId": "a4a96900-fff7-4cbc-8b06-7b0a3d012ac3"
      },
      "outputs": [
        {
          "data": {
            "text/plain": [
              "(7770, 2)"
            ]
          },
          "execution_count": 26,
          "metadata": {},
          "output_type": "execute_result"
        }
      ],
      "source": [
        "df_final.drop(columns='index',inplace=True)\n",
        "df_final.shape"
      ]
    },
    {
      "cell_type": "code",
      "execution_count": null,
      "metadata": {
        "id": "kXvTZtkCejKr"
      },
      "outputs": [],
      "source": [
        "import pandas as pd\n",
        "from selenium import webdriver\n",
        "from selenium.webdriver.common.by import By\n",
        "from selenium.webdriver.common.by import By\n",
        "import re\n",
        "import pandas as pd\n",
        "#import matplotlib.pyplot as plt\n",
        "import urllib\n",
        "from lxml import html\n",
        "from lxml import cssselect\n",
        "import time\n",
        "from urllib.request import urlopen\n",
        "from IPython.display import display, Markdown\n",
        "import os\n",
        "\n",
        "\n",
        "os.environ[\"PATH\"] = '$PATH:.'\n",
        "options = webdriver.ChromeOptions()\n",
        "driver = webdriver.Chrome()"
      ]
    },
    {
      "cell_type": "code",
      "source": [
        "icos_df = df_final.copy()\n",
        "icos_df\n",
        "icos_df[\"ICO_price\"] = \"\"\n",
        "icos_df[\"ico_launch_month\"] = \"\"\n",
        "icos_df[\"ico_end_month\"] = \"\"\n",
        "icos_df[\"ticker\"] = \"\"\n",
        "icos_df[\"accepted_currency\"] = \"\"\n",
        "icos_df[\"platform\"] = \"\"\n",
        "icos_df[\"category\"] = \"\"\n",
        "icos_df[\"country\"] = \"\""
      ],
      "metadata": {
        "id": "zKN5VGZrRdce"
      },
      "execution_count": null,
      "outputs": []
    },
    {
      "cell_type": "code",
      "source": [
        "dicti = {\"Ticker\": 4,\n",
        "         \"Accepted Currencies\": 5,\n",
        "         \"Platform\": 6,\n",
        "         \"Categories\": 7,\n",
        "         \"Registered Country\": 8}"
      ],
      "metadata": {
        "id": "wzigzvJ8Rk5Z"
      },
      "execution_count": null,
      "outputs": []
    },
    {
      "cell_type": "code",
      "source": [
        "for index, row in icos_df.iterrows():\n",
        "    try:\n",
        "        time.sleep(1.2)\n",
        "        driver.get(row[\"URL\"])\n",
        "        req = urllib.request.Request(row[\"URL\"], headers={'User-Agent' : \"Magic Browser\"})\n",
        "        url = urlopen(req)\n",
        "        tree = html.document_fromstring(url.read())\n",
        "        quotes = tree.cssselect(\"div.ico-more-info__row\")\n",
        "\n",
        "        try:\n",
        "            icos_df.iloc[index,2] = driver.find_element(By.CSS_SELECTOR,\"div.d-inline-block:nth-child(3)\").text\n",
        "            print(driver.find_element(By.CSS_SELECTOR,\"div.d-inline-block:nth-child(3)\").text)\n",
        "        except Exception as e:\n",
        "            row[\"ICO_price\"] = \"Not Found\"\n",
        "\n",
        "\n",
        "        try:\n",
        "            icos_df.iloc[index,3] = driver.find_element(By.CSS_SELECTOR,\".ico-list-date-from\").text\n",
        "            print(driver.find_element(By.CSS_SELECTOR,\".ico-list-date-from\").text)\n",
        "        except Exception as e:\n",
        "            row[\"ico_launch_month\"] = \"Not Found\"\n",
        "\n",
        "        try:\n",
        "            icos_df.iloc[index,4] = driver.find_element(By.XPATH,\"/html/body/header/div/div/div[4]/div/div[2]/div[4]/div[2]/div/div[1]/div[1]/div/div/div/div[2]/div/div[2]\").text\n",
        "            print(driver.find_element(By.XPATH,\"/html/body/header/div/div/div[4]/div/div[2]/div[4]/div[2]/div/div[1]/div[1]/div/div/div/div[2]/div/div[2]\").text)\n",
        "        except Exception as e:\n",
        "            row.at[\"ico_end_month\"] = \"Not Found\"\n",
        "\n",
        "        for i in range(len(quotes)):\n",
        "            text_strings = quotes[i-1].text_content().split(\"\\n\")\n",
        "            print(text_strings)\n",
        "            print(str(dicti.get(text_strings[1])))\n",
        "            print(icos_df.iloc[index,dicti.get(text_strings[1])])\n",
        "            print(text_strings[3])\n",
        "            icos_df.iloc[index, dicti.get(text_strings[1])]= text_strings[3]\n",
        "            print(\"________\")\n",
        "    except:\n",
        "        print(\"Error, jumping to the next one\")"
      ],
      "metadata": {
        "id": "vihH_BG_RqeT"
      },
      "execution_count": null,
      "outputs": []
    },
    {
      "cell_type": "code",
      "source": [
        "icos_df.to_csv(\"Icos_scrapped.csv\")"
      ],
      "metadata": {
        "id": "EHj52Vm4RvHc"
      },
      "execution_count": null,
      "outputs": []
    },
    {
      "cell_type": "code",
      "source": [
        "driver.quit()"
      ],
      "metadata": {
        "id": "209qH2dFRxlE"
      },
      "execution_count": null,
      "outputs": []
    }
  ],
  "metadata": {
    "interpreter": {
      "hash": "89f7601beee1a1774473f2daef8d9e87e3005837a02ebe5f4384e26df7d6d5fd"
    },
    "kernelspec": {
      "display_name": "Python 3.6.9 ('mbdds_rpy20')",
      "language": "python",
      "name": "python3"
    },
    "language_info": {
      "codemirror_mode": {
        "name": "ipython",
        "version": 3
      },
      "file_extension": ".py",
      "mimetype": "text/x-python",
      "name": "python",
      "nbconvert_exporter": "python",
      "pygments_lexer": "ipython3",
      "version": "3.6.9"
    },
    "orig_nbformat": 4,
    "colab": {
      "provenance": []
    }
  },
  "nbformat": 4,
  "nbformat_minor": 0
}