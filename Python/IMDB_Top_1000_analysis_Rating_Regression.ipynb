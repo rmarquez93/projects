{
  "cells": [
    {
      "cell_type": "code",
      "execution_count": 1,
      "metadata": {
        "id": "OV_PyziX3gTl"
      },
      "outputs": [
        {
          "name": "stderr",
          "output_type": "stream",
          "text": [
            "c:\\Users\\Rodri\\Anaconda3\\lib\\site-packages\\pandas\\core\\computation\\expressions.py:20: UserWarning: Pandas requires version '2.7.3' or newer of 'numexpr' (version '2.7.1' currently installed).\n",
            "  from pandas.core.computation.check import NUMEXPR_INSTALLED\n"
          ]
        }
      ],
      "source": [
        "import pandas as pd\n",
        "import numpy as np\n",
        "import matplotlib.pyplot as plt\n",
        "import seaborn as sns\n",
        "\n",
        "\n",
        "from sklearn.model_selection import train_test_split\n",
        "from sklearn.tree import plot_tree\n",
        "from sklearn.metrics import mean_absolute_error, mean_squared_error, r2_score\n",
        "from sklearn.tree import DecisionTreeRegressor\n",
        "from enum import unique\n",
        "from sklearn import preprocessing"
      ]
    },
    {
      "cell_type": "code",
      "execution_count": 2,
      "metadata": {
        "id": "VNtL6jNI3pso"
      },
      "outputs": [],
      "source": [
        "raw_df = pd.read_csv(\"https://raw.githubusercontent.com/rmarquez93/data_sources/main/imdb_top_1000.csv\")"
      ]
    },
    {
      "cell_type": "code",
      "execution_count": 3,
      "metadata": {
        "colab": {
          "base_uri": "https://localhost:8080/"
        },
        "id": "STc-RhNjfgKe",
        "outputId": "a5bf9620-14a2-477d-8c1c-d54b9ebfff3b"
      },
      "outputs": [
        {
          "data": {
            "text/plain": [
              "(1000, 16)"
            ]
          },
          "execution_count": 3,
          "metadata": {},
          "output_type": "execute_result"
        }
      ],
      "source": [
        "raw_df.shape"
      ]
    },
    {
      "cell_type": "code",
      "execution_count": 4,
      "metadata": {
        "colab": {
          "base_uri": "https://localhost:8080/",
          "height": 722
        },
        "id": "BVa0zXbH3w29",
        "outputId": "e351747e-ab49-464b-c059-0d83db11550f"
      },
      "outputs": [
        {
          "data": {
            "text/html": [
              "<div>\n",
              "<style scoped>\n",
              "    .dataframe tbody tr th:only-of-type {\n",
              "        vertical-align: middle;\n",
              "    }\n",
              "\n",
              "    .dataframe tbody tr th {\n",
              "        vertical-align: top;\n",
              "    }\n",
              "\n",
              "    .dataframe thead th {\n",
              "        text-align: right;\n",
              "    }\n",
              "</style>\n",
              "<table border=\"1\" class=\"dataframe\">\n",
              "  <thead>\n",
              "    <tr style=\"text-align: right;\">\n",
              "      <th></th>\n",
              "      <th>Poster_Link</th>\n",
              "      <th>Series_Title</th>\n",
              "      <th>Released_Year</th>\n",
              "      <th>Certificate</th>\n",
              "      <th>Runtime</th>\n",
              "      <th>Genre</th>\n",
              "      <th>IMDB_Rating</th>\n",
              "      <th>Overview</th>\n",
              "      <th>Meta_score</th>\n",
              "      <th>Director</th>\n",
              "      <th>Star1</th>\n",
              "      <th>Star2</th>\n",
              "      <th>Star3</th>\n",
              "      <th>Star4</th>\n",
              "      <th>No_of_Votes</th>\n",
              "      <th>Gross</th>\n",
              "    </tr>\n",
              "  </thead>\n",
              "  <tbody>\n",
              "    <tr>\n",
              "      <th>0</th>\n",
              "      <td>https://m.media-amazon.com/images/M/MV5BMDFkYT...</td>\n",
              "      <td>The Shawshank Redemption</td>\n",
              "      <td>1994</td>\n",
              "      <td>A</td>\n",
              "      <td>142 min</td>\n",
              "      <td>Drama</td>\n",
              "      <td>9.3</td>\n",
              "      <td>Two imprisoned men bond over a number of years...</td>\n",
              "      <td>80.0</td>\n",
              "      <td>Frank Darabont</td>\n",
              "      <td>Tim Robbins</td>\n",
              "      <td>Morgan Freeman</td>\n",
              "      <td>Bob Gunton</td>\n",
              "      <td>William Sadler</td>\n",
              "      <td>2343110</td>\n",
              "      <td>28,341,469</td>\n",
              "    </tr>\n",
              "    <tr>\n",
              "      <th>1</th>\n",
              "      <td>https://m.media-amazon.com/images/M/MV5BM2MyNj...</td>\n",
              "      <td>The Godfather</td>\n",
              "      <td>1972</td>\n",
              "      <td>A</td>\n",
              "      <td>175 min</td>\n",
              "      <td>Crime, Drama</td>\n",
              "      <td>9.2</td>\n",
              "      <td>An organized crime dynasty's aging patriarch t...</td>\n",
              "      <td>100.0</td>\n",
              "      <td>Francis Ford Coppola</td>\n",
              "      <td>Marlon Brando</td>\n",
              "      <td>Al Pacino</td>\n",
              "      <td>James Caan</td>\n",
              "      <td>Diane Keaton</td>\n",
              "      <td>1620367</td>\n",
              "      <td>134,966,411</td>\n",
              "    </tr>\n",
              "    <tr>\n",
              "      <th>2</th>\n",
              "      <td>https://m.media-amazon.com/images/M/MV5BMTMxNT...</td>\n",
              "      <td>The Dark Knight</td>\n",
              "      <td>2008</td>\n",
              "      <td>UA</td>\n",
              "      <td>152 min</td>\n",
              "      <td>Action, Crime, Drama</td>\n",
              "      <td>9.0</td>\n",
              "      <td>When the menace known as the Joker wreaks havo...</td>\n",
              "      <td>84.0</td>\n",
              "      <td>Christopher Nolan</td>\n",
              "      <td>Christian Bale</td>\n",
              "      <td>Heath Ledger</td>\n",
              "      <td>Aaron Eckhart</td>\n",
              "      <td>Michael Caine</td>\n",
              "      <td>2303232</td>\n",
              "      <td>534,858,444</td>\n",
              "    </tr>\n",
              "    <tr>\n",
              "      <th>3</th>\n",
              "      <td>https://m.media-amazon.com/images/M/MV5BMWMwMG...</td>\n",
              "      <td>The Godfather: Part II</td>\n",
              "      <td>1974</td>\n",
              "      <td>A</td>\n",
              "      <td>202 min</td>\n",
              "      <td>Crime, Drama</td>\n",
              "      <td>9.0</td>\n",
              "      <td>The early life and career of Vito Corleone in ...</td>\n",
              "      <td>90.0</td>\n",
              "      <td>Francis Ford Coppola</td>\n",
              "      <td>Al Pacino</td>\n",
              "      <td>Robert De Niro</td>\n",
              "      <td>Robert Duvall</td>\n",
              "      <td>Diane Keaton</td>\n",
              "      <td>1129952</td>\n",
              "      <td>57,300,000</td>\n",
              "    </tr>\n",
              "    <tr>\n",
              "      <th>4</th>\n",
              "      <td>https://m.media-amazon.com/images/M/MV5BMWU4N2...</td>\n",
              "      <td>12 Angry Men</td>\n",
              "      <td>1957</td>\n",
              "      <td>U</td>\n",
              "      <td>96 min</td>\n",
              "      <td>Crime, Drama</td>\n",
              "      <td>9.0</td>\n",
              "      <td>A jury holdout attempts to prevent a miscarria...</td>\n",
              "      <td>96.0</td>\n",
              "      <td>Sidney Lumet</td>\n",
              "      <td>Henry Fonda</td>\n",
              "      <td>Lee J. Cobb</td>\n",
              "      <td>Martin Balsam</td>\n",
              "      <td>John Fiedler</td>\n",
              "      <td>689845</td>\n",
              "      <td>4,360,000</td>\n",
              "    </tr>\n",
              "  </tbody>\n",
              "</table>\n",
              "</div>"
            ],
            "text/plain": [
              "                                         Poster_Link  \\\n",
              "0  https://m.media-amazon.com/images/M/MV5BMDFkYT...   \n",
              "1  https://m.media-amazon.com/images/M/MV5BM2MyNj...   \n",
              "2  https://m.media-amazon.com/images/M/MV5BMTMxNT...   \n",
              "3  https://m.media-amazon.com/images/M/MV5BMWMwMG...   \n",
              "4  https://m.media-amazon.com/images/M/MV5BMWU4N2...   \n",
              "\n",
              "               Series_Title Released_Year Certificate  Runtime  \\\n",
              "0  The Shawshank Redemption          1994           A  142 min   \n",
              "1             The Godfather          1972           A  175 min   \n",
              "2           The Dark Knight          2008          UA  152 min   \n",
              "3    The Godfather: Part II          1974           A  202 min   \n",
              "4              12 Angry Men          1957           U   96 min   \n",
              "\n",
              "                  Genre  IMDB_Rating  \\\n",
              "0                 Drama          9.3   \n",
              "1          Crime, Drama          9.2   \n",
              "2  Action, Crime, Drama          9.0   \n",
              "3          Crime, Drama          9.0   \n",
              "4          Crime, Drama          9.0   \n",
              "\n",
              "                                            Overview  Meta_score  \\\n",
              "0  Two imprisoned men bond over a number of years...        80.0   \n",
              "1  An organized crime dynasty's aging patriarch t...       100.0   \n",
              "2  When the menace known as the Joker wreaks havo...        84.0   \n",
              "3  The early life and career of Vito Corleone in ...        90.0   \n",
              "4  A jury holdout attempts to prevent a miscarria...        96.0   \n",
              "\n",
              "               Director           Star1           Star2          Star3  \\\n",
              "0        Frank Darabont     Tim Robbins  Morgan Freeman     Bob Gunton   \n",
              "1  Francis Ford Coppola   Marlon Brando       Al Pacino     James Caan   \n",
              "2     Christopher Nolan  Christian Bale    Heath Ledger  Aaron Eckhart   \n",
              "3  Francis Ford Coppola       Al Pacino  Robert De Niro  Robert Duvall   \n",
              "4          Sidney Lumet     Henry Fonda     Lee J. Cobb  Martin Balsam   \n",
              "\n",
              "            Star4  No_of_Votes        Gross  \n",
              "0  William Sadler      2343110   28,341,469  \n",
              "1    Diane Keaton      1620367  134,966,411  \n",
              "2   Michael Caine      2303232  534,858,444  \n",
              "3    Diane Keaton      1129952   57,300,000  \n",
              "4    John Fiedler       689845    4,360,000  "
            ]
          },
          "execution_count": 4,
          "metadata": {},
          "output_type": "execute_result"
        }
      ],
      "source": [
        "raw_df.head(5)"
      ]
    },
    {
      "attachments": {},
      "cell_type": "markdown",
      "metadata": {
        "id": "EjD29Uet375J"
      },
      "source": [
        "Goal: Predict the IMDB rating based on the rest of the features available."
      ]
    },
    {
      "attachments": {},
      "cell_type": "markdown",
      "metadata": {
        "id": "Wf1eDZGXxh_m"
      },
      "source": [
        "Three features will be converted into continous numerical values. For these three variables a checking on the content that doesn't seem to be numerical is performed."
      ]
    },
    {
      "cell_type": "code",
      "execution_count": 5,
      "metadata": {
        "colab": {
          "base_uri": "https://localhost:8080/"
        },
        "id": "qi484xVOwDtH",
        "outputId": "c461f49d-e5d0-4a57-f344-53ecad312568"
      },
      "outputs": [
        {
          "name": "stdout",
          "output_type": "stream",
          "text": [
            "Variable: Released_Year\n",
            "966    PG\n",
            "Name: Released_Year, dtype: object\n",
            "\n",
            "************************************************************\n",
            "Variable: Runtime\n",
            "0      142 min\n",
            "1      175 min\n",
            "2      152 min\n",
            "3      202 min\n",
            "4       96 min\n",
            "        ...   \n",
            "995    115 min\n",
            "996    201 min\n",
            "997    118 min\n",
            "998     97 min\n",
            "999     86 min\n",
            "Name: Runtime, Length: 1000, dtype: object\n",
            "\n",
            "************************************************************\n",
            "Variable: Gross\n",
            "0       28,341,469\n",
            "1      134,966,411\n",
            "2      534,858,444\n",
            "3       57,300,000\n",
            "4        4,360,000\n",
            "          ...     \n",
            "995            NaN\n",
            "996            NaN\n",
            "997     30,500,000\n",
            "998            NaN\n",
            "999            NaN\n",
            "Name: Gross, Length: 1000, dtype: object\n",
            "\n",
            "************************************************************\n"
          ]
        }
      ],
      "source": [
        "print(\"Variable: Released_Year\")\n",
        "print(raw_df[pd.to_numeric(raw_df[\"Released_Year\"], errors='coerce').isnull()][\"Released_Year\"])\n",
        "print(\"\\n\"+\"*\"*60)\n",
        "\n",
        "print(\"Variable: Runtime\")\n",
        "print(raw_df[pd.to_numeric(raw_df[\"Runtime\"], errors='coerce').isnull()][\"Runtime\"])\n",
        "print(\"\\n\"+\"*\"*60)\n",
        "\n",
        "print(\"Variable: Gross\")\n",
        "print(raw_df[pd.to_numeric(raw_df[\"Gross\"], errors='coerce').isnull()][\"Gross\"])\n",
        "print(\"\\n\"+\"*\"*60)"
      ]
    },
    {
      "attachments": {},
      "cell_type": "markdown",
      "metadata": {
        "id": "uCDJ39N-40WC"
      },
      "source": [
        "Deleting \"mins\" from the text of movie duration and converting it to integer later on. Converting to float the \"gross\" revenue too."
      ]
    },
    {
      "cell_type": "code",
      "execution_count": 6,
      "metadata": {
        "id": "42yeKevx4z8o"
      },
      "outputs": [],
      "source": [
        "raw_df[\"Runtime\"] = raw_df[\"Runtime\"].str.replace(\"min\",\"\")\n",
        "raw_df[\"Runtime\"] = raw_df[\"Runtime\"].str.strip()\n",
        "raw_df[\"Runtime\"] = raw_df[\"Runtime\"].astype(int)\n",
        "raw_df[\"Released_Year\"] = raw_df[\"Released_Year\"].replace(\"PG\",np.nan)\n",
        "#The variable is converted to float to handle null values. Null treatment will be done later on the script.\n",
        "raw_df[\"Released_Year\"] = raw_df[\"Released_Year\"].astype(float) \n",
        "raw_df[\"Gross\"] = raw_df[\"Gross\"].str.replace(\",\",\"\").astype(float)"
      ]
    },
    {
      "attachments": {},
      "cell_type": "markdown",
      "metadata": {
        "id": "dGr6pbP94A9a"
      },
      "source": [
        "# Exploratory Analysis"
      ]
    },
    {
      "attachments": {},
      "cell_type": "markdown",
      "metadata": {
        "id": "4z8CL3Qx1mY6"
      },
      "source": [
        "Overview of the data types that are shown in the dataframe."
      ]
    },
    {
      "cell_type": "code",
      "execution_count": 7,
      "metadata": {
        "colab": {
          "base_uri": "https://localhost:8080/"
        },
        "id": "4ZoUyPuy3zL-",
        "outputId": "0100dcd6-4e4e-440f-b9fc-df85b32bee91"
      },
      "outputs": [
        {
          "name": "stdout",
          "output_type": "stream",
          "text": [
            "Poster_Link  :  object\n",
            "Series_Title  :  object\n",
            "Released_Year  :  float64\n",
            "Certificate  :  object\n",
            "Runtime  :  int32\n",
            "Genre  :  object\n",
            "IMDB_Rating  :  float64\n",
            "Overview  :  object\n",
            "Meta_score  :  float64\n",
            "Director  :  object\n",
            "Star1  :  object\n",
            "Star2  :  object\n",
            "Star3  :  object\n",
            "Star4  :  object\n",
            "No_of_Votes  :  int64\n",
            "Gross  :  float64\n"
          ]
        }
      ],
      "source": [
        "for i in raw_df.columns:\n",
        "  print(i,\" : \",raw_df[i].dtype)\n"
      ]
    },
    {
      "attachments": {},
      "cell_type": "markdown",
      "metadata": {
        "id": "rA0WlZuUPP_6"
      },
      "source": [
        "Null values general overview"
      ]
    },
    {
      "cell_type": "code",
      "execution_count": 8,
      "metadata": {
        "colab": {
          "base_uri": "https://localhost:8080/"
        },
        "id": "dCjxg6-LPNTh",
        "outputId": "a2dc7ed2-770d-4eba-83a5-5a7375d72227"
      },
      "outputs": [
        {
          "data": {
            "text/plain": [
              "Poster_Link        0\n",
              "Series_Title       0\n",
              "Released_Year      1\n",
              "Certificate      101\n",
              "Runtime            0\n",
              "Genre              0\n",
              "IMDB_Rating        0\n",
              "Overview           0\n",
              "Meta_score       157\n",
              "Director           0\n",
              "Star1              0\n",
              "Star2              0\n",
              "Star3              0\n",
              "Star4              0\n",
              "No_of_Votes        0\n",
              "Gross            169\n",
              "dtype: int64"
            ]
          },
          "execution_count": 8,
          "metadata": {},
          "output_type": "execute_result"
        }
      ],
      "source": [
        "raw_df.isnull().sum()"
      ]
    },
    {
      "cell_type": "code",
      "execution_count": 9,
      "metadata": {
        "colab": {
          "base_uri": "https://localhost:8080/",
          "height": 301
        },
        "id": "Fov-r7bWfrxU",
        "outputId": "5bf7b630-669f-421c-ec07-5e3625cc750a"
      },
      "outputs": [
        {
          "data": {
            "text/html": [
              "<div>\n",
              "<style scoped>\n",
              "    .dataframe tbody tr th:only-of-type {\n",
              "        vertical-align: middle;\n",
              "    }\n",
              "\n",
              "    .dataframe tbody tr th {\n",
              "        vertical-align: top;\n",
              "    }\n",
              "\n",
              "    .dataframe thead th {\n",
              "        text-align: right;\n",
              "    }\n",
              "</style>\n",
              "<table border=\"1\" class=\"dataframe\">\n",
              "  <thead>\n",
              "    <tr style=\"text-align: right;\">\n",
              "      <th></th>\n",
              "      <th>Released_Year</th>\n",
              "      <th>Runtime</th>\n",
              "      <th>IMDB_Rating</th>\n",
              "      <th>Meta_score</th>\n",
              "      <th>No_of_Votes</th>\n",
              "      <th>Gross</th>\n",
              "    </tr>\n",
              "  </thead>\n",
              "  <tbody>\n",
              "    <tr>\n",
              "      <th>count</th>\n",
              "      <td>999.000000</td>\n",
              "      <td>1000.000000</td>\n",
              "      <td>1000.000000</td>\n",
              "      <td>843.000000</td>\n",
              "      <td>1.000000e+03</td>\n",
              "      <td>8.310000e+02</td>\n",
              "    </tr>\n",
              "    <tr>\n",
              "      <th>mean</th>\n",
              "      <td>1991.217217</td>\n",
              "      <td>122.891000</td>\n",
              "      <td>7.949300</td>\n",
              "      <td>77.971530</td>\n",
              "      <td>2.736929e+05</td>\n",
              "      <td>6.803475e+07</td>\n",
              "    </tr>\n",
              "    <tr>\n",
              "      <th>std</th>\n",
              "      <td>23.297025</td>\n",
              "      <td>28.093671</td>\n",
              "      <td>0.275491</td>\n",
              "      <td>12.376099</td>\n",
              "      <td>3.273727e+05</td>\n",
              "      <td>1.097500e+08</td>\n",
              "    </tr>\n",
              "    <tr>\n",
              "      <th>min</th>\n",
              "      <td>1920.000000</td>\n",
              "      <td>45.000000</td>\n",
              "      <td>7.600000</td>\n",
              "      <td>28.000000</td>\n",
              "      <td>2.508800e+04</td>\n",
              "      <td>1.305000e+03</td>\n",
              "    </tr>\n",
              "    <tr>\n",
              "      <th>25%</th>\n",
              "      <td>1976.000000</td>\n",
              "      <td>103.000000</td>\n",
              "      <td>7.700000</td>\n",
              "      <td>70.000000</td>\n",
              "      <td>5.552625e+04</td>\n",
              "      <td>3.253559e+06</td>\n",
              "    </tr>\n",
              "    <tr>\n",
              "      <th>50%</th>\n",
              "      <td>1999.000000</td>\n",
              "      <td>119.000000</td>\n",
              "      <td>7.900000</td>\n",
              "      <td>79.000000</td>\n",
              "      <td>1.385485e+05</td>\n",
              "      <td>2.353089e+07</td>\n",
              "    </tr>\n",
              "    <tr>\n",
              "      <th>75%</th>\n",
              "      <td>2009.000000</td>\n",
              "      <td>137.000000</td>\n",
              "      <td>8.100000</td>\n",
              "      <td>87.000000</td>\n",
              "      <td>3.741612e+05</td>\n",
              "      <td>8.075089e+07</td>\n",
              "    </tr>\n",
              "    <tr>\n",
              "      <th>max</th>\n",
              "      <td>2020.000000</td>\n",
              "      <td>321.000000</td>\n",
              "      <td>9.300000</td>\n",
              "      <td>100.000000</td>\n",
              "      <td>2.343110e+06</td>\n",
              "      <td>9.366622e+08</td>\n",
              "    </tr>\n",
              "  </tbody>\n",
              "</table>\n",
              "</div>"
            ],
            "text/plain": [
              "       Released_Year      Runtime  IMDB_Rating  Meta_score   No_of_Votes  \\\n",
              "count     999.000000  1000.000000  1000.000000  843.000000  1.000000e+03   \n",
              "mean     1991.217217   122.891000     7.949300   77.971530  2.736929e+05   \n",
              "std        23.297025    28.093671     0.275491   12.376099  3.273727e+05   \n",
              "min      1920.000000    45.000000     7.600000   28.000000  2.508800e+04   \n",
              "25%      1976.000000   103.000000     7.700000   70.000000  5.552625e+04   \n",
              "50%      1999.000000   119.000000     7.900000   79.000000  1.385485e+05   \n",
              "75%      2009.000000   137.000000     8.100000   87.000000  3.741612e+05   \n",
              "max      2020.000000   321.000000     9.300000  100.000000  2.343110e+06   \n",
              "\n",
              "              Gross  \n",
              "count  8.310000e+02  \n",
              "mean   6.803475e+07  \n",
              "std    1.097500e+08  \n",
              "min    1.305000e+03  \n",
              "25%    3.253559e+06  \n",
              "50%    2.353089e+07  \n",
              "75%    8.075089e+07  \n",
              "max    9.366622e+08  "
            ]
          },
          "execution_count": 9,
          "metadata": {},
          "output_type": "execute_result"
        }
      ],
      "source": [
        "raw_df.describe()"
      ]
    },
    {
      "attachments": {},
      "cell_type": "markdown",
      "metadata": {},
      "source": [
        "In the following cell, an iteration will be performed with the purpose of obtaining a first level statistics information about the features.\n",
        "\n",
        "After gathering the first-level statistics, if the feature is of type 'float' or 'int', the function 'freq_table' is called to obtain information on symmetry, kurtosis, and Spearman coefficient."
      ]
    },
    {
      "cell_type": "code",
      "execution_count": 10,
      "metadata": {
        "colab": {
          "base_uri": "https://localhost:8080/",
          "height": 1000
        },
        "id": "kJnn56_ROYCy",
        "outputId": "23587f2a-f4c1-4d4a-bab4-c25fa1535c8f"
      },
      "outputs": [
        {
          "name": "stdout",
          "output_type": "stream",
          "text": [
            "count                                                  1000\n",
            "unique                                                 1000\n",
            "top       https://m.media-amazon.com/images/M/MV5BMDFkYT...\n",
            "freq                                                      1\n",
            "Name: Poster_Link, dtype: object \n",
            "--------------------------------\n",
            "\n",
            "count         1000\n",
            "unique         999\n",
            "top       Drishyam\n",
            "freq             2\n",
            "Name: Series_Title, dtype: object \n",
            "--------------------------------\n",
            "\n"
          ]
        },
        {
          "data": {
            "image/png": "[encoded data removed]",
            "text/plain": [
              "<Figure size 1080x216 with 2 Axes>"
            ]
          },
          "metadata": {
            "needs_background": "light"
          },
          "output_type": "display_data"
        },
        {
          "name": "stdout",
          "output_type": "stream",
          "text": [
            "Asimetría: -0.939346641352243\n",
            "Curtosis: -0.021431891218695487\n",
            "count     999.000000\n",
            "mean     1991.217217\n",
            "std        23.297025\n",
            "min      1920.000000\n",
            "25%      1976.000000\n",
            "50%      1999.000000\n",
            "75%      2009.000000\n",
            "max      2020.000000\n",
            "Name: Released_Year, dtype: float64 \n",
            "Coeficiente de variación de Pearson: 0.011699891223762344 \n",
            "--------------------------------\n",
            "\n",
            "count     899\n",
            "unique     16\n",
            "top         U\n",
            "freq      234\n",
            "Name: Certificate, dtype: object \n",
            "--------------------------------\n",
            "\n",
            "count    1000.000000\n",
            "mean      122.891000\n",
            "std        28.093671\n",
            "min        45.000000\n",
            "25%       103.000000\n",
            "50%       119.000000\n",
            "75%       137.000000\n",
            "max       321.000000\n",
            "Name: Runtime, dtype: float64 \n",
            "--------------------------------\n",
            "\n",
            "count      1000\n",
            "unique      202\n",
            "top       Drama\n",
            "freq         85\n",
            "Name: Genre, dtype: object \n",
            "--------------------------------\n",
            "\n"
          ]
        },
        {
          "data": {
            "image/png": "[encoded data removed]",
            "text/plain": [
              "<Figure size 1080x216 with 2 Axes>"
            ]
          },
          "metadata": {
            "needs_background": "light"
          },
          "output_type": "display_data"
        },
        {
          "name": "stdout",
          "output_type": "stream",
          "text": [
            "Asimetría: 1.016964453611272\n",
            "Curtosis: 1.4327269987500322\n",
            "count    1000.000000\n",
            "mean        7.949300\n",
            "std         0.275491\n",
            "min         7.600000\n",
            "25%         7.700000\n",
            "50%         7.900000\n",
            "75%         8.100000\n",
            "max         9.300000\n",
            "Name: IMDB_Rating, dtype: float64 \n",
            "Coeficiente de variación de Pearson: 0.03465603354911869 \n",
            "--------------------------------\n",
            "\n",
            "count                                                  1000\n",
            "unique                                                 1000\n",
            "top       Two imprisoned men bond over a number of years...\n",
            "freq                                                      1\n",
            "Name: Overview, dtype: object \n",
            "--------------------------------\n",
            "\n"
          ]
        },
        {
          "data": {
            "image/png": "[encoded data removed]",
            "text/plain": [
              "<Figure size 1080x216 with 2 Axes>"
            ]
          },
          "metadata": {
            "needs_background": "light"
          },
          "output_type": "display_data"
        },
        {
          "name": "stdout",
          "output_type": "stream",
          "text": [
            "Asimetría: -0.6052248305009935\n",
            "Curtosis: 0.4208306168018683\n",
            "count    843.000000\n",
            "mean      77.971530\n",
            "std       12.376099\n",
            "min       28.000000\n",
            "25%       70.000000\n",
            "50%       79.000000\n",
            "75%       87.000000\n",
            "max      100.000000\n",
            "Name: Meta_score, dtype: float64 \n",
            "Coeficiente de variación de Pearson: 0.15872587454756587 \n",
            "--------------------------------\n",
            "\n",
            "count                 1000\n",
            "unique                 548\n",
            "top       Alfred Hitchcock\n",
            "freq                    14\n",
            "Name: Director, dtype: object \n",
            "--------------------------------\n",
            "\n",
            "count          1000\n",
            "unique          660\n",
            "top       Tom Hanks\n",
            "freq             12\n",
            "Name: Star1, dtype: object \n",
            "--------------------------------\n",
            "\n",
            "count            1000\n",
            "unique            841\n",
            "top       Emma Watson\n",
            "freq                7\n",
            "Name: Star2, dtype: object \n",
            "--------------------------------\n",
            "\n",
            "count             1000\n",
            "unique             891\n",
            "top       Rupert Grint\n",
            "freq                 5\n",
            "Name: Star3, dtype: object \n",
            "--------------------------------\n",
            "\n",
            "count              1000\n",
            "unique              939\n",
            "top       Michael Caine\n",
            "freq                  4\n",
            "Name: Star4, dtype: object \n",
            "--------------------------------\n",
            "\n"
          ]
        },
        {
          "data": {
            "image/png": "[encoded data removed]",
            "text/plain": [
              "<Figure size 1080x216 with 2 Axes>"
            ]
          },
          "metadata": {
            "needs_background": "light"
          },
          "output_type": "display_data"
        },
        {
          "name": "stdout",
          "output_type": "stream",
          "text": [
            "Asimetría: 2.30001058546554\n",
            "Curtosis: 6.89509932739565\n",
            "count    1.000000e+03\n",
            "mean     2.736929e+05\n",
            "std      3.273727e+05\n",
            "min      2.508800e+04\n",
            "25%      5.552625e+04\n",
            "50%      1.385485e+05\n",
            "75%      3.741612e+05\n",
            "max      2.343110e+06\n",
            "Name: No_of_Votes, dtype: float64 \n",
            "Coeficiente de variación de Pearson: 1.1961314698944645 \n",
            "--------------------------------\n",
            "\n"
          ]
        },
        {
          "data": {
            "image/png": "[encoded data removed]",
            "text/plain": [
              "<Figure size 1080x216 with 2 Axes>"
            ]
          },
          "metadata": {
            "needs_background": "light"
          },
          "output_type": "display_data"
        },
        {
          "name": "stdout",
          "output_type": "stream",
          "text": [
            "Asimetría: 3.1301343288134538\n",
            "Curtosis: 13.914472951089826\n",
            "count    8.310000e+02\n",
            "mean     6.803475e+07\n",
            "std      1.097500e+08\n",
            "min      1.305000e+03\n",
            "25%      3.253559e+06\n",
            "50%      2.353089e+07\n",
            "75%      8.075089e+07\n",
            "max      9.366622e+08\n",
            "Name: Gross, dtype: float64 \n",
            "Coeficiente de variación de Pearson: 1.6131468372098896 \n",
            "--------------------------------\n",
            "\n"
          ]
        }
      ],
      "source": [
        "for columnName in raw_df.columns:\n",
        "  \n",
        "  if (raw_df[columnName].dtype == np.float64 or raw_df[columnName].dtype == np.int64) and raw_df[columnName].isnull().sum() != len(raw_df[columnName]):\n",
        "    plt.figure(figsize = (15,3))\n",
        "    plt.suptitle(columnName)\n",
        "    plt.subplot(1,2,1)\n",
        "    sns.distplot(raw_df[columnName])\n",
        "    plt.axvline(raw_df[columnName].mean(), color= \"red\")\n",
        "    plt.text(raw_df[columnName].mean(),0,'mean',rotation=45)\n",
        "    plt.subplot(1,2,2)\n",
        "    plt.boxplot(raw_df[~np.isnan(raw_df[columnName])][columnName]) \n",
        "    plt.show()\n",
        "    print(\"Asimetría: {}\".format(raw_df[columnName].skew()))\n",
        "    print(\"Curtosis: {}\".format(raw_df[columnName].kurt()))\n",
        "    spearman = raw_df[columnName].std()/raw_df[columnName].mean()\n",
        "    print(raw_df[columnName].describe(),\"\\nCoeficiente de variación de Pearson: {} \\n--------------------------------\\n\".format(spearman))\n",
        "  else:\n",
        "    print(raw_df[columnName].describe(),\"\\n--------------------------------\\n\")"
      ]
    },
    {
      "attachments": {},
      "cell_type": "markdown",
      "metadata": {},
      "source": [
        "As a first step, I will review the content of the \"Certificate\" feature. This feature represents the qualifications that movies receive for their public exhibition."
      ]
    },
    {
      "cell_type": "code",
      "execution_count": 11,
      "metadata": {},
      "outputs": [
        {
          "data": {
            "text/plain": [
              "array(['A', 'UA', 'U', 'PG-13', 'R', nan, 'PG', 'G', 'Passed', 'TV-14',\n",
              "       '16', 'TV-MA', 'Unrated', 'GP', 'Approved', 'TV-PG', 'U/A'],\n",
              "      dtype=object)"
            ]
          },
          "execution_count": 11,
          "metadata": {},
          "output_type": "execute_result"
        }
      ],
      "source": [
        "raw_df[\"Certificate\"].unique()"
      ]
    },
    {
      "attachments": {},
      "cell_type": "markdown",
      "metadata": {},
      "source": [
        "The values \"U,\" \"U/A,\" \"A,\" and \"S\" correspond to the certification provided by the Central Board of Film Certification of the Indian government. Additionally, the values \"G,\" \"PG,\" and \"R\" are from the Motion Picture Association of the United States, which is the most widely recognized globally. Lastly, the value \"TV-PG\" corresponds to the Federal Communications Commission of the United States and applies to content broadcasted on TV.\n",
        "\n",
        "Based on the above, I will take two actions: first, I will convert all the values to a single scale (that of the MPAA), and secondly, I will handle those values that do not fit into any of the mentioned scales.\n",
        "\n",
        "| CBFC | MPAA Movies | MPAA TV | Description |\n",
        "| - | - | - | - |\n",
        "| U | G, PG | TV-Y, TV-Y7, TV-G, TV-PG | Unrestricted public exhibition, suitable for all ages |\n",
        "| UA | PG-13 | TV-14 | Unrestricted public exhibition but with caution to give parental guidance for under 12 |\n",
        "| A | R, NC-17 | TV-MA | Only adults are allowed to view these programs |\n"
      ]
    },
    {
      "cell_type": "code",
      "execution_count": 12,
      "metadata": {},
      "outputs": [
        {
          "data": {
            "text/plain": [
              "array(['A', 'UA', 'U', nan, 'Passed', 'TV-14', '16', 'TV-MA', 'Unrated',\n",
              "       'GP', 'Approved', 'TV-PG', 'U/A'], dtype=object)"
            ]
          },
          "execution_count": 12,
          "metadata": {},
          "output_type": "execute_result"
        }
      ],
      "source": [
        "raw_df[~raw_df[\"Certificate\"].isin([\"G\",\"PG\",\"PG-13\",\"R\"])][\"Certificate\"].unique()"
      ]
    },
    {
      "cell_type": "code",
      "execution_count": 13,
      "metadata": {},
      "outputs": [
        {
          "data": {
            "text/plain": [
              "array([nan, 'Passed', '16', 'Unrated', 'Approved'], dtype=object)"
            ]
          },
          "execution_count": 13,
          "metadata": {},
          "output_type": "execute_result"
        }
      ],
      "source": [
        "raw_df[\"Certificate\"] = raw_df[\"Certificate\"].str.replace(\"/\",\"\").replace(\"GP\",\"PG\")\n",
        "\n",
        "mapping = {\"A\":\"R\",\"UA\":\"PG-13\",\"U\":\"G\", \"TV-PG\":\"G\", \"TV-14\":\"PG-13\", \"TV-MA\":\"R\"}\n",
        "\n",
        "raw_df = raw_df.replace({\"Certificate\":mapping})\n",
        "\n",
        "raw_df[~raw_df[\"Certificate\"].isin([\"G\",\"PG\",\"PG-13\",\"R\"])][\"Certificate\"].unique()"
      ]
    },
    {
      "attachments": {},
      "cell_type": "markdown",
      "metadata": {},
      "source": [
        "I assume that \"Passed\" or \"Approved\" means they have the most suitable certification for all audiences (G)."
      ]
    },
    {
      "cell_type": "code",
      "execution_count": 14,
      "metadata": {},
      "outputs": [
        {
          "data": {
            "text/plain": [
              "array(['R', 'PG-13', 'G', nan, 'PG', '16', 'Unrated'], dtype=object)"
            ]
          },
          "execution_count": 14,
          "metadata": {},
          "output_type": "execute_result"
        }
      ],
      "source": [
        "raw_df = raw_df.replace({\"Certificate\":{\"Passed\":\"G\", \"Approved\":\"G\"}})\n",
        "\n",
        "raw_df[\"Certificate\"].unique()"
      ]
    },
    {
      "attachments": {},
      "cell_type": "markdown",
      "metadata": {},
      "source": [
        "Converting those values that cannot be easily allocated to \"null\"."
      ]
    },
    {
      "cell_type": "code",
      "execution_count": 15,
      "metadata": {},
      "outputs": [],
      "source": [
        "raw_df[\"Certificate\"] = raw_df[\"Certificate\"].replace(\"16\", np.nan).replace(\"Unrated\",np.nan)"
      ]
    },
    {
      "cell_type": "code",
      "execution_count": 16,
      "metadata": {},
      "outputs": [
        {
          "data": {
            "text/plain": [
              "array(['R', 'PG-13', 'G', nan, 'PG'], dtype=object)"
            ]
          },
          "execution_count": 16,
          "metadata": {},
          "output_type": "execute_result"
        }
      ],
      "source": [
        "raw_df[\"Certificate\"].unique()"
      ]
    },
    {
      "attachments": {},
      "cell_type": "markdown",
      "metadata": {},
      "source": [
        "Encoding the categories to a numeric value. This categories are ordinal, as it goes from \"widest audience\" to \"most restricted audience\"."
      ]
    },
    {
      "cell_type": "code",
      "execution_count": 17,
      "metadata": {},
      "outputs": [],
      "source": [
        "raw_df = raw_df.replace({\"Certificate\":{\n",
        "    \"G\":1,\n",
        "    \"PG\":1,\n",
        "    \"PG-13\":2,\n",
        "    \"R\":3\n",
        "}})"
      ]
    },
    {
      "attachments": {},
      "cell_type": "markdown",
      "metadata": {
        "id": "EL1_MP8Ob4I-"
      },
      "source": [
        "# Missing values analysis:"
      ]
    },
    {
      "attachments": {},
      "cell_type": "markdown",
      "metadata": {},
      "source": [
        "General overview."
      ]
    },
    {
      "cell_type": "code",
      "execution_count": 18,
      "metadata": {
        "colab": {
          "base_uri": "https://localhost:8080/"
        },
        "id": "2XxgqHPgpTxA",
        "outputId": "7819e105-ca5f-4722-f9fc-6980dd66787f"
      },
      "outputs": [
        {
          "data": {
            "text/plain": [
              "Poster_Link        0\n",
              "Series_Title       0\n",
              "Released_Year      1\n",
              "Certificate      103\n",
              "Runtime            0\n",
              "Genre              0\n",
              "IMDB_Rating        0\n",
              "Overview           0\n",
              "Meta_score       157\n",
              "Director           0\n",
              "Star1              0\n",
              "Star2              0\n",
              "Star3              0\n",
              "Star4              0\n",
              "No_of_Votes        0\n",
              "Gross            169\n",
              "dtype: int64"
            ]
          },
          "execution_count": 18,
          "metadata": {},
          "output_type": "execute_result"
        }
      ],
      "source": [
        "raw_df.isnull().sum()"
      ]
    },
    {
      "attachments": {},
      "cell_type": "markdown",
      "metadata": {
        "id": "7AaedWZDqQj9"
      },
      "source": [
        "First, I remove the null value in Released_Year because it is just one record."
      ]
    },
    {
      "cell_type": "code",
      "execution_count": 19,
      "metadata": {
        "id": "JnEkB2i1qXvT"
      },
      "outputs": [],
      "source": [
        "raw_df = raw_df[~pd.isnull(raw_df[\"Released_Year\"])].copy()"
      ]
    },
    {
      "attachments": {},
      "cell_type": "markdown",
      "metadata": {},
      "source": [
        "Creating a \"decade\" column to make certain analysis easier."
      ]
    },
    {
      "cell_type": "code",
      "execution_count": 20,
      "metadata": {
        "id": "DFO5WlDW87wp"
      },
      "outputs": [],
      "source": [
        "raw_df[\"Released_Decade\"] = (10*(raw_df.Released_Year//10))"
      ]
    },
    {
      "attachments": {},
      "cell_type": "markdown",
      "metadata": {},
      "source": [
        "Distribution of movies throughout the decades."
      ]
    },
    {
      "cell_type": "code",
      "execution_count": 21,
      "metadata": {},
      "outputs": [
        {
          "data": {
            "text/plain": [
              "<matplotlib.axes._subplots.AxesSubplot at 0x20167f34490>"
            ]
          },
          "execution_count": 21,
          "metadata": {},
          "output_type": "execute_result"
        },
        {
          "data": {
            "image/png": "[encoded data removed]",
            "text/plain": [
              "<Figure size 2160x720 with 1 Axes>"
            ]
          },
          "metadata": {
            "needs_background": "light"
          },
          "output_type": "display_data"
        }
      ],
      "source": [
        "plt.figure(figsize = (30,10))\n",
        "raw_df.Released_Decade.value_counts().sort_index(ascending=False).plot(kind = \"bar\")"
      ]
    },
    {
      "attachments": {},
      "cell_type": "markdown",
      "metadata": {
        "id": "u_AzxnJ5qtDP"
      },
      "source": [
        "In the case of gross, there are 169 missing records out of a total of 1000 records. We will attempt to identify any patterns in which these records are missing (e.g., by year/decade) to determine the treatment to be applied to this data."
      ]
    },
    {
      "cell_type": "code",
      "execution_count": 22,
      "metadata": {
        "colab": {
          "base_uri": "https://localhost:8080/",
          "height": 447
        },
        "id": "sCo06rIPgXdj",
        "outputId": "7a69616d-4624-4d5e-870c-73d7d7365126"
      },
      "outputs": [
        {
          "data": {
            "text/plain": [
              "<BarContainer object of 11 artists>"
            ]
          },
          "execution_count": 22,
          "metadata": {},
          "output_type": "execute_result"
        },
        {
          "data": {
            "image/png": "[encoded data removed]",
            "text/plain": [
              "<Figure size 432x288 with 1 Axes>"
            ]
          },
          "metadata": {
            "needs_background": "light"
          },
          "output_type": "display_data"
        }
      ],
      "source": [
        "nulls_by_decade = raw_df[pd.isnull(raw_df[\"Gross\"])].groupby([\"Released_Decade\"])[\"Released_Decade\"].count().to_frame()\n",
        "nulls_by_decade.rename(columns={\"Released_Decade\":\"Occurrences\"}, inplace=True)\n",
        "nulls_by_decade.reset_index(inplace=True)\n",
        "nulls_by_decade\n",
        "plt.bar(nulls_by_decade[\"Released_Decade\"], nulls_by_decade[\"Occurrences\"])"
      ]
    },
    {
      "attachments": {},
      "cell_type": "markdown",
      "metadata": {
        "id": "qLdai4zFtWil"
      },
      "source": [
        "At first glance, there doesn't appear to be any particular pattern or specific decade where revenue information is missing. The next step will be to impute the missing values based on the Meta_score variable. To do this, I remove records that have missing values in both variables simultaneously."
      ]
    },
    {
      "cell_type": "code",
      "execution_count": 23,
      "metadata": {
        "id": "MsSOSsGZtiPi"
      },
      "outputs": [],
      "source": [
        "raw_df = raw_df[~((pd.isnull(raw_df[\"Meta_score\"]))&(pd.isnull(raw_df[\"Gross\"])))].copy()"
      ]
    },
    {
      "attachments": {},
      "cell_type": "markdown",
      "metadata": {},
      "source": [
        "After splittinh the vaules based on Meta_score, no simple patter can be analyzed. Given that, I will delete the \"Gross\" missing values."
      ]
    },
    {
      "cell_type": "code",
      "execution_count": 24,
      "metadata": {
        "colab": {
          "base_uri": "https://localhost:8080/",
          "height": 619
        },
        "id": "D8MOUHFnkAt2",
        "outputId": "3ad76628-329b-4efc-d53a-a4ff538f4ab1"
      },
      "outputs": [
        {
          "data": {
            "text/html": [
              "<div>\n",
              "<style scoped>\n",
              "    .dataframe tbody tr th:only-of-type {\n",
              "        vertical-align: middle;\n",
              "    }\n",
              "\n",
              "    .dataframe tbody tr th {\n",
              "        vertical-align: top;\n",
              "    }\n",
              "\n",
              "    .dataframe thead th {\n",
              "        text-align: right;\n",
              "    }\n",
              "</style>\n",
              "<table border=\"1\" class=\"dataframe\">\n",
              "  <thead>\n",
              "    <tr style=\"text-align: right;\">\n",
              "      <th></th>\n",
              "      <th>Meta_score</th>\n",
              "      <th>Occurrences</th>\n",
              "    </tr>\n",
              "  </thead>\n",
              "  <tbody>\n",
              "    <tr>\n",
              "      <th>0</th>\n",
              "      <td>51</td>\n",
              "      <td>1</td>\n",
              "    </tr>\n",
              "    <tr>\n",
              "      <th>1</th>\n",
              "      <td>58</td>\n",
              "      <td>1</td>\n",
              "    </tr>\n",
              "    <tr>\n",
              "      <th>2</th>\n",
              "      <td>59</td>\n",
              "      <td>1</td>\n",
              "    </tr>\n",
              "    <tr>\n",
              "      <th>3</th>\n",
              "      <td>60</td>\n",
              "      <td>1</td>\n",
              "    </tr>\n",
              "    <tr>\n",
              "      <th>4</th>\n",
              "      <td>62</td>\n",
              "      <td>1</td>\n",
              "    </tr>\n",
              "  </tbody>\n",
              "</table>\n",
              "</div>"
            ],
            "text/plain": [
              "   Meta_score  Occurrences\n",
              "0          51            1\n",
              "1          58            1\n",
              "2          59            1\n",
              "3          60            1\n",
              "4          62            1"
            ]
          },
          "execution_count": 24,
          "metadata": {},
          "output_type": "execute_result"
        },
        {
          "data": {
            "image/png": "[encoded data removed]",
            "text/plain": [
              "<Figure size 432x288 with 1 Axes>"
            ]
          },
          "metadata": {
            "needs_background": "light"
          },
          "output_type": "display_data"
        }
      ],
      "source": [
        "nulls_by_Meta_score = raw_df.loc[pd.isnull(raw_df[\"Gross\"]),[\"Meta_score\",\"Gross\"]].copy() #pd.isnull(raw_df[\"Gross\"])\n",
        "nulls_by_Meta_score[\"Meta_score\"] = nulls_by_Meta_score[\"Meta_score\"].astype(\"int\") \n",
        "nulls_by_Meta_score = nulls_by_Meta_score[pd.isnull(nulls_by_Meta_score[\"Gross\"])].groupby(\"Meta_score\")[\"Meta_score\"].count().to_frame().copy()\n",
        "nulls_by_Meta_score.rename(columns={\"Meta_score\":\"Occurrences\"}, inplace=True)\n",
        "nulls_by_Meta_score.reset_index(inplace=True)\n",
        "plt.bar(nulls_by_Meta_score[\"Meta_score\"], nulls_by_Meta_score[\"Occurrences\"])\n",
        "nulls_by_Meta_score.head()"
      ]
    },
    {
      "cell_type": "code",
      "execution_count": 25,
      "metadata": {
        "id": "8ZBRw6nTm2tO"
      },
      "outputs": [],
      "source": [
        "raw_df = raw_df.loc[~pd.isnull(raw_df[\"Gross\"])].copy()"
      ]
    },
    {
      "attachments": {},
      "cell_type": "markdown",
      "metadata": {
        "id": "v4qEdhPn5VXZ"
      },
      "source": [
        "Metascore missing values will also be deleted."
      ]
    },
    {
      "cell_type": "code",
      "execution_count": 26,
      "metadata": {
        "id": "7cuG6HV-5b4T"
      },
      "outputs": [],
      "source": [
        "raw_df = raw_df.loc[~pd.isnull(raw_df[\"Meta_score\"])].copy()"
      ]
    },
    {
      "attachments": {},
      "cell_type": "markdown",
      "metadata": {
        "id": "WYo4jEGw5gTo"
      },
      "source": [
        "For the \"Certificate\" feature, the mode will be imputed."
      ]
    },
    {
      "cell_type": "code",
      "execution_count": 27,
      "metadata": {
        "id": "Futm5iVn5jDJ"
      },
      "outputs": [],
      "source": [
        "raw_df.loc[pd.isnull(raw_df[\"Certificate\"]),\"Certificate\"] = raw_df[\"Certificate\"].mode().values[0]"
      ]
    },
    {
      "attachments": {},
      "cell_type": "markdown",
      "metadata": {
        "id": "wQZYMoCCphxS"
      },
      "source": [
        "# Outliers analysis"
      ]
    },
    {
      "attachments": {},
      "cell_type": "markdown",
      "metadata": {},
      "source": [
        "Gross is converted to logarithmic scale to minimize the impact of outliers in the data. Although outliers still exist, the models that will be created are robust to the presence of outliers, so no further analysis is performed."
      ]
    },
    {
      "cell_type": "code",
      "execution_count": 28,
      "metadata": {
        "colab": {
          "base_uri": "https://localhost:8080/",
          "height": 452
        },
        "id": "hp6HmEw1b6Bk",
        "outputId": "a6d624fb-03b5-469c-98b4-f7d2a267cde4"
      },
      "outputs": [
        {
          "data": {
            "image/png": "[encoded data removed]",
            "text/plain": [
              "<Figure size 432x288 with 2 Axes>"
            ]
          },
          "metadata": {
            "needs_background": "light"
          },
          "output_type": "display_data"
        }
      ],
      "source": [
        "raw_df[\"Gross_Log\"] = np.log(raw_df[\"Gross\"])\n",
        "raw_df[\"Gross_Log\"]\n",
        "plt.subplot(1,2,1)\n",
        "plt.title(\"Boxplot for Gross in Log\")\n",
        "plt.boxplot(raw_df[~np.isnan(raw_df[\"Gross_Log\"])][\"Gross_Log\"])\n",
        "plt.subplot(1,2,2)\n",
        "plt.title(\"Boxplot for Gross\")\n",
        "plt.boxplot(raw_df[~np.isnan(raw_df[\"Gross\"])][\"Gross\"])\n",
        "plt.show()"
      ]
    },
    {
      "cell_type": "code",
      "execution_count": 29,
      "metadata": {
        "colab": {
          "base_uri": "https://localhost:8080/",
          "height": 753
        },
        "id": "li4ujLKWpjfE",
        "outputId": "972be98f-f406-4c8d-8868-a54d31d5fbc3"
      },
      "outputs": [
        {
          "data": {
            "image/png": "[encoded data removed]",
            "text/plain": [
              "<Figure size 1440x720 with 2 Axes>"
            ]
          },
          "metadata": {
            "needs_background": "light"
          },
          "output_type": "display_data"
        }
      ],
      "source": [
        "#IQR Calculation\n",
        "Q3 = raw_df[\"Gross_Log\"].quantile(0.75)\n",
        "Q1 = raw_df[\"Gross_Log\"].quantile(0.25)\n",
        "IQR = Q3-Q1\n",
        "\n",
        "\n",
        "outliers_df = raw_df.loc[raw_df[\"Gross_Log\"]<= (Q1-IQR*1.5),[\"Released_Decade\",\"IMDB_Rating\",\"Gross_Log\"]]\n",
        "outliers_df[\"IMDB_Rating\"] = outliers_df[\"IMDB_Rating\"].astype(\"int\")\n",
        "plt.figure(figsize = (20,10))\n",
        "plt.subplot(1,2,1)\n",
        "plt.title(\"Distribution by released decade\")\n",
        "plt.bar(outliers_df[\"Released_Decade\"].value_counts().index,outliers_df[\"Released_Decade\"].value_counts())\n",
        "plt.subplot(1,2,2)\n",
        "plt.title(\"Distribution by IMDB rating\")\n",
        "plt.bar(outliers_df[\"IMDB_Rating\"].value_counts().index,outliers_df[\"IMDB_Rating\"].value_counts())\n",
        "plt.show()"
      ]
    },
    {
      "cell_type": "code",
      "execution_count": 30,
      "metadata": {
        "colab": {
          "base_uri": "https://localhost:8080/"
        },
        "id": "byHMxU7urHHf",
        "outputId": "50c97276-e361-487f-ef4b-f60ad262f74a"
      },
      "outputs": [
        {
          "data": {
            "text/plain": [
              "Released_Decade\n",
              "2000.0    7\n",
              "1950.0    3\n",
              "1960.0    3\n",
              "1930.0    1\n",
              "1940.0    1\n",
              "1920.0    1\n",
              "1990.0    1\n",
              "Name: count, dtype: int64"
            ]
          },
          "execution_count": 30,
          "metadata": {},
          "output_type": "execute_result"
        }
      ],
      "source": [
        "outliers_df[\"Released_Decade\"].value_counts()"
      ]
    },
    {
      "attachments": {},
      "cell_type": "markdown",
      "metadata": {
        "id": "cJo0uIkx8T-Q"
      },
      "source": [
        "# Feature selection"
      ]
    },
    {
      "attachments": {},
      "cell_type": "markdown",
      "metadata": {},
      "source": [
        "Correlation map."
      ]
    },
    {
      "cell_type": "code",
      "execution_count": 31,
      "metadata": {
        "colab": {
          "base_uri": "https://localhost:8080/",
          "height": 538
        },
        "id": "0rYSyKJOTV5n",
        "outputId": "de345d0c-7320-4f9e-8675-fff0ef697741"
      },
      "outputs": [
        {
          "data": {
            "text/plain": [
              "<matplotlib.axes._subplots.AxesSubplot at 0x201682d19a0>"
            ]
          },
          "execution_count": 31,
          "metadata": {},
          "output_type": "execute_result"
        },
        {
          "data": {
            "image/png": "[encoded data removed]",
            "text/plain": [
              "<Figure size 432x288 with 2 Axes>"
            ]
          },
          "metadata": {
            "needs_background": "light"
          },
          "output_type": "display_data"
        }
      ],
      "source": [
        "import seaborn as sns \n",
        "\n",
        "correlation_df = raw_df.corr(numeric_only = True)\n",
        "sns.heatmap(correlation_df, vmin =-1, vmax=1)"
      ]
    },
    {
      "cell_type": "code",
      "execution_count": 32,
      "metadata": {
        "colab": {
          "base_uri": "https://localhost:8080/",
          "height": 269
        },
        "id": "9aNS6cvIZuEW",
        "outputId": "dff7c1c8-ef77-4e5f-a7c8-2d7de731d57d"
      },
      "outputs": [
        {
          "data": {
            "text/html": [
              "<div>\n",
              "<style scoped>\n",
              "    .dataframe tbody tr th:only-of-type {\n",
              "        vertical-align: middle;\n",
              "    }\n",
              "\n",
              "    .dataframe tbody tr th {\n",
              "        vertical-align: top;\n",
              "    }\n",
              "\n",
              "    .dataframe thead th {\n",
              "        text-align: right;\n",
              "    }\n",
              "</style>\n",
              "<table border=\"1\" class=\"dataframe\">\n",
              "  <thead>\n",
              "    <tr style=\"text-align: right;\">\n",
              "      <th></th>\n",
              "      <th>Released_Year</th>\n",
              "      <th>Certificate</th>\n",
              "      <th>Runtime</th>\n",
              "      <th>IMDB_Rating</th>\n",
              "      <th>Meta_score</th>\n",
              "      <th>No_of_Votes</th>\n",
              "      <th>Gross</th>\n",
              "      <th>Released_Decade</th>\n",
              "      <th>Gross_Log</th>\n",
              "    </tr>\n",
              "  </thead>\n",
              "  <tbody>\n",
              "    <tr>\n",
              "      <th>Released_Year</th>\n",
              "      <td>1.000000</td>\n",
              "      <td>0.159093</td>\n",
              "      <td>0.012976</td>\n",
              "      <td>-0.179065</td>\n",
              "      <td>-0.306421</td>\n",
              "      <td>0.203316</td>\n",
              "      <td>0.235951</td>\n",
              "      <td>0.989307</td>\n",
              "      <td>0.196986</td>\n",
              "    </tr>\n",
              "    <tr>\n",
              "      <th>Certificate</th>\n",
              "      <td>0.159093</td>\n",
              "      <td>1.000000</td>\n",
              "      <td>0.061536</td>\n",
              "      <td>-0.028670</td>\n",
              "      <td>-0.077583</td>\n",
              "      <td>0.064129</td>\n",
              "      <td>-0.158766</td>\n",
              "      <td>0.154782</td>\n",
              "      <td>-0.136928</td>\n",
              "    </tr>\n",
              "    <tr>\n",
              "      <th>Runtime</th>\n",
              "      <td>0.012976</td>\n",
              "      <td>0.061536</td>\n",
              "      <td>1.000000</td>\n",
              "      <td>0.257201</td>\n",
              "      <td>-0.012183</td>\n",
              "      <td>0.217457</td>\n",
              "      <td>0.172226</td>\n",
              "      <td>0.015252</td>\n",
              "      <td>0.186551</td>\n",
              "    </tr>\n",
              "    <tr>\n",
              "      <th>IMDB_Rating</th>\n",
              "      <td>-0.179065</td>\n",
              "      <td>-0.028670</td>\n",
              "      <td>0.257201</td>\n",
              "      <td>1.000000</td>\n",
              "      <td>0.282887</td>\n",
              "      <td>0.614358</td>\n",
              "      <td>0.129378</td>\n",
              "      <td>-0.180614</td>\n",
              "      <td>0.054289</td>\n",
              "    </tr>\n",
              "    <tr>\n",
              "      <th>Meta_score</th>\n",
              "      <td>-0.306421</td>\n",
              "      <td>-0.077583</td>\n",
              "      <td>-0.012183</td>\n",
              "      <td>0.282887</td>\n",
              "      <td>1.000000</td>\n",
              "      <td>0.010298</td>\n",
              "      <td>-0.030560</td>\n",
              "      <td>-0.311281</td>\n",
              "      <td>-0.046095</td>\n",
              "    </tr>\n",
              "    <tr>\n",
              "      <th>No_of_Votes</th>\n",
              "      <td>0.203316</td>\n",
              "      <td>0.064129</td>\n",
              "      <td>0.217457</td>\n",
              "      <td>0.614358</td>\n",
              "      <td>0.010298</td>\n",
              "      <td>1.000000</td>\n",
              "      <td>0.556003</td>\n",
              "      <td>0.205357</td>\n",
              "      <td>0.516635</td>\n",
              "    </tr>\n",
              "    <tr>\n",
              "      <th>Gross</th>\n",
              "      <td>0.235951</td>\n",
              "      <td>-0.158766</td>\n",
              "      <td>0.172226</td>\n",
              "      <td>0.129378</td>\n",
              "      <td>-0.030560</td>\n",
              "      <td>0.556003</td>\n",
              "      <td>1.000000</td>\n",
              "      <td>0.228970</td>\n",
              "      <td>0.651276</td>\n",
              "    </tr>\n",
              "    <tr>\n",
              "      <th>Released_Decade</th>\n",
              "      <td>0.989307</td>\n",
              "      <td>0.154782</td>\n",
              "      <td>0.015252</td>\n",
              "      <td>-0.180614</td>\n",
              "      <td>-0.311281</td>\n",
              "      <td>0.205357</td>\n",
              "      <td>0.228970</td>\n",
              "      <td>1.000000</td>\n",
              "      <td>0.185350</td>\n",
              "    </tr>\n",
              "    <tr>\n",
              "      <th>Gross_Log</th>\n",
              "      <td>0.196986</td>\n",
              "      <td>-0.136928</td>\n",
              "      <td>0.186551</td>\n",
              "      <td>0.054289</td>\n",
              "      <td>-0.046095</td>\n",
              "      <td>0.516635</td>\n",
              "      <td>0.651276</td>\n",
              "      <td>0.185350</td>\n",
              "      <td>1.000000</td>\n",
              "    </tr>\n",
              "  </tbody>\n",
              "</table>\n",
              "</div>"
            ],
            "text/plain": [
              "                 Released_Year  Certificate   Runtime  IMDB_Rating  \\\n",
              "Released_Year         1.000000     0.159093  0.012976    -0.179065   \n",
              "Certificate           0.159093     1.000000  0.061536    -0.028670   \n",
              "Runtime               0.012976     0.061536  1.000000     0.257201   \n",
              "IMDB_Rating          -0.179065    -0.028670  0.257201     1.000000   \n",
              "Meta_score           -0.306421    -0.077583 -0.012183     0.282887   \n",
              "No_of_Votes           0.203316     0.064129  0.217457     0.614358   \n",
              "Gross                 0.235951    -0.158766  0.172226     0.129378   \n",
              "Released_Decade       0.989307     0.154782  0.015252    -0.180614   \n",
              "Gross_Log             0.196986    -0.136928  0.186551     0.054289   \n",
              "\n",
              "                 Meta_score  No_of_Votes     Gross  Released_Decade  Gross_Log  \n",
              "Released_Year     -0.306421     0.203316  0.235951         0.989307   0.196986  \n",
              "Certificate       -0.077583     0.064129 -0.158766         0.154782  -0.136928  \n",
              "Runtime           -0.012183     0.217457  0.172226         0.015252   0.186551  \n",
              "IMDB_Rating        0.282887     0.614358  0.129378        -0.180614   0.054289  \n",
              "Meta_score         1.000000     0.010298 -0.030560        -0.311281  -0.046095  \n",
              "No_of_Votes        0.010298     1.000000  0.556003         0.205357   0.516635  \n",
              "Gross             -0.030560     0.556003  1.000000         0.228970   0.651276  \n",
              "Released_Decade   -0.311281     0.205357  0.228970         1.000000   0.185350  \n",
              "Gross_Log         -0.046095     0.516635  0.651276         0.185350   1.000000  "
            ]
          },
          "execution_count": 32,
          "metadata": {},
          "output_type": "execute_result"
        }
      ],
      "source": [
        "correlation_df"
      ]
    },
    {
      "attachments": {},
      "cell_type": "markdown",
      "metadata": {
        "id": "V6ZmkvpobN8c"
      },
      "source": [
        "For the correlations analysis, a threshold of |0.70| is considered as OK. When this threshold is surpassed, the variables will be analyzed in order to delete that correlation and avoid multicollinearity.\n",
        "\n",
        "With that rule taken into consideration, the only variable deleted will be \"Gross\", as \"Gross_Log\" is a transformation of that feature."
      ]
    },
    {
      "cell_type": "code",
      "execution_count": 33,
      "metadata": {
        "colab": {
          "base_uri": "https://localhost:8080/",
          "height": 452
        },
        "id": "A5nNIYwib6hz",
        "outputId": "4e67b349-7cc6-4fa6-c623-2f967130ba98"
      },
      "outputs": [
        {
          "data": {
            "text/plain": [
              "<matplotlib.axes._subplots.AxesSubplot at 0x20168fcdbb0>"
            ]
          },
          "execution_count": 33,
          "metadata": {},
          "output_type": "execute_result"
        },
        {
          "data": {
            "image/png": "[encoded data removed]",
            "text/plain": [
              "<Figure size 432x288 with 2 Axes>"
            ]
          },
          "metadata": {
            "needs_background": "light"
          },
          "output_type": "display_data"
        }
      ],
      "source": [
        "correlation_df = raw_df.drop([\"Gross\"], axis=1).corr(numeric_only = True)\n",
        "sns.heatmap(correlation_df, vmin =-1, vmax=1)"
      ]
    },
    {
      "cell_type": "code",
      "execution_count": 34,
      "metadata": {
        "colab": {
          "base_uri": "https://localhost:8080/",
          "height": 175
        },
        "id": "6YsRY2qmdaEk",
        "outputId": "02ea0647-b426-43b3-9bb4-d6589128071d"
      },
      "outputs": [
        {
          "data": {
            "text/html": [
              "<div>\n",
              "<style scoped>\n",
              "    .dataframe tbody tr th:only-of-type {\n",
              "        vertical-align: middle;\n",
              "    }\n",
              "\n",
              "    .dataframe tbody tr th {\n",
              "        vertical-align: top;\n",
              "    }\n",
              "\n",
              "    .dataframe thead th {\n",
              "        text-align: right;\n",
              "    }\n",
              "</style>\n",
              "<table border=\"1\" class=\"dataframe\">\n",
              "  <thead>\n",
              "    <tr style=\"text-align: right;\">\n",
              "      <th></th>\n",
              "      <th>Released_Year</th>\n",
              "      <th>Certificate</th>\n",
              "      <th>Runtime</th>\n",
              "      <th>IMDB_Rating</th>\n",
              "      <th>Meta_score</th>\n",
              "      <th>No_of_Votes</th>\n",
              "      <th>Released_Decade</th>\n",
              "      <th>Gross_Log</th>\n",
              "    </tr>\n",
              "  </thead>\n",
              "  <tbody>\n",
              "    <tr>\n",
              "      <th>Released_Year</th>\n",
              "      <td>1.000000</td>\n",
              "      <td>0.159093</td>\n",
              "      <td>0.012976</td>\n",
              "      <td>-0.179065</td>\n",
              "      <td>-0.306421</td>\n",
              "      <td>0.203316</td>\n",
              "      <td>0.989307</td>\n",
              "      <td>0.196986</td>\n",
              "    </tr>\n",
              "    <tr>\n",
              "      <th>Certificate</th>\n",
              "      <td>0.159093</td>\n",
              "      <td>1.000000</td>\n",
              "      <td>0.061536</td>\n",
              "      <td>-0.028670</td>\n",
              "      <td>-0.077583</td>\n",
              "      <td>0.064129</td>\n",
              "      <td>0.154782</td>\n",
              "      <td>-0.136928</td>\n",
              "    </tr>\n",
              "    <tr>\n",
              "      <th>Runtime</th>\n",
              "      <td>0.012976</td>\n",
              "      <td>0.061536</td>\n",
              "      <td>1.000000</td>\n",
              "      <td>0.257201</td>\n",
              "      <td>-0.012183</td>\n",
              "      <td>0.217457</td>\n",
              "      <td>0.015252</td>\n",
              "      <td>0.186551</td>\n",
              "    </tr>\n",
              "    <tr>\n",
              "      <th>IMDB_Rating</th>\n",
              "      <td>-0.179065</td>\n",
              "      <td>-0.028670</td>\n",
              "      <td>0.257201</td>\n",
              "      <td>1.000000</td>\n",
              "      <td>0.282887</td>\n",
              "      <td>0.614358</td>\n",
              "      <td>-0.180614</td>\n",
              "      <td>0.054289</td>\n",
              "    </tr>\n",
              "    <tr>\n",
              "      <th>Meta_score</th>\n",
              "      <td>-0.306421</td>\n",
              "      <td>-0.077583</td>\n",
              "      <td>-0.012183</td>\n",
              "      <td>0.282887</td>\n",
              "      <td>1.000000</td>\n",
              "      <td>0.010298</td>\n",
              "      <td>-0.311281</td>\n",
              "      <td>-0.046095</td>\n",
              "    </tr>\n",
              "    <tr>\n",
              "      <th>No_of_Votes</th>\n",
              "      <td>0.203316</td>\n",
              "      <td>0.064129</td>\n",
              "      <td>0.217457</td>\n",
              "      <td>0.614358</td>\n",
              "      <td>0.010298</td>\n",
              "      <td>1.000000</td>\n",
              "      <td>0.205357</td>\n",
              "      <td>0.516635</td>\n",
              "    </tr>\n",
              "    <tr>\n",
              "      <th>Released_Decade</th>\n",
              "      <td>0.989307</td>\n",
              "      <td>0.154782</td>\n",
              "      <td>0.015252</td>\n",
              "      <td>-0.180614</td>\n",
              "      <td>-0.311281</td>\n",
              "      <td>0.205357</td>\n",
              "      <td>1.000000</td>\n",
              "      <td>0.185350</td>\n",
              "    </tr>\n",
              "    <tr>\n",
              "      <th>Gross_Log</th>\n",
              "      <td>0.196986</td>\n",
              "      <td>-0.136928</td>\n",
              "      <td>0.186551</td>\n",
              "      <td>0.054289</td>\n",
              "      <td>-0.046095</td>\n",
              "      <td>0.516635</td>\n",
              "      <td>0.185350</td>\n",
              "      <td>1.000000</td>\n",
              "    </tr>\n",
              "  </tbody>\n",
              "</table>\n",
              "</div>"
            ],
            "text/plain": [
              "                 Released_Year  Certificate   Runtime  IMDB_Rating  \\\n",
              "Released_Year         1.000000     0.159093  0.012976    -0.179065   \n",
              "Certificate           0.159093     1.000000  0.061536    -0.028670   \n",
              "Runtime               0.012976     0.061536  1.000000     0.257201   \n",
              "IMDB_Rating          -0.179065    -0.028670  0.257201     1.000000   \n",
              "Meta_score           -0.306421    -0.077583 -0.012183     0.282887   \n",
              "No_of_Votes           0.203316     0.064129  0.217457     0.614358   \n",
              "Released_Decade       0.989307     0.154782  0.015252    -0.180614   \n",
              "Gross_Log             0.196986    -0.136928  0.186551     0.054289   \n",
              "\n",
              "                 Meta_score  No_of_Votes  Released_Decade  Gross_Log  \n",
              "Released_Year     -0.306421     0.203316         0.989307   0.196986  \n",
              "Certificate       -0.077583     0.064129         0.154782  -0.136928  \n",
              "Runtime           -0.012183     0.217457         0.015252   0.186551  \n",
              "IMDB_Rating        0.282887     0.614358        -0.180614   0.054289  \n",
              "Meta_score         1.000000     0.010298        -0.311281  -0.046095  \n",
              "No_of_Votes        0.010298     1.000000         0.205357   0.516635  \n",
              "Released_Decade   -0.311281     0.205357         1.000000   0.185350  \n",
              "Gross_Log         -0.046095     0.516635         0.185350   1.000000  "
            ]
          },
          "execution_count": 34,
          "metadata": {},
          "output_type": "execute_result"
        }
      ],
      "source": [
        "correlation_df"
      ]
    },
    {
      "attachments": {},
      "cell_type": "markdown",
      "metadata": {},
      "source": [
        "The next step is to create the \"Processed_df\" keeping only those variables that will be used in the models. For that, I will delete not only \"Gross\", but also \"Poster_Link\" and \"Series_Title\"."
      ]
    },
    {
      "cell_type": "code",
      "execution_count": 35,
      "metadata": {
        "colab": {
          "base_uri": "https://localhost:8080/",
          "height": 694
        },
        "id": "1YAsKC3weC9l",
        "outputId": "93bad837-d68c-431d-86ed-fadba35a2380"
      },
      "outputs": [
        {
          "data": {
            "text/html": [
              "<div>\n",
              "<style scoped>\n",
              "    .dataframe tbody tr th:only-of-type {\n",
              "        vertical-align: middle;\n",
              "    }\n",
              "\n",
              "    .dataframe tbody tr th {\n",
              "        vertical-align: top;\n",
              "    }\n",
              "\n",
              "    .dataframe thead th {\n",
              "        text-align: right;\n",
              "    }\n",
              "</style>\n",
              "<table border=\"1\" class=\"dataframe\">\n",
              "  <thead>\n",
              "    <tr style=\"text-align: right;\">\n",
              "      <th></th>\n",
              "      <th>Released_Year</th>\n",
              "      <th>Certificate</th>\n",
              "      <th>Runtime</th>\n",
              "      <th>Genre</th>\n",
              "      <th>IMDB_Rating</th>\n",
              "      <th>Overview</th>\n",
              "      <th>Meta_score</th>\n",
              "      <th>Director</th>\n",
              "      <th>Star1</th>\n",
              "      <th>Star2</th>\n",
              "      <th>Star3</th>\n",
              "      <th>Star4</th>\n",
              "      <th>No_of_Votes</th>\n",
              "      <th>Released_Decade</th>\n",
              "      <th>Gross_Log</th>\n",
              "    </tr>\n",
              "  </thead>\n",
              "  <tbody>\n",
              "    <tr>\n",
              "      <th>0</th>\n",
              "      <td>1994.0</td>\n",
              "      <td>3.0</td>\n",
              "      <td>142</td>\n",
              "      <td>Drama</td>\n",
              "      <td>9.3</td>\n",
              "      <td>Two imprisoned men bond over a number of years...</td>\n",
              "      <td>80.0</td>\n",
              "      <td>Frank Darabont</td>\n",
              "      <td>Tim Robbins</td>\n",
              "      <td>Morgan Freeman</td>\n",
              "      <td>Bob Gunton</td>\n",
              "      <td>William Sadler</td>\n",
              "      <td>2343110</td>\n",
              "      <td>1990.0</td>\n",
              "      <td>17.159837</td>\n",
              "    </tr>\n",
              "    <tr>\n",
              "      <th>1</th>\n",
              "      <td>1972.0</td>\n",
              "      <td>3.0</td>\n",
              "      <td>175</td>\n",
              "      <td>Crime, Drama</td>\n",
              "      <td>9.2</td>\n",
              "      <td>An organized crime dynasty's aging patriarch t...</td>\n",
              "      <td>100.0</td>\n",
              "      <td>Francis Ford Coppola</td>\n",
              "      <td>Marlon Brando</td>\n",
              "      <td>Al Pacino</td>\n",
              "      <td>James Caan</td>\n",
              "      <td>Diane Keaton</td>\n",
              "      <td>1620367</td>\n",
              "      <td>1970.0</td>\n",
              "      <td>18.720536</td>\n",
              "    </tr>\n",
              "    <tr>\n",
              "      <th>2</th>\n",
              "      <td>2008.0</td>\n",
              "      <td>2.0</td>\n",
              "      <td>152</td>\n",
              "      <td>Action, Crime, Drama</td>\n",
              "      <td>9.0</td>\n",
              "      <td>When the menace known as the Joker wreaks havo...</td>\n",
              "      <td>84.0</td>\n",
              "      <td>Christopher Nolan</td>\n",
              "      <td>Christian Bale</td>\n",
              "      <td>Heath Ledger</td>\n",
              "      <td>Aaron Eckhart</td>\n",
              "      <td>Michael Caine</td>\n",
              "      <td>2303232</td>\n",
              "      <td>2000.0</td>\n",
              "      <td>20.097513</td>\n",
              "    </tr>\n",
              "    <tr>\n",
              "      <th>3</th>\n",
              "      <td>1974.0</td>\n",
              "      <td>3.0</td>\n",
              "      <td>202</td>\n",
              "      <td>Crime, Drama</td>\n",
              "      <td>9.0</td>\n",
              "      <td>The early life and career of Vito Corleone in ...</td>\n",
              "      <td>90.0</td>\n",
              "      <td>Francis Ford Coppola</td>\n",
              "      <td>Al Pacino</td>\n",
              "      <td>Robert De Niro</td>\n",
              "      <td>Robert Duvall</td>\n",
              "      <td>Diane Keaton</td>\n",
              "      <td>1129952</td>\n",
              "      <td>1970.0</td>\n",
              "      <td>17.863811</td>\n",
              "    </tr>\n",
              "    <tr>\n",
              "      <th>4</th>\n",
              "      <td>1957.0</td>\n",
              "      <td>1.0</td>\n",
              "      <td>96</td>\n",
              "      <td>Crime, Drama</td>\n",
              "      <td>9.0</td>\n",
              "      <td>A jury holdout attempts to prevent a miscarria...</td>\n",
              "      <td>96.0</td>\n",
              "      <td>Sidney Lumet</td>\n",
              "      <td>Henry Fonda</td>\n",
              "      <td>Lee J. Cobb</td>\n",
              "      <td>Martin Balsam</td>\n",
              "      <td>John Fiedler</td>\n",
              "      <td>689845</td>\n",
              "      <td>1950.0</td>\n",
              "      <td>15.287983</td>\n",
              "    </tr>\n",
              "    <tr>\n",
              "      <th>...</th>\n",
              "      <td>...</td>\n",
              "      <td>...</td>\n",
              "      <td>...</td>\n",
              "      <td>...</td>\n",
              "      <td>...</td>\n",
              "      <td>...</td>\n",
              "      <td>...</td>\n",
              "      <td>...</td>\n",
              "      <td>...</td>\n",
              "      <td>...</td>\n",
              "      <td>...</td>\n",
              "      <td>...</td>\n",
              "      <td>...</td>\n",
              "      <td>...</td>\n",
              "      <td>...</td>\n",
              "    </tr>\n",
              "    <tr>\n",
              "      <th>990</th>\n",
              "      <td>1971.0</td>\n",
              "      <td>1.0</td>\n",
              "      <td>157</td>\n",
              "      <td>Drama, War, Western</td>\n",
              "      <td>7.6</td>\n",
              "      <td>A low-life bandit and an I.R.A. explosives exp...</td>\n",
              "      <td>77.0</td>\n",
              "      <td>Sergio Leone</td>\n",
              "      <td>Rod Steiger</td>\n",
              "      <td>James Coburn</td>\n",
              "      <td>Romolo Valli</td>\n",
              "      <td>Maria Monti</td>\n",
              "      <td>30144</td>\n",
              "      <td>1970.0</td>\n",
              "      <td>13.454096</td>\n",
              "    </tr>\n",
              "    <tr>\n",
              "      <th>991</th>\n",
              "      <td>1970.0</td>\n",
              "      <td>1.0</td>\n",
              "      <td>144</td>\n",
              "      <td>Adventure, Comedy, War</td>\n",
              "      <td>7.6</td>\n",
              "      <td>A group of U.S. soldiers sneaks across enemy l...</td>\n",
              "      <td>50.0</td>\n",
              "      <td>Brian G. Hutton</td>\n",
              "      <td>Clint Eastwood</td>\n",
              "      <td>Telly Savalas</td>\n",
              "      <td>Don Rickles</td>\n",
              "      <td>Carroll O'Connor</td>\n",
              "      <td>45338</td>\n",
              "      <td>1970.0</td>\n",
              "      <td>14.136459</td>\n",
              "    </tr>\n",
              "    <tr>\n",
              "      <th>992</th>\n",
              "      <td>1967.0</td>\n",
              "      <td>1.0</td>\n",
              "      <td>78</td>\n",
              "      <td>Animation, Adventure, Family</td>\n",
              "      <td>7.6</td>\n",
              "      <td>Bagheera the Panther and Baloo the Bear have a...</td>\n",
              "      <td>65.0</td>\n",
              "      <td>Wolfgang Reitherman</td>\n",
              "      <td>Phil Harris</td>\n",
              "      <td>Sebastian Cabot</td>\n",
              "      <td>Louis Prima</td>\n",
              "      <td>Bruce Reitherman</td>\n",
              "      <td>166409</td>\n",
              "      <td>1960.0</td>\n",
              "      <td>18.770236</td>\n",
              "    </tr>\n",
              "    <tr>\n",
              "      <th>994</th>\n",
              "      <td>1964.0</td>\n",
              "      <td>1.0</td>\n",
              "      <td>87</td>\n",
              "      <td>Comedy, Music, Musical</td>\n",
              "      <td>7.6</td>\n",
              "      <td>Over two \"typical\" days in the life of The Bea...</td>\n",
              "      <td>96.0</td>\n",
              "      <td>Richard Lester</td>\n",
              "      <td>John Lennon</td>\n",
              "      <td>Paul McCartney</td>\n",
              "      <td>George Harrison</td>\n",
              "      <td>Ringo Starr</td>\n",
              "      <td>40351</td>\n",
              "      <td>1960.0</td>\n",
              "      <td>16.438731</td>\n",
              "    </tr>\n",
              "    <tr>\n",
              "      <th>997</th>\n",
              "      <td>1953.0</td>\n",
              "      <td>1.0</td>\n",
              "      <td>118</td>\n",
              "      <td>Drama, Romance, War</td>\n",
              "      <td>7.6</td>\n",
              "      <td>In Hawaii in 1941, a private is cruelly punish...</td>\n",
              "      <td>85.0</td>\n",
              "      <td>Fred Zinnemann</td>\n",
              "      <td>Burt Lancaster</td>\n",
              "      <td>Montgomery Clift</td>\n",
              "      <td>Deborah Kerr</td>\n",
              "      <td>Donna Reed</td>\n",
              "      <td>43374</td>\n",
              "      <td>1950.0</td>\n",
              "      <td>17.233237</td>\n",
              "    </tr>\n",
              "  </tbody>\n",
              "</table>\n",
              "<p>749 rows × 15 columns</p>\n",
              "</div>"
            ],
            "text/plain": [
              "     Released_Year  Certificate  Runtime                         Genre  \\\n",
              "0           1994.0          3.0      142                         Drama   \n",
              "1           1972.0          3.0      175                  Crime, Drama   \n",
              "2           2008.0          2.0      152          Action, Crime, Drama   \n",
              "3           1974.0          3.0      202                  Crime, Drama   \n",
              "4           1957.0          1.0       96                  Crime, Drama   \n",
              "..             ...          ...      ...                           ...   \n",
              "990         1971.0          1.0      157           Drama, War, Western   \n",
              "991         1970.0          1.0      144        Adventure, Comedy, War   \n",
              "992         1967.0          1.0       78  Animation, Adventure, Family   \n",
              "994         1964.0          1.0       87        Comedy, Music, Musical   \n",
              "997         1953.0          1.0      118           Drama, Romance, War   \n",
              "\n",
              "     IMDB_Rating                                           Overview  \\\n",
              "0            9.3  Two imprisoned men bond over a number of years...   \n",
              "1            9.2  An organized crime dynasty's aging patriarch t...   \n",
              "2            9.0  When the menace known as the Joker wreaks havo...   \n",
              "3            9.0  The early life and career of Vito Corleone in ...   \n",
              "4            9.0  A jury holdout attempts to prevent a miscarria...   \n",
              "..           ...                                                ...   \n",
              "990          7.6  A low-life bandit and an I.R.A. explosives exp...   \n",
              "991          7.6  A group of U.S. soldiers sneaks across enemy l...   \n",
              "992          7.6  Bagheera the Panther and Baloo the Bear have a...   \n",
              "994          7.6  Over two \"typical\" days in the life of The Bea...   \n",
              "997          7.6  In Hawaii in 1941, a private is cruelly punish...   \n",
              "\n",
              "     Meta_score              Director           Star1             Star2  \\\n",
              "0          80.0        Frank Darabont     Tim Robbins    Morgan Freeman   \n",
              "1         100.0  Francis Ford Coppola   Marlon Brando         Al Pacino   \n",
              "2          84.0     Christopher Nolan  Christian Bale      Heath Ledger   \n",
              "3          90.0  Francis Ford Coppola       Al Pacino    Robert De Niro   \n",
              "4          96.0          Sidney Lumet     Henry Fonda       Lee J. Cobb   \n",
              "..          ...                   ...             ...               ...   \n",
              "990        77.0          Sergio Leone     Rod Steiger      James Coburn   \n",
              "991        50.0       Brian G. Hutton  Clint Eastwood     Telly Savalas   \n",
              "992        65.0   Wolfgang Reitherman     Phil Harris   Sebastian Cabot   \n",
              "994        96.0        Richard Lester     John Lennon    Paul McCartney   \n",
              "997        85.0        Fred Zinnemann  Burt Lancaster  Montgomery Clift   \n",
              "\n",
              "               Star3             Star4  No_of_Votes  Released_Decade  \\\n",
              "0         Bob Gunton    William Sadler      2343110           1990.0   \n",
              "1         James Caan      Diane Keaton      1620367           1970.0   \n",
              "2      Aaron Eckhart     Michael Caine      2303232           2000.0   \n",
              "3      Robert Duvall      Diane Keaton      1129952           1970.0   \n",
              "4      Martin Balsam      John Fiedler       689845           1950.0   \n",
              "..               ...               ...          ...              ...   \n",
              "990     Romolo Valli       Maria Monti        30144           1970.0   \n",
              "991      Don Rickles  Carroll O'Connor        45338           1970.0   \n",
              "992      Louis Prima  Bruce Reitherman       166409           1960.0   \n",
              "994  George Harrison       Ringo Starr        40351           1960.0   \n",
              "997     Deborah Kerr        Donna Reed        43374           1950.0   \n",
              "\n",
              "     Gross_Log  \n",
              "0    17.159837  \n",
              "1    18.720536  \n",
              "2    20.097513  \n",
              "3    17.863811  \n",
              "4    15.287983  \n",
              "..         ...  \n",
              "990  13.454096  \n",
              "991  14.136459  \n",
              "992  18.770236  \n",
              "994  16.438731  \n",
              "997  17.233237  \n",
              "\n",
              "[749 rows x 15 columns]"
            ]
          },
          "execution_count": 35,
          "metadata": {},
          "output_type": "execute_result"
        }
      ],
      "source": [
        "processed_df = raw_df.drop([ \"Gross\",  \"Poster_Link\", \"Series_Title\"], axis=1).copy() \n",
        "processed_df"
      ]
    },
    {
      "attachments": {},
      "cell_type": "markdown",
      "metadata": {
        "id": "n-gv1K5BXptc"
      },
      "source": [
        "For the dummy variables generation, I will keep only the first Genre assigned for each movie."
      ]
    },
    {
      "cell_type": "code",
      "execution_count": 36,
      "metadata": {
        "id": "NFasn-RqXzPm"
      },
      "outputs": [],
      "source": [
        "processed_df[\"Genre\"] = processed_df.apply(lambda row: row[\"Genre\"].split(\",\")[0], axis=1)"
      ]
    },
    {
      "attachments": {},
      "cell_type": "markdown",
      "metadata": {},
      "source": [
        "Creating a feature \"Director Level\" to categorize the directors based on their movies' metacritic average. 4 buckets will be created, being 1 the best and 4 the worst."
      ]
    },
    {
      "cell_type": "code",
      "execution_count": 37,
      "metadata": {},
      "outputs": [
        {
          "data": {
            "text/html": [
              "<div>\n",
              "<style scoped>\n",
              "    .dataframe tbody tr th:only-of-type {\n",
              "        vertical-align: middle;\n",
              "    }\n",
              "\n",
              "    .dataframe tbody tr th {\n",
              "        vertical-align: top;\n",
              "    }\n",
              "\n",
              "    .dataframe thead th {\n",
              "        text-align: right;\n",
              "    }\n",
              "</style>\n",
              "<table border=\"1\" class=\"dataframe\">\n",
              "  <thead>\n",
              "    <tr style=\"text-align: right;\">\n",
              "      <th></th>\n",
              "      <th>Released_Year</th>\n",
              "      <th>Certificate</th>\n",
              "      <th>Runtime</th>\n",
              "      <th>Genre</th>\n",
              "      <th>IMDB_Rating</th>\n",
              "      <th>Overview</th>\n",
              "      <th>Meta_score</th>\n",
              "      <th>Director</th>\n",
              "      <th>Star1</th>\n",
              "      <th>Star2</th>\n",
              "      <th>Star3</th>\n",
              "      <th>Star4</th>\n",
              "      <th>No_of_Votes</th>\n",
              "      <th>Released_Decade</th>\n",
              "      <th>Gross_Log</th>\n",
              "    </tr>\n",
              "  </thead>\n",
              "  <tbody>\n",
              "    <tr>\n",
              "      <th>0</th>\n",
              "      <td>1994.0</td>\n",
              "      <td>3.0</td>\n",
              "      <td>142</td>\n",
              "      <td>Drama</td>\n",
              "      <td>9.3</td>\n",
              "      <td>Two imprisoned men bond over a number of years...</td>\n",
              "      <td>80.0</td>\n",
              "      <td>3</td>\n",
              "      <td>Tim Robbins</td>\n",
              "      <td>Morgan Freeman</td>\n",
              "      <td>Bob Gunton</td>\n",
              "      <td>William Sadler</td>\n",
              "      <td>2343110</td>\n",
              "      <td>1990.0</td>\n",
              "      <td>17.159837</td>\n",
              "    </tr>\n",
              "    <tr>\n",
              "      <th>1</th>\n",
              "      <td>1972.0</td>\n",
              "      <td>3.0</td>\n",
              "      <td>175</td>\n",
              "      <td>Crime</td>\n",
              "      <td>9.2</td>\n",
              "      <td>An organized crime dynasty's aging patriarch t...</td>\n",
              "      <td>100.0</td>\n",
              "      <td>1</td>\n",
              "      <td>Marlon Brando</td>\n",
              "      <td>Al Pacino</td>\n",
              "      <td>James Caan</td>\n",
              "      <td>Diane Keaton</td>\n",
              "      <td>1620367</td>\n",
              "      <td>1970.0</td>\n",
              "      <td>18.720536</td>\n",
              "    </tr>\n",
              "    <tr>\n",
              "      <th>2</th>\n",
              "      <td>2008.0</td>\n",
              "      <td>2.0</td>\n",
              "      <td>152</td>\n",
              "      <td>Action</td>\n",
              "      <td>9.0</td>\n",
              "      <td>When the menace known as the Joker wreaks havo...</td>\n",
              "      <td>84.0</td>\n",
              "      <td>3</td>\n",
              "      <td>Christian Bale</td>\n",
              "      <td>Heath Ledger</td>\n",
              "      <td>Aaron Eckhart</td>\n",
              "      <td>Michael Caine</td>\n",
              "      <td>2303232</td>\n",
              "      <td>2000.0</td>\n",
              "      <td>20.097513</td>\n",
              "    </tr>\n",
              "    <tr>\n",
              "      <th>3</th>\n",
              "      <td>1974.0</td>\n",
              "      <td>3.0</td>\n",
              "      <td>202</td>\n",
              "      <td>Crime</td>\n",
              "      <td>9.0</td>\n",
              "      <td>The early life and career of Vito Corleone in ...</td>\n",
              "      <td>90.0</td>\n",
              "      <td>1</td>\n",
              "      <td>Al Pacino</td>\n",
              "      <td>Robert De Niro</td>\n",
              "      <td>Robert Duvall</td>\n",
              "      <td>Diane Keaton</td>\n",
              "      <td>1129952</td>\n",
              "      <td>1970.0</td>\n",
              "      <td>17.863811</td>\n",
              "    </tr>\n",
              "    <tr>\n",
              "      <th>4</th>\n",
              "      <td>1957.0</td>\n",
              "      <td>1.0</td>\n",
              "      <td>96</td>\n",
              "      <td>Crime</td>\n",
              "      <td>9.0</td>\n",
              "      <td>A jury holdout attempts to prevent a miscarria...</td>\n",
              "      <td>96.0</td>\n",
              "      <td>1</td>\n",
              "      <td>Henry Fonda</td>\n",
              "      <td>Lee J. Cobb</td>\n",
              "      <td>Martin Balsam</td>\n",
              "      <td>John Fiedler</td>\n",
              "      <td>689845</td>\n",
              "      <td>1950.0</td>\n",
              "      <td>15.287983</td>\n",
              "    </tr>\n",
              "    <tr>\n",
              "      <th>...</th>\n",
              "      <td>...</td>\n",
              "      <td>...</td>\n",
              "      <td>...</td>\n",
              "      <td>...</td>\n",
              "      <td>...</td>\n",
              "      <td>...</td>\n",
              "      <td>...</td>\n",
              "      <td>...</td>\n",
              "      <td>...</td>\n",
              "      <td>...</td>\n",
              "      <td>...</td>\n",
              "      <td>...</td>\n",
              "      <td>...</td>\n",
              "      <td>...</td>\n",
              "      <td>...</td>\n",
              "    </tr>\n",
              "    <tr>\n",
              "      <th>990</th>\n",
              "      <td>1971.0</td>\n",
              "      <td>1.0</td>\n",
              "      <td>157</td>\n",
              "      <td>Drama</td>\n",
              "      <td>7.6</td>\n",
              "      <td>A low-life bandit and an I.R.A. explosives exp...</td>\n",
              "      <td>77.0</td>\n",
              "      <td>3</td>\n",
              "      <td>Rod Steiger</td>\n",
              "      <td>James Coburn</td>\n",
              "      <td>Romolo Valli</td>\n",
              "      <td>Maria Monti</td>\n",
              "      <td>30144</td>\n",
              "      <td>1970.0</td>\n",
              "      <td>13.454096</td>\n",
              "    </tr>\n",
              "    <tr>\n",
              "      <th>991</th>\n",
              "      <td>1970.0</td>\n",
              "      <td>1.0</td>\n",
              "      <td>144</td>\n",
              "      <td>Adventure</td>\n",
              "      <td>7.6</td>\n",
              "      <td>A group of U.S. soldiers sneaks across enemy l...</td>\n",
              "      <td>50.0</td>\n",
              "      <td>4</td>\n",
              "      <td>Clint Eastwood</td>\n",
              "      <td>Telly Savalas</td>\n",
              "      <td>Don Rickles</td>\n",
              "      <td>Carroll O'Connor</td>\n",
              "      <td>45338</td>\n",
              "      <td>1970.0</td>\n",
              "      <td>14.136459</td>\n",
              "    </tr>\n",
              "    <tr>\n",
              "      <th>992</th>\n",
              "      <td>1967.0</td>\n",
              "      <td>1.0</td>\n",
              "      <td>78</td>\n",
              "      <td>Animation</td>\n",
              "      <td>7.6</td>\n",
              "      <td>Bagheera the Panther and Baloo the Bear have a...</td>\n",
              "      <td>65.0</td>\n",
              "      <td>4</td>\n",
              "      <td>Phil Harris</td>\n",
              "      <td>Sebastian Cabot</td>\n",
              "      <td>Louis Prima</td>\n",
              "      <td>Bruce Reitherman</td>\n",
              "      <td>166409</td>\n",
              "      <td>1960.0</td>\n",
              "      <td>18.770236</td>\n",
              "    </tr>\n",
              "    <tr>\n",
              "      <th>994</th>\n",
              "      <td>1964.0</td>\n",
              "      <td>1.0</td>\n",
              "      <td>87</td>\n",
              "      <td>Comedy</td>\n",
              "      <td>7.6</td>\n",
              "      <td>Over two \"typical\" days in the life of The Bea...</td>\n",
              "      <td>96.0</td>\n",
              "      <td>1</td>\n",
              "      <td>John Lennon</td>\n",
              "      <td>Paul McCartney</td>\n",
              "      <td>George Harrison</td>\n",
              "      <td>Ringo Starr</td>\n",
              "      <td>40351</td>\n",
              "      <td>1960.0</td>\n",
              "      <td>16.438731</td>\n",
              "    </tr>\n",
              "    <tr>\n",
              "      <th>997</th>\n",
              "      <td>1953.0</td>\n",
              "      <td>1.0</td>\n",
              "      <td>118</td>\n",
              "      <td>Drama</td>\n",
              "      <td>7.6</td>\n",
              "      <td>In Hawaii in 1941, a private is cruelly punish...</td>\n",
              "      <td>85.0</td>\n",
              "      <td>2</td>\n",
              "      <td>Burt Lancaster</td>\n",
              "      <td>Montgomery Clift</td>\n",
              "      <td>Deborah Kerr</td>\n",
              "      <td>Donna Reed</td>\n",
              "      <td>43374</td>\n",
              "      <td>1950.0</td>\n",
              "      <td>17.233237</td>\n",
              "    </tr>\n",
              "  </tbody>\n",
              "</table>\n",
              "<p>749 rows × 15 columns</p>\n",
              "</div>"
            ],
            "text/plain": [
              "     Released_Year  Certificate  Runtime      Genre  IMDB_Rating  \\\n",
              "0           1994.0          3.0      142      Drama          9.3   \n",
              "1           1972.0          3.0      175      Crime          9.2   \n",
              "2           2008.0          2.0      152     Action          9.0   \n",
              "3           1974.0          3.0      202      Crime          9.0   \n",
              "4           1957.0          1.0       96      Crime          9.0   \n",
              "..             ...          ...      ...        ...          ...   \n",
              "990         1971.0          1.0      157      Drama          7.6   \n",
              "991         1970.0          1.0      144  Adventure          7.6   \n",
              "992         1967.0          1.0       78  Animation          7.6   \n",
              "994         1964.0          1.0       87     Comedy          7.6   \n",
              "997         1953.0          1.0      118      Drama          7.6   \n",
              "\n",
              "                                              Overview  Meta_score Director  \\\n",
              "0    Two imprisoned men bond over a number of years...        80.0        3   \n",
              "1    An organized crime dynasty's aging patriarch t...       100.0        1   \n",
              "2    When the menace known as the Joker wreaks havo...        84.0        3   \n",
              "3    The early life and career of Vito Corleone in ...        90.0        1   \n",
              "4    A jury holdout attempts to prevent a miscarria...        96.0        1   \n",
              "..                                                 ...         ...      ...   \n",
              "990  A low-life bandit and an I.R.A. explosives exp...        77.0        3   \n",
              "991  A group of U.S. soldiers sneaks across enemy l...        50.0        4   \n",
              "992  Bagheera the Panther and Baloo the Bear have a...        65.0        4   \n",
              "994  Over two \"typical\" days in the life of The Bea...        96.0        1   \n",
              "997  In Hawaii in 1941, a private is cruelly punish...        85.0        2   \n",
              "\n",
              "              Star1             Star2            Star3             Star4  \\\n",
              "0       Tim Robbins    Morgan Freeman       Bob Gunton    William Sadler   \n",
              "1     Marlon Brando         Al Pacino       James Caan      Diane Keaton   \n",
              "2    Christian Bale      Heath Ledger    Aaron Eckhart     Michael Caine   \n",
              "3         Al Pacino    Robert De Niro    Robert Duvall      Diane Keaton   \n",
              "4       Henry Fonda       Lee J. Cobb    Martin Balsam      John Fiedler   \n",
              "..              ...               ...              ...               ...   \n",
              "990     Rod Steiger      James Coburn     Romolo Valli       Maria Monti   \n",
              "991  Clint Eastwood     Telly Savalas      Don Rickles  Carroll O'Connor   \n",
              "992     Phil Harris   Sebastian Cabot      Louis Prima  Bruce Reitherman   \n",
              "994     John Lennon    Paul McCartney  George Harrison       Ringo Starr   \n",
              "997  Burt Lancaster  Montgomery Clift     Deborah Kerr        Donna Reed   \n",
              "\n",
              "     No_of_Votes  Released_Decade  Gross_Log  \n",
              "0        2343110           1990.0  17.159837  \n",
              "1        1620367           1970.0  18.720536  \n",
              "2        2303232           2000.0  20.097513  \n",
              "3        1129952           1970.0  17.863811  \n",
              "4         689845           1950.0  15.287983  \n",
              "..           ...              ...        ...  \n",
              "990        30144           1970.0  13.454096  \n",
              "991        45338           1970.0  14.136459  \n",
              "992       166409           1960.0  18.770236  \n",
              "994        40351           1960.0  16.438731  \n",
              "997        43374           1950.0  17.233237  \n",
              "\n",
              "[749 rows x 15 columns]"
            ]
          },
          "execution_count": 37,
          "metadata": {},
          "output_type": "execute_result"
        }
      ],
      "source": [
        "directors = raw_df.groupby(\"Director\")[\"Meta_score\"].mean().to_frame()\n",
        "directors = pd.qcut(directors[\"Meta_score\"], q=4, labels=[4,3,2,1]).to_frame()\n",
        "\n",
        "processed_df[\"Director\"] = processed_df[\"Director\"].map(directors[\"Meta_score\"])\n",
        "processed_df\n"
      ]
    },
    {
      "attachments": {},
      "cell_type": "markdown",
      "metadata": {},
      "source": [
        "Performing a similar approach for the movie stars. The main difference for this case is that first of all I will create a list of unique actors and then apply their average metacritic score."
      ]
    },
    {
      "cell_type": "code",
      "execution_count": 38,
      "metadata": {},
      "outputs": [
        {
          "data": {
            "text/html": [
              "<div>\n",
              "<style scoped>\n",
              "    .dataframe tbody tr th:only-of-type {\n",
              "        vertical-align: middle;\n",
              "    }\n",
              "\n",
              "    .dataframe tbody tr th {\n",
              "        vertical-align: top;\n",
              "    }\n",
              "\n",
              "    .dataframe thead th {\n",
              "        text-align: right;\n",
              "    }\n",
              "</style>\n",
              "<table border=\"1\" class=\"dataframe\">\n",
              "  <thead>\n",
              "    <tr style=\"text-align: right;\">\n",
              "      <th></th>\n",
              "      <th>Released_Year</th>\n",
              "      <th>Certificate</th>\n",
              "      <th>Runtime</th>\n",
              "      <th>Genre</th>\n",
              "      <th>IMDB_Rating</th>\n",
              "      <th>Overview</th>\n",
              "      <th>Meta_score</th>\n",
              "      <th>Director</th>\n",
              "      <th>Star1</th>\n",
              "      <th>Star2</th>\n",
              "      <th>Star3</th>\n",
              "      <th>Star4</th>\n",
              "      <th>No_of_Votes</th>\n",
              "      <th>Released_Decade</th>\n",
              "      <th>Gross_Log</th>\n",
              "    </tr>\n",
              "  </thead>\n",
              "  <tbody>\n",
              "    <tr>\n",
              "      <th>0</th>\n",
              "      <td>1994.0</td>\n",
              "      <td>3.0</td>\n",
              "      <td>142</td>\n",
              "      <td>Drama</td>\n",
              "      <td>9.3</td>\n",
              "      <td>Two imprisoned men bond over a number of years...</td>\n",
              "      <td>80.0</td>\n",
              "      <td>3</td>\n",
              "      <td>2</td>\n",
              "      <td>3</td>\n",
              "      <td>2</td>\n",
              "      <td>2</td>\n",
              "      <td>2343110</td>\n",
              "      <td>1990.0</td>\n",
              "      <td>17.159837</td>\n",
              "    </tr>\n",
              "    <tr>\n",
              "      <th>1</th>\n",
              "      <td>1972.0</td>\n",
              "      <td>3.0</td>\n",
              "      <td>175</td>\n",
              "      <td>Crime</td>\n",
              "      <td>9.2</td>\n",
              "      <td>An organized crime dynasty's aging patriarch t...</td>\n",
              "      <td>100.0</td>\n",
              "      <td>1</td>\n",
              "      <td>1</td>\n",
              "      <td>2</td>\n",
              "      <td>1</td>\n",
              "      <td>2</td>\n",
              "      <td>1620367</td>\n",
              "      <td>1970.0</td>\n",
              "      <td>18.720536</td>\n",
              "    </tr>\n",
              "    <tr>\n",
              "      <th>2</th>\n",
              "      <td>2008.0</td>\n",
              "      <td>2.0</td>\n",
              "      <td>152</td>\n",
              "      <td>Action</td>\n",
              "      <td>9.0</td>\n",
              "      <td>When the menace known as the Joker wreaks havo...</td>\n",
              "      <td>84.0</td>\n",
              "      <td>3</td>\n",
              "      <td>3</td>\n",
              "      <td>2</td>\n",
              "      <td>2</td>\n",
              "      <td>3</td>\n",
              "      <td>2303232</td>\n",
              "      <td>2000.0</td>\n",
              "      <td>20.097513</td>\n",
              "    </tr>\n",
              "    <tr>\n",
              "      <th>3</th>\n",
              "      <td>1974.0</td>\n",
              "      <td>3.0</td>\n",
              "      <td>202</td>\n",
              "      <td>Crime</td>\n",
              "      <td>9.0</td>\n",
              "      <td>The early life and career of Vito Corleone in ...</td>\n",
              "      <td>90.0</td>\n",
              "      <td>1</td>\n",
              "      <td>2</td>\n",
              "      <td>2</td>\n",
              "      <td>2</td>\n",
              "      <td>2</td>\n",
              "      <td>1129952</td>\n",
              "      <td>1970.0</td>\n",
              "      <td>17.863811</td>\n",
              "    </tr>\n",
              "    <tr>\n",
              "      <th>4</th>\n",
              "      <td>1957.0</td>\n",
              "      <td>1.0</td>\n",
              "      <td>96</td>\n",
              "      <td>Crime</td>\n",
              "      <td>9.0</td>\n",
              "      <td>A jury holdout attempts to prevent a miscarria...</td>\n",
              "      <td>96.0</td>\n",
              "      <td>1</td>\n",
              "      <td>2</td>\n",
              "      <td>1</td>\n",
              "      <td>1</td>\n",
              "      <td>1</td>\n",
              "      <td>689845</td>\n",
              "      <td>1950.0</td>\n",
              "      <td>15.287983</td>\n",
              "    </tr>\n",
              "    <tr>\n",
              "      <th>...</th>\n",
              "      <td>...</td>\n",
              "      <td>...</td>\n",
              "      <td>...</td>\n",
              "      <td>...</td>\n",
              "      <td>...</td>\n",
              "      <td>...</td>\n",
              "      <td>...</td>\n",
              "      <td>...</td>\n",
              "      <td>...</td>\n",
              "      <td>...</td>\n",
              "      <td>...</td>\n",
              "      <td>...</td>\n",
              "      <td>...</td>\n",
              "      <td>...</td>\n",
              "      <td>...</td>\n",
              "    </tr>\n",
              "    <tr>\n",
              "      <th>990</th>\n",
              "      <td>1971.0</td>\n",
              "      <td>1.0</td>\n",
              "      <td>157</td>\n",
              "      <td>Drama</td>\n",
              "      <td>7.6</td>\n",
              "      <td>A low-life bandit and an I.R.A. explosives exp...</td>\n",
              "      <td>77.0</td>\n",
              "      <td>3</td>\n",
              "      <td>3</td>\n",
              "      <td>2</td>\n",
              "      <td>3</td>\n",
              "      <td>3</td>\n",
              "      <td>30144</td>\n",
              "      <td>1970.0</td>\n",
              "      <td>13.454096</td>\n",
              "    </tr>\n",
              "    <tr>\n",
              "      <th>991</th>\n",
              "      <td>1970.0</td>\n",
              "      <td>1.0</td>\n",
              "      <td>144</td>\n",
              "      <td>Adventure</td>\n",
              "      <td>7.6</td>\n",
              "      <td>A group of U.S. soldiers sneaks across enemy l...</td>\n",
              "      <td>50.0</td>\n",
              "      <td>4</td>\n",
              "      <td>3</td>\n",
              "      <td>4</td>\n",
              "      <td>3</td>\n",
              "      <td>4</td>\n",
              "      <td>45338</td>\n",
              "      <td>1970.0</td>\n",
              "      <td>14.136459</td>\n",
              "    </tr>\n",
              "    <tr>\n",
              "      <th>992</th>\n",
              "      <td>1967.0</td>\n",
              "      <td>1.0</td>\n",
              "      <td>78</td>\n",
              "      <td>Animation</td>\n",
              "      <td>7.6</td>\n",
              "      <td>Bagheera the Panther and Baloo the Bear have a...</td>\n",
              "      <td>65.0</td>\n",
              "      <td>4</td>\n",
              "      <td>4</td>\n",
              "      <td>4</td>\n",
              "      <td>4</td>\n",
              "      <td>4</td>\n",
              "      <td>166409</td>\n",
              "      <td>1960.0</td>\n",
              "      <td>18.770236</td>\n",
              "    </tr>\n",
              "    <tr>\n",
              "      <th>994</th>\n",
              "      <td>1964.0</td>\n",
              "      <td>1.0</td>\n",
              "      <td>87</td>\n",
              "      <td>Comedy</td>\n",
              "      <td>7.6</td>\n",
              "      <td>Over two \"typical\" days in the life of The Bea...</td>\n",
              "      <td>96.0</td>\n",
              "      <td>1</td>\n",
              "      <td>1</td>\n",
              "      <td>1</td>\n",
              "      <td>1</td>\n",
              "      <td>1</td>\n",
              "      <td>40351</td>\n",
              "      <td>1960.0</td>\n",
              "      <td>16.438731</td>\n",
              "    </tr>\n",
              "    <tr>\n",
              "      <th>997</th>\n",
              "      <td>1953.0</td>\n",
              "      <td>1.0</td>\n",
              "      <td>118</td>\n",
              "      <td>Drama</td>\n",
              "      <td>7.6</td>\n",
              "      <td>In Hawaii in 1941, a private is cruelly punish...</td>\n",
              "      <td>85.0</td>\n",
              "      <td>2</td>\n",
              "      <td>2</td>\n",
              "      <td>2</td>\n",
              "      <td>1</td>\n",
              "      <td>2</td>\n",
              "      <td>43374</td>\n",
              "      <td>1950.0</td>\n",
              "      <td>17.233237</td>\n",
              "    </tr>\n",
              "  </tbody>\n",
              "</table>\n",
              "<p>749 rows × 15 columns</p>\n",
              "</div>"
            ],
            "text/plain": [
              "     Released_Year  Certificate  Runtime      Genre  IMDB_Rating  \\\n",
              "0           1994.0          3.0      142      Drama          9.3   \n",
              "1           1972.0          3.0      175      Crime          9.2   \n",
              "2           2008.0          2.0      152     Action          9.0   \n",
              "3           1974.0          3.0      202      Crime          9.0   \n",
              "4           1957.0          1.0       96      Crime          9.0   \n",
              "..             ...          ...      ...        ...          ...   \n",
              "990         1971.0          1.0      157      Drama          7.6   \n",
              "991         1970.0          1.0      144  Adventure          7.6   \n",
              "992         1967.0          1.0       78  Animation          7.6   \n",
              "994         1964.0          1.0       87     Comedy          7.6   \n",
              "997         1953.0          1.0      118      Drama          7.6   \n",
              "\n",
              "                                              Overview  Meta_score Director  \\\n",
              "0    Two imprisoned men bond over a number of years...        80.0        3   \n",
              "1    An organized crime dynasty's aging patriarch t...       100.0        1   \n",
              "2    When the menace known as the Joker wreaks havo...        84.0        3   \n",
              "3    The early life and career of Vito Corleone in ...        90.0        1   \n",
              "4    A jury holdout attempts to prevent a miscarria...        96.0        1   \n",
              "..                                                 ...         ...      ...   \n",
              "990  A low-life bandit and an I.R.A. explosives exp...        77.0        3   \n",
              "991  A group of U.S. soldiers sneaks across enemy l...        50.0        4   \n",
              "992  Bagheera the Panther and Baloo the Bear have a...        65.0        4   \n",
              "994  Over two \"typical\" days in the life of The Bea...        96.0        1   \n",
              "997  In Hawaii in 1941, a private is cruelly punish...        85.0        2   \n",
              "\n",
              "    Star1 Star2 Star3 Star4  No_of_Votes  Released_Decade  Gross_Log  \n",
              "0       2     3     2     2      2343110           1990.0  17.159837  \n",
              "1       1     2     1     2      1620367           1970.0  18.720536  \n",
              "2       3     2     2     3      2303232           2000.0  20.097513  \n",
              "3       2     2     2     2      1129952           1970.0  17.863811  \n",
              "4       2     1     1     1       689845           1950.0  15.287983  \n",
              "..    ...   ...   ...   ...          ...              ...        ...  \n",
              "990     3     2     3     3        30144           1970.0  13.454096  \n",
              "991     3     4     3     4        45338           1970.0  14.136459  \n",
              "992     4     4     4     4       166409           1960.0  18.770236  \n",
              "994     1     1     1     1        40351           1960.0  16.438731  \n",
              "997     2     2     1     2        43374           1950.0  17.233237  \n",
              "\n",
              "[749 rows x 15 columns]"
            ]
          },
          "execution_count": 38,
          "metadata": {},
          "output_type": "execute_result"
        }
      ],
      "source": [
        "full_list = pd.concat([processed_df['Star1'], processed_df['Star2'],\n",
        "                         processed_df['Star3'],  processed_df['Star4']])\n",
        "\n",
        "full_list = full_list.unique().tolist()\n",
        "\n",
        "full_list = pd.DataFrame(columns= [\"Actor\"], data=full_list)\n",
        "\n",
        "for i, c in full_list.iterrows(): \n",
        "    full_list.loc[i,\"Score\"] = raw_df[(raw_df[\"Star1\"] == full_list.loc[i,\"Actor\"] )|\n",
        "                                      (raw_df[\"Star2\"] == full_list.loc[i,\"Actor\"] )|\n",
        "                                      (raw_df[\"Star3\"] == full_list.loc[i,\"Actor\"] )|\n",
        "                                      (raw_df[\"Star4\"] == full_list.loc[i,\"Actor\"] )][\"Meta_score\"].mean()\n",
        "\n",
        "full_list[\"Ranking\"] = pd.qcut(full_list[\"Score\"], q=4, labels=[4,3,2,1])\n",
        "\n",
        "full_list.set_index(\"Actor\", inplace=True)\n",
        "\n",
        "processed_df[\"Star1\"] = processed_df[\"Star1\"].map(full_list[\"Ranking\"])\n",
        "processed_df[\"Star2\"] = processed_df[\"Star2\"].map(full_list[\"Ranking\"])\n",
        "processed_df[\"Star3\"] = processed_df[\"Star3\"].map(full_list[\"Ranking\"])\n",
        "processed_df[\"Star4\"] = processed_df[\"Star4\"].map(full_list[\"Ranking\"])\n",
        "\n",
        "processed_df"
      ]
    },
    {
      "cell_type": "code",
      "execution_count": 39,
      "metadata": {
        "colab": {
          "base_uri": "https://localhost:8080/",
          "height": 317
        },
        "id": "rZnMNlPCee64",
        "outputId": "bc89ce87-cf2a-49bd-cd6a-2a8d2b4f0060"
      },
      "outputs": [
        {
          "data": {
            "text/html": [
              "<div>\n",
              "<style scoped>\n",
              "    .dataframe tbody tr th:only-of-type {\n",
              "        vertical-align: middle;\n",
              "    }\n",
              "\n",
              "    .dataframe tbody tr th {\n",
              "        vertical-align: top;\n",
              "    }\n",
              "\n",
              "    .dataframe thead th {\n",
              "        text-align: right;\n",
              "    }\n",
              "</style>\n",
              "<table border=\"1\" class=\"dataframe\">\n",
              "  <thead>\n",
              "    <tr style=\"text-align: right;\">\n",
              "      <th></th>\n",
              "      <th>Genre_Adventure</th>\n",
              "      <th>Genre_Animation</th>\n",
              "      <th>Genre_Biography</th>\n",
              "      <th>Genre_Comedy</th>\n",
              "      <th>Genre_Crime</th>\n",
              "      <th>Genre_Drama</th>\n",
              "      <th>Genre_Family</th>\n",
              "      <th>Genre_Film-Noir</th>\n",
              "      <th>Genre_Horror</th>\n",
              "      <th>Genre_Mystery</th>\n",
              "      <th>Genre_Thriller</th>\n",
              "      <th>Genre_Western</th>\n",
              "    </tr>\n",
              "  </thead>\n",
              "  <tbody>\n",
              "    <tr>\n",
              "      <th>0</th>\n",
              "      <td>False</td>\n",
              "      <td>False</td>\n",
              "      <td>False</td>\n",
              "      <td>False</td>\n",
              "      <td>False</td>\n",
              "      <td>True</td>\n",
              "      <td>False</td>\n",
              "      <td>False</td>\n",
              "      <td>False</td>\n",
              "      <td>False</td>\n",
              "      <td>False</td>\n",
              "      <td>False</td>\n",
              "    </tr>\n",
              "    <tr>\n",
              "      <th>1</th>\n",
              "      <td>False</td>\n",
              "      <td>False</td>\n",
              "      <td>False</td>\n",
              "      <td>False</td>\n",
              "      <td>True</td>\n",
              "      <td>False</td>\n",
              "      <td>False</td>\n",
              "      <td>False</td>\n",
              "      <td>False</td>\n",
              "      <td>False</td>\n",
              "      <td>False</td>\n",
              "      <td>False</td>\n",
              "    </tr>\n",
              "    <tr>\n",
              "      <th>2</th>\n",
              "      <td>False</td>\n",
              "      <td>False</td>\n",
              "      <td>False</td>\n",
              "      <td>False</td>\n",
              "      <td>False</td>\n",
              "      <td>False</td>\n",
              "      <td>False</td>\n",
              "      <td>False</td>\n",
              "      <td>False</td>\n",
              "      <td>False</td>\n",
              "      <td>False</td>\n",
              "      <td>False</td>\n",
              "    </tr>\n",
              "    <tr>\n",
              "      <th>3</th>\n",
              "      <td>False</td>\n",
              "      <td>False</td>\n",
              "      <td>False</td>\n",
              "      <td>False</td>\n",
              "      <td>True</td>\n",
              "      <td>False</td>\n",
              "      <td>False</td>\n",
              "      <td>False</td>\n",
              "      <td>False</td>\n",
              "      <td>False</td>\n",
              "      <td>False</td>\n",
              "      <td>False</td>\n",
              "    </tr>\n",
              "    <tr>\n",
              "      <th>4</th>\n",
              "      <td>False</td>\n",
              "      <td>False</td>\n",
              "      <td>False</td>\n",
              "      <td>False</td>\n",
              "      <td>True</td>\n",
              "      <td>False</td>\n",
              "      <td>False</td>\n",
              "      <td>False</td>\n",
              "      <td>False</td>\n",
              "      <td>False</td>\n",
              "      <td>False</td>\n",
              "      <td>False</td>\n",
              "    </tr>\n",
              "  </tbody>\n",
              "</table>\n",
              "</div>"
            ],
            "text/plain": [
              "   Genre_Adventure  Genre_Animation  Genre_Biography  Genre_Comedy  \\\n",
              "0            False            False            False         False   \n",
              "1            False            False            False         False   \n",
              "2            False            False            False         False   \n",
              "3            False            False            False         False   \n",
              "4            False            False            False         False   \n",
              "\n",
              "   Genre_Crime  Genre_Drama  Genre_Family  Genre_Film-Noir  Genre_Horror  \\\n",
              "0        False         True         False            False         False   \n",
              "1         True        False         False            False         False   \n",
              "2        False        False         False            False         False   \n",
              "3         True        False         False            False         False   \n",
              "4         True        False         False            False         False   \n",
              "\n",
              "   Genre_Mystery  Genre_Thriller  Genre_Western  \n",
              "0          False           False          False  \n",
              "1          False           False          False  \n",
              "2          False           False          False  \n",
              "3          False           False          False  \n",
              "4          False           False          False  "
            ]
          },
          "execution_count": 39,
          "metadata": {},
          "output_type": "execute_result"
        }
      ],
      "source": [
        "#Dummy variables DF generated\n",
        "\n",
        "obj=['Genre']\n",
        "dummy_vars = pd.get_dummies(processed_df[obj],drop_first=True)\n",
        "\n",
        "dummy_vars.head(5)"
      ]
    },
    {
      "attachments": {},
      "cell_type": "markdown",
      "metadata": {},
      "source": [
        "Concatenation of processed_df and the dumm_vars dataframes."
      ]
    },
    {
      "cell_type": "code",
      "execution_count": 40,
      "metadata": {
        "colab": {
          "base_uri": "https://localhost:8080/",
          "height": 505
        },
        "id": "Ps0YGC5KYUN9",
        "outputId": "5f742e22-dfd3-45cf-c125-833511af11a7"
      },
      "outputs": [
        {
          "data": {
            "text/html": [
              "<div>\n",
              "<style scoped>\n",
              "    .dataframe tbody tr th:only-of-type {\n",
              "        vertical-align: middle;\n",
              "    }\n",
              "\n",
              "    .dataframe tbody tr th {\n",
              "        vertical-align: top;\n",
              "    }\n",
              "\n",
              "    .dataframe thead th {\n",
              "        text-align: right;\n",
              "    }\n",
              "</style>\n",
              "<table border=\"1\" class=\"dataframe\">\n",
              "  <thead>\n",
              "    <tr style=\"text-align: right;\">\n",
              "      <th></th>\n",
              "      <th>Runtime</th>\n",
              "      <th>IMDB_Rating</th>\n",
              "      <th>Certificate</th>\n",
              "      <th>Released_Year</th>\n",
              "      <th>Director</th>\n",
              "      <th>Star1</th>\n",
              "      <th>Star2</th>\n",
              "      <th>Star3</th>\n",
              "      <th>Star4</th>\n",
              "      <th>No_of_Votes</th>\n",
              "      <th>...</th>\n",
              "      <th>Genre_Biography</th>\n",
              "      <th>Genre_Comedy</th>\n",
              "      <th>Genre_Crime</th>\n",
              "      <th>Genre_Drama</th>\n",
              "      <th>Genre_Family</th>\n",
              "      <th>Genre_Film-Noir</th>\n",
              "      <th>Genre_Horror</th>\n",
              "      <th>Genre_Mystery</th>\n",
              "      <th>Genre_Thriller</th>\n",
              "      <th>Genre_Western</th>\n",
              "    </tr>\n",
              "  </thead>\n",
              "  <tbody>\n",
              "    <tr>\n",
              "      <th>0</th>\n",
              "      <td>142</td>\n",
              "      <td>9.3</td>\n",
              "      <td>3.0</td>\n",
              "      <td>1994.0</td>\n",
              "      <td>3</td>\n",
              "      <td>2</td>\n",
              "      <td>3</td>\n",
              "      <td>2</td>\n",
              "      <td>2</td>\n",
              "      <td>2343110</td>\n",
              "      <td>...</td>\n",
              "      <td>False</td>\n",
              "      <td>False</td>\n",
              "      <td>False</td>\n",
              "      <td>True</td>\n",
              "      <td>False</td>\n",
              "      <td>False</td>\n",
              "      <td>False</td>\n",
              "      <td>False</td>\n",
              "      <td>False</td>\n",
              "      <td>False</td>\n",
              "    </tr>\n",
              "    <tr>\n",
              "      <th>1</th>\n",
              "      <td>175</td>\n",
              "      <td>9.2</td>\n",
              "      <td>3.0</td>\n",
              "      <td>1972.0</td>\n",
              "      <td>1</td>\n",
              "      <td>1</td>\n",
              "      <td>2</td>\n",
              "      <td>1</td>\n",
              "      <td>2</td>\n",
              "      <td>1620367</td>\n",
              "      <td>...</td>\n",
              "      <td>False</td>\n",
              "      <td>False</td>\n",
              "      <td>True</td>\n",
              "      <td>False</td>\n",
              "      <td>False</td>\n",
              "      <td>False</td>\n",
              "      <td>False</td>\n",
              "      <td>False</td>\n",
              "      <td>False</td>\n",
              "      <td>False</td>\n",
              "    </tr>\n",
              "    <tr>\n",
              "      <th>2</th>\n",
              "      <td>152</td>\n",
              "      <td>9.0</td>\n",
              "      <td>2.0</td>\n",
              "      <td>2008.0</td>\n",
              "      <td>3</td>\n",
              "      <td>3</td>\n",
              "      <td>2</td>\n",
              "      <td>2</td>\n",
              "      <td>3</td>\n",
              "      <td>2303232</td>\n",
              "      <td>...</td>\n",
              "      <td>False</td>\n",
              "      <td>False</td>\n",
              "      <td>False</td>\n",
              "      <td>False</td>\n",
              "      <td>False</td>\n",
              "      <td>False</td>\n",
              "      <td>False</td>\n",
              "      <td>False</td>\n",
              "      <td>False</td>\n",
              "      <td>False</td>\n",
              "    </tr>\n",
              "    <tr>\n",
              "      <th>3</th>\n",
              "      <td>202</td>\n",
              "      <td>9.0</td>\n",
              "      <td>3.0</td>\n",
              "      <td>1974.0</td>\n",
              "      <td>1</td>\n",
              "      <td>2</td>\n",
              "      <td>2</td>\n",
              "      <td>2</td>\n",
              "      <td>2</td>\n",
              "      <td>1129952</td>\n",
              "      <td>...</td>\n",
              "      <td>False</td>\n",
              "      <td>False</td>\n",
              "      <td>True</td>\n",
              "      <td>False</td>\n",
              "      <td>False</td>\n",
              "      <td>False</td>\n",
              "      <td>False</td>\n",
              "      <td>False</td>\n",
              "      <td>False</td>\n",
              "      <td>False</td>\n",
              "    </tr>\n",
              "    <tr>\n",
              "      <th>4</th>\n",
              "      <td>96</td>\n",
              "      <td>9.0</td>\n",
              "      <td>1.0</td>\n",
              "      <td>1957.0</td>\n",
              "      <td>1</td>\n",
              "      <td>2</td>\n",
              "      <td>1</td>\n",
              "      <td>1</td>\n",
              "      <td>1</td>\n",
              "      <td>689845</td>\n",
              "      <td>...</td>\n",
              "      <td>False</td>\n",
              "      <td>False</td>\n",
              "      <td>True</td>\n",
              "      <td>False</td>\n",
              "      <td>False</td>\n",
              "      <td>False</td>\n",
              "      <td>False</td>\n",
              "      <td>False</td>\n",
              "      <td>False</td>\n",
              "      <td>False</td>\n",
              "    </tr>\n",
              "    <tr>\n",
              "      <th>...</th>\n",
              "      <td>...</td>\n",
              "      <td>...</td>\n",
              "      <td>...</td>\n",
              "      <td>...</td>\n",
              "      <td>...</td>\n",
              "      <td>...</td>\n",
              "      <td>...</td>\n",
              "      <td>...</td>\n",
              "      <td>...</td>\n",
              "      <td>...</td>\n",
              "      <td>...</td>\n",
              "      <td>...</td>\n",
              "      <td>...</td>\n",
              "      <td>...</td>\n",
              "      <td>...</td>\n",
              "      <td>...</td>\n",
              "      <td>...</td>\n",
              "      <td>...</td>\n",
              "      <td>...</td>\n",
              "      <td>...</td>\n",
              "      <td>...</td>\n",
              "    </tr>\n",
              "    <tr>\n",
              "      <th>990</th>\n",
              "      <td>157</td>\n",
              "      <td>7.6</td>\n",
              "      <td>1.0</td>\n",
              "      <td>1971.0</td>\n",
              "      <td>3</td>\n",
              "      <td>3</td>\n",
              "      <td>2</td>\n",
              "      <td>3</td>\n",
              "      <td>3</td>\n",
              "      <td>30144</td>\n",
              "      <td>...</td>\n",
              "      <td>False</td>\n",
              "      <td>False</td>\n",
              "      <td>False</td>\n",
              "      <td>True</td>\n",
              "      <td>False</td>\n",
              "      <td>False</td>\n",
              "      <td>False</td>\n",
              "      <td>False</td>\n",
              "      <td>False</td>\n",
              "      <td>False</td>\n",
              "    </tr>\n",
              "    <tr>\n",
              "      <th>991</th>\n",
              "      <td>144</td>\n",
              "      <td>7.6</td>\n",
              "      <td>1.0</td>\n",
              "      <td>1970.0</td>\n",
              "      <td>4</td>\n",
              "      <td>3</td>\n",
              "      <td>4</td>\n",
              "      <td>3</td>\n",
              "      <td>4</td>\n",
              "      <td>45338</td>\n",
              "      <td>...</td>\n",
              "      <td>False</td>\n",
              "      <td>False</td>\n",
              "      <td>False</td>\n",
              "      <td>False</td>\n",
              "      <td>False</td>\n",
              "      <td>False</td>\n",
              "      <td>False</td>\n",
              "      <td>False</td>\n",
              "      <td>False</td>\n",
              "      <td>False</td>\n",
              "    </tr>\n",
              "    <tr>\n",
              "      <th>992</th>\n",
              "      <td>78</td>\n",
              "      <td>7.6</td>\n",
              "      <td>1.0</td>\n",
              "      <td>1967.0</td>\n",
              "      <td>4</td>\n",
              "      <td>4</td>\n",
              "      <td>4</td>\n",
              "      <td>4</td>\n",
              "      <td>4</td>\n",
              "      <td>166409</td>\n",
              "      <td>...</td>\n",
              "      <td>False</td>\n",
              "      <td>False</td>\n",
              "      <td>False</td>\n",
              "      <td>False</td>\n",
              "      <td>False</td>\n",
              "      <td>False</td>\n",
              "      <td>False</td>\n",
              "      <td>False</td>\n",
              "      <td>False</td>\n",
              "      <td>False</td>\n",
              "    </tr>\n",
              "    <tr>\n",
              "      <th>994</th>\n",
              "      <td>87</td>\n",
              "      <td>7.6</td>\n",
              "      <td>1.0</td>\n",
              "      <td>1964.0</td>\n",
              "      <td>1</td>\n",
              "      <td>1</td>\n",
              "      <td>1</td>\n",
              "      <td>1</td>\n",
              "      <td>1</td>\n",
              "      <td>40351</td>\n",
              "      <td>...</td>\n",
              "      <td>False</td>\n",
              "      <td>True</td>\n",
              "      <td>False</td>\n",
              "      <td>False</td>\n",
              "      <td>False</td>\n",
              "      <td>False</td>\n",
              "      <td>False</td>\n",
              "      <td>False</td>\n",
              "      <td>False</td>\n",
              "      <td>False</td>\n",
              "    </tr>\n",
              "    <tr>\n",
              "      <th>997</th>\n",
              "      <td>118</td>\n",
              "      <td>7.6</td>\n",
              "      <td>1.0</td>\n",
              "      <td>1953.0</td>\n",
              "      <td>2</td>\n",
              "      <td>2</td>\n",
              "      <td>2</td>\n",
              "      <td>1</td>\n",
              "      <td>2</td>\n",
              "      <td>43374</td>\n",
              "      <td>...</td>\n",
              "      <td>False</td>\n",
              "      <td>False</td>\n",
              "      <td>False</td>\n",
              "      <td>True</td>\n",
              "      <td>False</td>\n",
              "      <td>False</td>\n",
              "      <td>False</td>\n",
              "      <td>False</td>\n",
              "      <td>False</td>\n",
              "      <td>False</td>\n",
              "    </tr>\n",
              "  </tbody>\n",
              "</table>\n",
              "<p>749 rows × 24 columns</p>\n",
              "</div>"
            ],
            "text/plain": [
              "     Runtime  IMDB_Rating  Certificate  Released_Year Director Star1 Star2  \\\n",
              "0        142          9.3          3.0         1994.0        3     2     3   \n",
              "1        175          9.2          3.0         1972.0        1     1     2   \n",
              "2        152          9.0          2.0         2008.0        3     3     2   \n",
              "3        202          9.0          3.0         1974.0        1     2     2   \n",
              "4         96          9.0          1.0         1957.0        1     2     1   \n",
              "..       ...          ...          ...            ...      ...   ...   ...   \n",
              "990      157          7.6          1.0         1971.0        3     3     2   \n",
              "991      144          7.6          1.0         1970.0        4     3     4   \n",
              "992       78          7.6          1.0         1967.0        4     4     4   \n",
              "994       87          7.6          1.0         1964.0        1     1     1   \n",
              "997      118          7.6          1.0         1953.0        2     2     2   \n",
              "\n",
              "    Star3 Star4  No_of_Votes  ...  Genre_Biography  Genre_Comedy  Genre_Crime  \\\n",
              "0       2     2      2343110  ...            False         False        False   \n",
              "1       1     2      1620367  ...            False         False         True   \n",
              "2       2     3      2303232  ...            False         False        False   \n",
              "3       2     2      1129952  ...            False         False         True   \n",
              "4       1     1       689845  ...            False         False         True   \n",
              "..    ...   ...          ...  ...              ...           ...          ...   \n",
              "990     3     3        30144  ...            False         False        False   \n",
              "991     3     4        45338  ...            False         False        False   \n",
              "992     4     4       166409  ...            False         False        False   \n",
              "994     1     1        40351  ...            False          True        False   \n",
              "997     1     2        43374  ...            False         False        False   \n",
              "\n",
              "     Genre_Drama  Genre_Family  Genre_Film-Noir  Genre_Horror  Genre_Mystery  \\\n",
              "0           True         False            False         False          False   \n",
              "1          False         False            False         False          False   \n",
              "2          False         False            False         False          False   \n",
              "3          False         False            False         False          False   \n",
              "4          False         False            False         False          False   \n",
              "..           ...           ...              ...           ...            ...   \n",
              "990         True         False            False         False          False   \n",
              "991        False         False            False         False          False   \n",
              "992        False         False            False         False          False   \n",
              "994        False         False            False         False          False   \n",
              "997         True         False            False         False          False   \n",
              "\n",
              "     Genre_Thriller  Genre_Western  \n",
              "0             False          False  \n",
              "1             False          False  \n",
              "2             False          False  \n",
              "3             False          False  \n",
              "4             False          False  \n",
              "..              ...            ...  \n",
              "990           False          False  \n",
              "991           False          False  \n",
              "992           False          False  \n",
              "994           False          False  \n",
              "997           False          False  \n",
              "\n",
              "[749 rows x 24 columns]"
            ]
          },
          "execution_count": 40,
          "metadata": {},
          "output_type": "execute_result"
        }
      ],
      "source": [
        "processed_final = pd.concat([processed_df[[\"Runtime\",\"IMDB_Rating\",\"Certificate\",\n",
        " \"Released_Year\",\"Director\",\"Star1\",\"Star2\",\"Star3\",\"Star4\",\"No_of_Votes\",\"Meta_score\",\"Gross_Log\"]], \n",
        "                             dummy_vars], axis=1)\n",
        "processed_final"
      ]
    },
    {
      "attachments": {},
      "cell_type": "markdown",
      "metadata": {},
      "source": [
        "Checking new correlations after the features creation."
      ]
    },
    {
      "cell_type": "code",
      "execution_count": 41,
      "metadata": {
        "colab": {
          "base_uri": "https://localhost:8080/",
          "height": 505
        },
        "id": "pEzhGI0Gi8aK",
        "outputId": "d3c3c6c5-bc3c-49f2-f259-b41f23742014"
      },
      "outputs": [
        {
          "data": {
            "text/plain": [
              "Runtime            False\n",
              "IMDB_Rating        False\n",
              "Certificate        False\n",
              "Released_Year      False\n",
              "Director            True\n",
              "Star1               True\n",
              "Star2               True\n",
              "Star3               True\n",
              "Star4               True\n",
              "No_of_Votes        False\n",
              "Meta_score         False\n",
              "Gross_Log          False\n",
              "Genre_Adventure    False\n",
              "Genre_Animation    False\n",
              "Genre_Biography    False\n",
              "Genre_Comedy       False\n",
              "Genre_Crime        False\n",
              "Genre_Drama        False\n",
              "Genre_Family       False\n",
              "Genre_Film-Noir    False\n",
              "Genre_Horror       False\n",
              "Genre_Mystery      False\n",
              "Genre_Thriller     False\n",
              "Genre_Western      False\n",
              "dtype: bool"
            ]
          },
          "execution_count": 41,
          "metadata": {},
          "output_type": "execute_result"
        }
      ],
      "source": [
        "corr = processed_final.corr()\n",
        "corr[(corr>0.7)&(corr!=1)].any(axis=1)"
      ]
    },
    {
      "attachments": {},
      "cell_type": "markdown",
      "metadata": {},
      "source": [
        "The only features that have a higher correlation than 0.7 are the Stars and Directors. Given the prior, I will consolidate the \"Stars\" and \"Director\" variables into a single one that computes the mode of the crew to assign a \"Cast_class\"."
      ]
    },
    {
      "cell_type": "code",
      "execution_count": 42,
      "metadata": {},
      "outputs": [
        {
          "data": {
            "text/plain": [
              "Runtime            False\n",
              "IMDB_Rating        False\n",
              "Certificate        False\n",
              "Released_Year      False\n",
              "No_of_Votes        False\n",
              "Meta_score         False\n",
              "Gross_Log          False\n",
              "Genre_Adventure    False\n",
              "Genre_Animation    False\n",
              "Genre_Biography    False\n",
              "Genre_Comedy       False\n",
              "Genre_Crime        False\n",
              "Genre_Drama        False\n",
              "Genre_Family       False\n",
              "Genre_Film-Noir    False\n",
              "Genre_Horror       False\n",
              "Genre_Mystery      False\n",
              "Genre_Thriller     False\n",
              "Genre_Western      False\n",
              "Cast_class         False\n",
              "dtype: bool"
            ]
          },
          "execution_count": 42,
          "metadata": {},
          "output_type": "execute_result"
        }
      ],
      "source": [
        "processed_final[\"Cast_class\"] = processed_final.\\\n",
        "    apply(lambda row: pd.Series([\\\n",
        "        row[\"Star1\"],\n",
        "        row[\"Star2\"],\n",
        "        row[\"Star3\"], \n",
        "        row[\"Star4\"],\n",
        "        row[\"Director\"]]).mode().values[0]\\\n",
        "            , axis=1)\n",
        "\n",
        "processed_final.drop([\"Star1\", \"Star2\",\"Star3\",\"Star4\", \"Director\"], axis=1, inplace= True)\n",
        "\n",
        "corr = processed_final.corr()\n",
        "corr[(corr>0.7)&(corr!=1)].any(axis=1)"
      ]
    },
    {
      "attachments": {},
      "cell_type": "markdown",
      "metadata": {
        "id": "I7LXTEir8aoj"
      },
      "source": [
        "# Train/Test split"
      ]
    },
    {
      "cell_type": "code",
      "execution_count": 43,
      "metadata": {
        "colab": {
          "base_uri": "https://localhost:8080/"
        },
        "id": "HcvSitS7Z9k_",
        "outputId": "9fd91f58-6483-4b6e-e864-d5ef65b47c84"
      },
      "outputs": [
        {
          "name": "stdout",
          "output_type": "stream",
          "text": [
            "(524, 19) (524,)\n",
            "(225, 19) (225,)\n"
          ]
        }
      ],
      "source": [
        "#Test train split\n",
        "processed_final = processed_final[~processed_final.isnull().any(axis=1)].copy()\n",
        "\n",
        "#Scaling variables\n",
        "\n",
        "cols_to_std = ['Runtime','Meta_score', \"Released_Year\"]\n",
        "from sklearn.preprocessing import StandardScaler\n",
        "scaler=StandardScaler()\n",
        "scaler.fit(processed_final[cols_to_std])\n",
        "processed_final[cols_to_std] = scaler.transform(processed_final[cols_to_std])\n",
        "\n",
        "\n",
        "X_train, X_test, y_train, y_test = train_test_split(processed_final.loc[:,[\"Runtime\"]+list(processed_final.columns[2:])], \n",
        "                                                     processed_final.iloc[:,1], \n",
        "                                                     random_state=42, test_size=0.3 )\n",
        "\n",
        "\n",
        "print (X_train.shape, y_train.shape)\n",
        "print (X_test.shape, y_test.shape)"
      ]
    },
    {
      "attachments": {},
      "cell_type": "markdown",
      "metadata": {
        "id": "H1HbVwAc8e9R"
      },
      "source": [
        "# First Model - Decission Tree"
      ]
    },
    {
      "attachments": {},
      "cell_type": "markdown",
      "metadata": {},
      "source": [
        "Iterating to get the optimal depth of the decission tree."
      ]
    },
    {
      "cell_type": "code",
      "execution_count": 44,
      "metadata": {
        "colab": {
          "base_uri": "https://localhost:8080/",
          "height": 498
        },
        "id": "qcSBFZ3qcoxR",
        "outputId": "25bc3b5d-b7d9-49c9-a2bc-2281174c1e65"
      },
      "outputs": [
        {
          "data": {
            "image/png": "[encoded data removed]",
            "text/plain": [
              "<Figure size 432x288 with 1 Axes>"
            ]
          },
          "metadata": {
            "needs_background": "light"
          },
          "output_type": "display_data"
        }
      ],
      "source": [
        "md_list = []\n",
        "score_train_list = []\n",
        "score_test_list = []\n",
        "mse_train_list = []\n",
        "mse_test_list = []\n",
        "\n",
        "for maxdepth in list(range(1,15)):\n",
        "  tree_model = DecisionTreeRegressor(random_state=0, max_depth=maxdepth)\n",
        "  tree_model.fit(X_train, y_train)\n",
        "\n",
        "  pred_train = tree_model.predict(X_train)\n",
        "  pred_test = tree_model.predict(X_test)\n",
        "\n",
        "  # Lists generation\n",
        "  md_list.append(maxdepth)\n",
        "  score_train_list.append(100.0*tree_model.score(X_train, y_train))\n",
        "  score_test_list.append(100.0*tree_model.score(X_test, y_test))\n",
        "  mse_train_list.append(mean_squared_error(y_train, pred_train))\n",
        "  mse_test_list.append(mean_squared_error(y_test, pred_test))\n",
        "\n",
        "df_maxdepth = pd.DataFrame({\"max_depth\":md_list, \n",
        "                   \"score_train\":score_train_list,\n",
        "                   \"score_test\":score_test_list,\n",
        "                   \"mse_train\":mse_train_list,\n",
        "                   \"mse_test\":mse_test_list\n",
        "                   })\n",
        "df_maxdepth.set_index(\"max_depth\", inplace=True)\n",
        "\n",
        "df_maxdepth[\"mse_train\"].plot(label=\"Train Mean Squared Error\")\n",
        "df_maxdepth[\"mse_test\"].plot(label=\"Test Mean Squared Error\")\n",
        "plt.xticks(range(1,16))\n",
        "plt.suptitle(\"Overfitting vs Underfitting\")\n",
        "plt.legend()\n",
        "plt.show()"
      ]
    },
    {
      "cell_type": "code",
      "execution_count": 45,
      "metadata": {
        "colab": {
          "base_uri": "https://localhost:8080/",
          "height": 498
        },
        "id": "3JrUjr_BeqTz",
        "outputId": "48078f0b-d0b8-4afe-ebf3-2feefcdfc2ab"
      },
      "outputs": [
        {
          "data": {
            "image/png": "[encoded data removed]",
            "text/plain": [
              "<Figure size 432x288 with 1 Axes>"
            ]
          },
          "metadata": {
            "needs_background": "light"
          },
          "output_type": "display_data"
        }
      ],
      "source": [
        "df_maxdepth[\"score_train\"].plot(label=\"Train Score\")\n",
        "df_maxdepth[\"score_test\"].plot(label=\"Test Score\")\n",
        "plt.suptitle(\"R2: Overfitting vs Underfitting\")\n",
        "plt.xticks(range(1,16))\n",
        "plt.legend()\n",
        "plt.show();"
      ]
    },
    {
      "cell_type": "code",
      "execution_count": 46,
      "metadata": {},
      "outputs": [
        {
          "name": "stdout",
          "output_type": "stream",
          "text": [
            "Train score:  44.82%\n",
            "Test score:  43.96%\n"
          ]
        }
      ],
      "source": [
        "#AD with max_depth = 2:\n",
        "\n",
        "tree_model = DecisionTreeRegressor(random_state=0, max_depth=2)\n",
        "tree_model.fit(X_train, y_train)\n",
        "\n",
        "score_train = \"{:.2f}%\".format(tree_model.score(X_train, y_train)*100.00)\n",
        "score_test = \"{:.2f}%\".format(tree_model.score(X_test, y_test)*100.00)\n",
        "mse_train = \"{:.2f}\".format(mean_squared_error(y_train, tree_model.predict(X_train)))\n",
        "mse_test = \"{:.2f}\".format(mean_squared_error(y_test, tree_model.predict(X_test)))\n",
        "\n",
        "print(\"Train score: \",score_train)\n",
        "print(\"Test score: \",score_test)\n",
        "\n",
        "models_overview = pd.DataFrame([[\"Decission Tree\",score_train, score_test, mse_train, mse_test]],\\\n",
        "    columns=[\"Model\",\"Train Score\",\"Test Score\",\"MSE Train\", \"MSE Test\"])"
      ]
    },
    {
      "cell_type": "code",
      "execution_count": 47,
      "metadata": {},
      "outputs": [
        {
          "data": {
            "image/png": "[encoded data removed]",
            "text/plain": [
              "<Figure size 432x288 with 1 Axes>"
            ]
          },
          "metadata": {
            "needs_background": "light"
          },
          "output_type": "display_data"
        }
      ],
      "source": [
        "df_AD_imp = pd.DataFrame(tree_model.feature_importances_.reshape(1,-1), columns=X_train.columns, index=[\"Importancia de variable\"])\n",
        "df_AD_imp.T.plot.barh()\n",
        "plt.legend()\n",
        "plt.title(\"Features relative importance for the model\")\n",
        "plt.show()"
      ]
    },
    {
      "cell_type": "code",
      "execution_count": 48,
      "metadata": {},
      "outputs": [
        {
          "data": {
            "image/png": "[encoded data removed]",
            "text/plain": [
              "<Figure size 432x288 with 1 Axes>"
            ]
          },
          "metadata": {
            "needs_background": "light"
          },
          "output_type": "display_data"
        }
      ],
      "source": [
        "plot_tree(tree_model, filled=True, max_depth=10, feature_names=X_train.columns, class_names=[\"Y\"] , fontsize=10)\n",
        "plt.show()"
      ]
    },
    {
      "cell_type": "code",
      "execution_count": 49,
      "metadata": {
        "colab": {
          "base_uri": "https://localhost:8080/"
        },
        "id": "uJNLVVJq77x_",
        "outputId": "0a8b78b5-3985-41dc-9824-d766ef869484"
      },
      "outputs": [
        {
          "name": "stdout",
          "output_type": "stream",
          "text": [
            "Training Score: 99.96%\n",
            "Testing Score: 55.87%\n"
          ]
        }
      ],
      "source": [
        "from xgboost import XGBRegressor\n",
        "from sklearn.metrics import mean_absolute_error,mean_squared_error,r2_score\n",
        "\n",
        "xgb_model = XGBRegressor()\n",
        "xgb_model.fit(X_train, y_train)\n",
        "Y_pred = xgb_model.predict(X_test)\n",
        "score_train = xgb_model.score(X_train, y_train)\n",
        "score_train = \"{:.2f}%\".format(score_train*100)\n",
        "print('Training Score:', score_train)\n",
        "score_test = xgb_model.score(X_test, y_test)\n",
        "score_test = \"{:.2f}%\".format(score_test*100)\n",
        "print('Testing Score:',  score_test)\n",
        "output = pd.DataFrame({'Predicted':Y_pred})\n",
        "\n",
        "mse_train = \"{:.2f}\".format(mean_squared_error(y_train, xgb_model.predict(X_train)))\n",
        "mse_test = \"{:.2f}\".format(mean_squared_error(y_test, xgb_model.predict(X_test)))\n",
        "\n",
        "models_overview.loc[len(models_overview),:] = [\"XGBoost\", score_train,\\\n",
        "    score_test, mse_train, mse_test ]"
      ]
    },
    {
      "cell_type": "code",
      "execution_count": 50,
      "metadata": {},
      "outputs": [
        {
          "name": "stdout",
          "output_type": "stream",
          "text": [
            "Mean Absolute Error: 0.15\n",
            "Mean Squared Error: 0.04\n",
            "R-squared: 0.59\n",
            "Train score:  94.87%\n",
            "Test score:  58.81%\n"
          ]
        }
      ],
      "source": [
        "from sklearn.ensemble import RandomForestRegressor\n",
        "\n",
        "random_forest = RandomForestRegressor(n_estimators=1050)\n",
        "random_forest.fit(X_train, y_train)\n",
        "Y_pred = random_forest.predict(X_test)\n",
        "\n",
        "mae = mean_absolute_error(y_test.values.ravel(), Y_pred)\n",
        "mse_train = \"{:.2f}\".format(mean_squared_error(y_train.values.ravel(), random_forest.predict(X_train)))\n",
        "mse_test = \"{:.2f}\".format(mean_squared_error(y_test.values.ravel(), Y_pred))\n",
        "r2 = r2_score(y_test.values.ravel(), Y_pred)\n",
        "score_train = format(random_forest.score(X_train, y_train),'.2%')\n",
        "score_test = format(random_forest.score(X_test, y_test),'.2%')\n",
        "\n",
        "# Print metrics\n",
        "print('Mean Absolute Error:', round(mae, 2))\n",
        "print('Mean Squared Error:', mse_test)\n",
        "print('R-squared:', round(r2, 2))\n",
        "print('Train score: ', score_train)\n",
        "print('Test score: ', format(random_forest.score(X_test, y_test.values.ravel()),'.2%'))\n",
        "\n",
        "\n",
        "models_overview.loc[len(models_overview),:] = [\"Random Forest\", score_train,\\\n",
        "    score_test, mse_train, mse_test ]"
      ]
    },
    {
      "cell_type": "code",
      "execution_count": 51,
      "metadata": {},
      "outputs": [
        {
          "data": {
            "text/html": [
              "<div>\n",
              "<style scoped>\n",
              "    .dataframe tbody tr th:only-of-type {\n",
              "        vertical-align: middle;\n",
              "    }\n",
              "\n",
              "    .dataframe tbody tr th {\n",
              "        vertical-align: top;\n",
              "    }\n",
              "\n",
              "    .dataframe thead th {\n",
              "        text-align: right;\n",
              "    }\n",
              "</style>\n",
              "<table border=\"1\" class=\"dataframe\">\n",
              "  <thead>\n",
              "    <tr style=\"text-align: right;\">\n",
              "      <th></th>\n",
              "      <th>Model</th>\n",
              "      <th>Train Score</th>\n",
              "      <th>Test Score</th>\n",
              "      <th>MSE Train</th>\n",
              "      <th>MSE Test</th>\n",
              "    </tr>\n",
              "  </thead>\n",
              "  <tbody>\n",
              "    <tr>\n",
              "      <th>0</th>\n",
              "      <td>Decission Tree</td>\n",
              "      <td>44.82%</td>\n",
              "      <td>43.96%</td>\n",
              "      <td>0.05</td>\n",
              "      <td>0.05</td>\n",
              "    </tr>\n",
              "    <tr>\n",
              "      <th>1</th>\n",
              "      <td>XGBoost</td>\n",
              "      <td>99.96%</td>\n",
              "      <td>55.87%</td>\n",
              "      <td>0.00</td>\n",
              "      <td>0.04</td>\n",
              "    </tr>\n",
              "    <tr>\n",
              "      <th>2</th>\n",
              "      <td>Random Forest</td>\n",
              "      <td>94.87%</td>\n",
              "      <td>58.81%</td>\n",
              "      <td>0.00</td>\n",
              "      <td>0.04</td>\n",
              "    </tr>\n",
              "  </tbody>\n",
              "</table>\n",
              "</div>"
            ],
            "text/plain": [
              "            Model Train Score Test Score MSE Train MSE Test\n",
              "0  Decission Tree      44.82%     43.96%      0.05     0.05\n",
              "1         XGBoost      99.96%     55.87%      0.00     0.04\n",
              "2   Random Forest      94.87%     58.81%      0.00     0.04"
            ]
          },
          "execution_count": 51,
          "metadata": {},
          "output_type": "execute_result"
        }
      ],
      "source": [
        "models_overview"
      ]
    },
    {
      "attachments": {},
      "cell_type": "markdown",
      "metadata": {},
      "source": [
        "## Conclusions and prediction example"
      ]
    },
    {
      "attachments": {},
      "cell_type": "markdown",
      "metadata": {},
      "source": [
        "Out of the model overview, the model that has the best performance is the Random Forest regressor. Nonetheless, the score can be enhaced through further feature engineering and addition of new variables to the model. \n",
        "\n",
        "With the given model, I will:\n",
        "\n",
        "1) Create a function that performs all the feature engineering performed previously, so that the predictions can be performed more easily for new data points.\n",
        "\n",
        "2) Perform some prediction examples."
      ]
    },
    {
      "cell_type": "code",
      "execution_count": 60,
      "metadata": {},
      "outputs": [
        {
          "data": {
            "text/plain": [
              "array([7.88371429])"
            ]
          },
          "execution_count": 60,
          "metadata": {},
          "output_type": "execute_result"
        }
      ],
      "source": [
        "random_forest.predict(np.array(processed_final.loc[580,list(X_train.columns)]).reshape(1,-1))"
      ]
    },
    {
      "cell_type": "code",
      "execution_count": 63,
      "metadata": {},
      "outputs": [
        {
          "data": {
            "text/plain": [
              "Poster_Link        https://m.media-amazon.com/images/M/MV5BMTYxMj...\n",
              "Series_Title                                   Manchester by the Sea\n",
              "Released_Year                                                 2016.0\n",
              "Certificate                                                      2.0\n",
              "Runtime                                                          137\n",
              "Genre                                                          Drama\n",
              "IMDB_Rating                                                      7.8\n",
              "Overview           A depressed uncle is asked to take care of his...\n",
              "Meta_score                                                      96.0\n",
              "Director                                            Kenneth Lonergan\n",
              "Star1                                                  Casey Affleck\n",
              "Star2                                              Michelle Williams\n",
              "Star3                                                  Kyle Chandler\n",
              "Star4                                                   Lucas Hedges\n",
              "No_of_Votes                                                   246963\n",
              "Gross                                                     47695120.0\n",
              "Released_Decade                                               2010.0\n",
              "Gross_Log                                                   17.68034\n",
              "Name: 580, dtype: object"
            ]
          },
          "execution_count": 63,
          "metadata": {},
          "output_type": "execute_result"
        }
      ],
      "source": [
        "raw_df.loc[580,:]"
      ]
    }
  ],
  "metadata": {
    "colab": {
      "provenance": [],
      "toc_visible": true
    },
    "kernelspec": {
      "display_name": "Python 3",
      "name": "python3"
    },
    "language_info": {
      "codemirror_mode": {
        "name": "ipython",
        "version": 3
      },
      "file_extension": ".py",
      "mimetype": "text/x-python",
      "name": "python",
      "nbconvert_exporter": "python",
      "pygments_lexer": "ipython3",
      "version": "3.8.3"
    }
  },
  "nbformat": 4,
  "nbformat_minor": 0
}
