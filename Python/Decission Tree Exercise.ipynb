{
  "nbformat": 4,
  "nbformat_minor": 0,
  "metadata": {
    "colab": {
      "provenance": []
    },
    "kernelspec": {
      "name": "python3",
      "display_name": "Python 3"
    },
    "language_info": {
      "name": "python"
    }
  },
  "cells": [
    {
      "cell_type": "code",
      "execution_count": null,
      "metadata": {
        "id": "13gfIkqZGXLq"
      },
      "outputs": [],
      "source": [
        "import pandas as pd\n",
        "import numpy as np\n",
        "import matplotlib.pyplot as plt\n",
        "%matplotlib inline\n",
        "\n",
        "from sklearn.model_selection import train_test_split\n",
        "from sklearn import preprocessing\n",
        "from sklearn.preprocessing import StandardScaler\n",
        "from sklearn.neighbors import KNeighborsClassifier\n",
        "from sklearn.model_selection import cross_val_predict, cross_val_score\n",
        "from sklearn.metrics import confusion_matrix, plot_confusion_matrix\n"
      ]
    },
    {
      "cell_type": "code",
      "source": [
        "brain_df = pd.read_csv(\"https://raw.githubusercontent.com/rmarquez93/data_masterbdds2022/main/Act%202%20Modulo%206.csv\")\n",
        "brain_df"
      ],
      "metadata": {
        "colab": {
          "base_uri": "https://localhost:8080/",
          "height": 424
        },
        "id": "WRE37wtIHJOu",
        "outputId": "a24195be-0923-428e-a45f-bd0243d43859"
      },
      "execution_count": null,
      "outputs": [
        {
          "output_type": "execute_result",
          "data": {
            "text/plain": [
              "         id  gender   age  hypertension  heart_disease ever_married  \\\n",
              "0      9046    Male  67.0             0              1          Yes   \n",
              "1     51676  Female  61.0             0              0          Yes   \n",
              "2     31112    Male  80.0             0              1          Yes   \n",
              "3     60182  Female  49.0             0              0          Yes   \n",
              "4      1665  Female  79.0             1              0          Yes   \n",
              "...     ...     ...   ...           ...            ...          ...   \n",
              "5105  18234  Female  80.0             1              0          Yes   \n",
              "5106  44873  Female  81.0             0              0          Yes   \n",
              "5107  19723  Female  35.0             0              0          Yes   \n",
              "5108  37544    Male  51.0             0              0          Yes   \n",
              "5109  44679  Female  44.0             0              0          Yes   \n",
              "\n",
              "          work_type Residence_type  avg_glucose_level   bmi   smoking_status  \\\n",
              "0           Private          Urban             228.69  36.6  formerly smoked   \n",
              "1     Self-employed          Rural             202.21   NaN     never smoked   \n",
              "2           Private          Rural             105.92  32.5     never smoked   \n",
              "3           Private          Urban             171.23  34.4           smokes   \n",
              "4     Self-employed          Rural             174.12  24.0     never smoked   \n",
              "...             ...            ...                ...   ...              ...   \n",
              "5105        Private          Urban              83.75   NaN     never smoked   \n",
              "5106  Self-employed          Urban             125.20  40.0     never smoked   \n",
              "5107  Self-employed          Rural              82.99  30.6     never smoked   \n",
              "5108        Private          Rural             166.29  25.6  formerly smoked   \n",
              "5109       Govt_job          Urban              85.28  26.2          Unknown   \n",
              "\n",
              "      stroke  \n",
              "0          1  \n",
              "1          1  \n",
              "2          1  \n",
              "3          1  \n",
              "4          1  \n",
              "...      ...  \n",
              "5105       0  \n",
              "5106       0  \n",
              "5107       0  \n",
              "5108       0  \n",
              "5109       0  \n",
              "\n",
              "[5110 rows x 12 columns]"
            ],
            "text/html": [
              "\n",
              "  <div id=\"df-1e0d5036-bc59-464d-a925-34bf19d56eff\">\n",
              "    <div class=\"colab-df-container\">\n",
              "      <div>\n",
              "<style scoped>\n",
              "    .dataframe tbody tr th:only-of-type {\n",
              "        vertical-align: middle;\n",
              "    }\n",
              "\n",
              "    .dataframe tbody tr th {\n",
              "        vertical-align: top;\n",
              "    }\n",
              "\n",
              "    .dataframe thead th {\n",
              "        text-align: right;\n",
              "    }\n",
              "</style>\n",
              "<table border=\"1\" class=\"dataframe\">\n",
              "  <thead>\n",
              "    <tr style=\"text-align: right;\">\n",
              "      <th></th>\n",
              "      <th>id</th>\n",
              "      <th>gender</th>\n",
              "      <th>age</th>\n",
              "      <th>hypertension</th>\n",
              "      <th>heart_disease</th>\n",
              "      <th>ever_married</th>\n",
              "      <th>work_type</th>\n",
              "      <th>Residence_type</th>\n",
              "      <th>avg_glucose_level</th>\n",
              "      <th>bmi</th>\n",
              "      <th>smoking_status</th>\n",
              "      <th>stroke</th>\n",
              "    </tr>\n",
              "  </thead>\n",
              "  <tbody>\n",
              "    <tr>\n",
              "      <th>0</th>\n",
              "      <td>9046</td>\n",
              "      <td>Male</td>\n",
              "      <td>67.0</td>\n",
              "      <td>0</td>\n",
              "      <td>1</td>\n",
              "      <td>Yes</td>\n",
              "      <td>Private</td>\n",
              "      <td>Urban</td>\n",
              "      <td>228.69</td>\n",
              "      <td>36.6</td>\n",
              "      <td>formerly smoked</td>\n",
              "      <td>1</td>\n",
              "    </tr>\n",
              "    <tr>\n",
              "      <th>1</th>\n",
              "      <td>51676</td>\n",
              "      <td>Female</td>\n",
              "      <td>61.0</td>\n",
              "      <td>0</td>\n",
              "      <td>0</td>\n",
              "      <td>Yes</td>\n",
              "      <td>Self-employed</td>\n",
              "      <td>Rural</td>\n",
              "      <td>202.21</td>\n",
              "      <td>NaN</td>\n",
              "      <td>never smoked</td>\n",
              "      <td>1</td>\n",
              "    </tr>\n",
              "    <tr>\n",
              "      <th>2</th>\n",
              "      <td>31112</td>\n",
              "      <td>Male</td>\n",
              "      <td>80.0</td>\n",
              "      <td>0</td>\n",
              "      <td>1</td>\n",
              "      <td>Yes</td>\n",
              "      <td>Private</td>\n",
              "      <td>Rural</td>\n",
              "      <td>105.92</td>\n",
              "      <td>32.5</td>\n",
              "      <td>never smoked</td>\n",
              "      <td>1</td>\n",
              "    </tr>\n",
              "    <tr>\n",
              "      <th>3</th>\n",
              "      <td>60182</td>\n",
              "      <td>Female</td>\n",
              "      <td>49.0</td>\n",
              "      <td>0</td>\n",
              "      <td>0</td>\n",
              "      <td>Yes</td>\n",
              "      <td>Private</td>\n",
              "      <td>Urban</td>\n",
              "      <td>171.23</td>\n",
              "      <td>34.4</td>\n",
              "      <td>smokes</td>\n",
              "      <td>1</td>\n",
              "    </tr>\n",
              "    <tr>\n",
              "      <th>4</th>\n",
              "      <td>1665</td>\n",
              "      <td>Female</td>\n",
              "      <td>79.0</td>\n",
              "      <td>1</td>\n",
              "      <td>0</td>\n",
              "      <td>Yes</td>\n",
              "      <td>Self-employed</td>\n",
              "      <td>Rural</td>\n",
              "      <td>174.12</td>\n",
              "      <td>24.0</td>\n",
              "      <td>never smoked</td>\n",
              "      <td>1</td>\n",
              "    </tr>\n",
              "    <tr>\n",
              "      <th>...</th>\n",
              "      <td>...</td>\n",
              "      <td>...</td>\n",
              "      <td>...</td>\n",
              "      <td>...</td>\n",
              "      <td>...</td>\n",
              "      <td>...</td>\n",
              "      <td>...</td>\n",
              "      <td>...</td>\n",
              "      <td>...</td>\n",
              "      <td>...</td>\n",
              "      <td>...</td>\n",
              "      <td>...</td>\n",
              "    </tr>\n",
              "    <tr>\n",
              "      <th>5105</th>\n",
              "      <td>18234</td>\n",
              "      <td>Female</td>\n",
              "      <td>80.0</td>\n",
              "      <td>1</td>\n",
              "      <td>0</td>\n",
              "      <td>Yes</td>\n",
              "      <td>Private</td>\n",
              "      <td>Urban</td>\n",
              "      <td>83.75</td>\n",
              "      <td>NaN</td>\n",
              "      <td>never smoked</td>\n",
              "      <td>0</td>\n",
              "    </tr>\n",
              "    <tr>\n",
              "      <th>5106</th>\n",
              "      <td>44873</td>\n",
              "      <td>Female</td>\n",
              "      <td>81.0</td>\n",
              "      <td>0</td>\n",
              "      <td>0</td>\n",
              "      <td>Yes</td>\n",
              "      <td>Self-employed</td>\n",
              "      <td>Urban</td>\n",
              "      <td>125.20</td>\n",
              "      <td>40.0</td>\n",
              "      <td>never smoked</td>\n",
              "      <td>0</td>\n",
              "    </tr>\n",
              "    <tr>\n",
              "      <th>5107</th>\n",
              "      <td>19723</td>\n",
              "      <td>Female</td>\n",
              "      <td>35.0</td>\n",
              "      <td>0</td>\n",
              "      <td>0</td>\n",
              "      <td>Yes</td>\n",
              "      <td>Self-employed</td>\n",
              "      <td>Rural</td>\n",
              "      <td>82.99</td>\n",
              "      <td>30.6</td>\n",
              "      <td>never smoked</td>\n",
              "      <td>0</td>\n",
              "    </tr>\n",
              "    <tr>\n",
              "      <th>5108</th>\n",
              "      <td>37544</td>\n",
              "      <td>Male</td>\n",
              "      <td>51.0</td>\n",
              "      <td>0</td>\n",
              "      <td>0</td>\n",
              "      <td>Yes</td>\n",
              "      <td>Private</td>\n",
              "      <td>Rural</td>\n",
              "      <td>166.29</td>\n",
              "      <td>25.6</td>\n",
              "      <td>formerly smoked</td>\n",
              "      <td>0</td>\n",
              "    </tr>\n",
              "    <tr>\n",
              "      <th>5109</th>\n",
              "      <td>44679</td>\n",
              "      <td>Female</td>\n",
              "      <td>44.0</td>\n",
              "      <td>0</td>\n",
              "      <td>0</td>\n",
              "      <td>Yes</td>\n",
              "      <td>Govt_job</td>\n",
              "      <td>Urban</td>\n",
              "      <td>85.28</td>\n",
              "      <td>26.2</td>\n",
              "      <td>Unknown</td>\n",
              "      <td>0</td>\n",
              "    </tr>\n",
              "  </tbody>\n",
              "</table>\n",
              "<p>5110 rows × 12 columns</p>\n",
              "</div>\n",
              "      <button class=\"colab-df-convert\" onclick=\"convertToInteractive('df-1e0d5036-bc59-464d-a925-34bf19d56eff')\"\n",
              "              title=\"Convert this dataframe to an interactive table.\"\n",
              "              style=\"display:none;\">\n",
              "        \n",
              "  <svg xmlns=\"http://www.w3.org/2000/svg\" height=\"24px\"viewBox=\"0 0 24 24\"\n",
              "       width=\"24px\">\n",
              "    <path d=\"M0 0h24v24H0V0z\" fill=\"none\"/>\n",
              "    <path d=\"M18.56 5.44l.94 2.06.94-2.06 2.06-.94-2.06-.94-.94-2.06-.94 2.06-2.06.94zm-11 1L8.5 8.5l.94-2.06 2.06-.94-2.06-.94L8.5 2.5l-.94 2.06-2.06.94zm10 10l.94 2.06.94-2.06 2.06-.94-2.06-.94-.94-2.06-.94 2.06-2.06.94z\"/><path d=\"M17.41 7.96l-1.37-1.37c-.4-.4-.92-.59-1.43-.59-.52 0-1.04.2-1.43.59L10.3 9.45l-7.72 7.72c-.78.78-.78 2.05 0 2.83L4 21.41c.39.39.9.59 1.41.59.51 0 1.02-.2 1.41-.59l7.78-7.78 2.81-2.81c.8-.78.8-2.07 0-2.86zM5.41 20L4 18.59l7.72-7.72 1.47 1.35L5.41 20z\"/>\n",
              "  </svg>\n",
              "      </button>\n",
              "      \n",
              "  <style>\n",
              "    .colab-df-container {\n",
              "      display:flex;\n",
              "      flex-wrap:wrap;\n",
              "      gap: 12px;\n",
              "    }\n",
              "\n",
              "    .colab-df-convert {\n",
              "      background-color: #E8F0FE;\n",
              "      border: none;\n",
              "      border-radius: 50%;\n",
              "      cursor: pointer;\n",
              "      display: none;\n",
              "      fill: #1967D2;\n",
              "      height: 32px;\n",
              "      padding: 0 0 0 0;\n",
              "      width: 32px;\n",
              "    }\n",
              "\n",
              "    .colab-df-convert:hover {\n",
              "      background-color: #E2EBFA;\n",
              "      box-shadow: 0px 1px 2px rgba(60, 64, 67, 0.3), 0px 1px 3px 1px rgba(60, 64, 67, 0.15);\n",
              "      fill: #174EA6;\n",
              "    }\n",
              "\n",
              "    [theme=dark] .colab-df-convert {\n",
              "      background-color: #3B4455;\n",
              "      fill: #D2E3FC;\n",
              "    }\n",
              "\n",
              "    [theme=dark] .colab-df-convert:hover {\n",
              "      background-color: #434B5C;\n",
              "      box-shadow: 0px 1px 3px 1px rgba(0, 0, 0, 0.15);\n",
              "      filter: drop-shadow(0px 1px 2px rgba(0, 0, 0, 0.3));\n",
              "      fill: #FFFFFF;\n",
              "    }\n",
              "  </style>\n",
              "\n",
              "      <script>\n",
              "        const buttonEl =\n",
              "          document.querySelector('#df-1e0d5036-bc59-464d-a925-34bf19d56eff button.colab-df-convert');\n",
              "        buttonEl.style.display =\n",
              "          google.colab.kernel.accessAllowed ? 'block' : 'none';\n",
              "\n",
              "        async function convertToInteractive(key) {\n",
              "          const element = document.querySelector('#df-1e0d5036-bc59-464d-a925-34bf19d56eff');\n",
              "          const dataTable =\n",
              "            await google.colab.kernel.invokeFunction('convertToInteractive',\n",
              "                                                     [key], {});\n",
              "          if (!dataTable) return;\n",
              "\n",
              "          const docLinkHtml = 'Like what you see? Visit the ' +\n",
              "            '<a target=\"_blank\" href=https://colab.research.google.com/notebooks/data_table.ipynb>data table notebook</a>'\n",
              "            + ' to learn more about interactive tables.';\n",
              "          element.innerHTML = '';\n",
              "          dataTable['output_type'] = 'display_data';\n",
              "          await google.colab.output.renderOutput(dataTable, element);\n",
              "          const docLink = document.createElement('div');\n",
              "          docLink.innerHTML = docLinkHtml;\n",
              "          element.appendChild(docLink);\n",
              "        }\n",
              "      </script>\n",
              "    </div>\n",
              "  </div>\n",
              "  "
            ]
          },
          "metadata": {},
          "execution_count": 2
        }
      ]
    },
    {
      "cell_type": "markdown",
      "source": [
        "Para la transformación de las variables utilizo el label encoder principalmente para no generar variables dummies. El motivo de esto es que, para completar los valores faltantes de smoking status, no quiero generar tantas variabels como categorías-1 haya sino que quiero utilizar solamente una variable categórica con los distintos tipos de posibilidades.\n",
        "\n",
        "A pesar de lo anterior, label encoder no es la opción ideal ya que no se tratan de variables categóricas ordinales, sino nominales."
      ],
      "metadata": {
        "id": "Ogv2qO_K5l_T"
      }
    },
    {
      "cell_type": "code",
      "source": [
        "for i in [\"gender\", \"ever_married\", \"work_type\", \"Residence_type\"]:\n",
        "  brain_df[i] = preprocessing.LabelEncoder().fit_transform(brain_df[i])\n",
        "\n",
        "brain_df.head()\n",
        "\n",
        "#Elimino nulos de BMI\n",
        "\n",
        "brain_df.dropna(subset=['bmi'], inplace = True)\n",
        "brain_df.reset_index(inplace = True)"
      ],
      "metadata": {
        "id": "r3VUXs0lMACD"
      },
      "execution_count": null,
      "outputs": []
    },
    {
      "cell_type": "code",
      "source": [
        "brain_df"
      ],
      "metadata": {
        "colab": {
          "base_uri": "https://localhost:8080/",
          "height": 424
        },
        "id": "Ri2YAKsGrX4g",
        "outputId": "7b6f07ce-412b-4a27-c37a-50c816772f05"
      },
      "execution_count": null,
      "outputs": [
        {
          "output_type": "execute_result",
          "data": {
            "text/plain": [
              "      index     id  gender   age  hypertension  heart_disease  ever_married  \\\n",
              "0         0   9046       1  67.0             0              1             1   \n",
              "1         2  31112       1  80.0             0              1             1   \n",
              "2         3  60182       0  49.0             0              0             1   \n",
              "3         4   1665       0  79.0             1              0             1   \n",
              "4         5  56669       1  81.0             0              0             1   \n",
              "...     ...    ...     ...   ...           ...            ...           ...   \n",
              "4904   5104  14180       0  13.0             0              0             0   \n",
              "4905   5106  44873       0  81.0             0              0             1   \n",
              "4906   5107  19723       0  35.0             0              0             1   \n",
              "4907   5108  37544       1  51.0             0              0             1   \n",
              "4908   5109  44679       0  44.0             0              0             1   \n",
              "\n",
              "      work_type  Residence_type  avg_glucose_level   bmi   smoking_status  \\\n",
              "0             2               1             228.69  36.6  formerly smoked   \n",
              "1             2               0             105.92  32.5     never smoked   \n",
              "2             2               1             171.23  34.4           smokes   \n",
              "3             3               0             174.12  24.0     never smoked   \n",
              "4             2               1             186.21  29.0  formerly smoked   \n",
              "...         ...             ...                ...   ...              ...   \n",
              "4904          4               0             103.08  18.6          Unknown   \n",
              "4905          3               1             125.20  40.0     never smoked   \n",
              "4906          3               0              82.99  30.6     never smoked   \n",
              "4907          2               0             166.29  25.6  formerly smoked   \n",
              "4908          0               1              85.28  26.2          Unknown   \n",
              "\n",
              "      stroke  \n",
              "0          1  \n",
              "1          1  \n",
              "2          1  \n",
              "3          1  \n",
              "4          1  \n",
              "...      ...  \n",
              "4904       0  \n",
              "4905       0  \n",
              "4906       0  \n",
              "4907       0  \n",
              "4908       0  \n",
              "\n",
              "[4909 rows x 13 columns]"
            ],
            "text/html": [
              "\n",
              "  <div id=\"df-13a708e7-543c-47ab-ae62-88c0f9421d64\">\n",
              "    <div class=\"colab-df-container\">\n",
              "      <div>\n",
              "<style scoped>\n",
              "    .dataframe tbody tr th:only-of-type {\n",
              "        vertical-align: middle;\n",
              "    }\n",
              "\n",
              "    .dataframe tbody tr th {\n",
              "        vertical-align: top;\n",
              "    }\n",
              "\n",
              "    .dataframe thead th {\n",
              "        text-align: right;\n",
              "    }\n",
              "</style>\n",
              "<table border=\"1\" class=\"dataframe\">\n",
              "  <thead>\n",
              "    <tr style=\"text-align: right;\">\n",
              "      <th></th>\n",
              "      <th>index</th>\n",
              "      <th>id</th>\n",
              "      <th>gender</th>\n",
              "      <th>age</th>\n",
              "      <th>hypertension</th>\n",
              "      <th>heart_disease</th>\n",
              "      <th>ever_married</th>\n",
              "      <th>work_type</th>\n",
              "      <th>Residence_type</th>\n",
              "      <th>avg_glucose_level</th>\n",
              "      <th>bmi</th>\n",
              "      <th>smoking_status</th>\n",
              "      <th>stroke</th>\n",
              "    </tr>\n",
              "  </thead>\n",
              "  <tbody>\n",
              "    <tr>\n",
              "      <th>0</th>\n",
              "      <td>0</td>\n",
              "      <td>9046</td>\n",
              "      <td>1</td>\n",
              "      <td>67.0</td>\n",
              "      <td>0</td>\n",
              "      <td>1</td>\n",
              "      <td>1</td>\n",
              "      <td>2</td>\n",
              "      <td>1</td>\n",
              "      <td>228.69</td>\n",
              "      <td>36.6</td>\n",
              "      <td>formerly smoked</td>\n",
              "      <td>1</td>\n",
              "    </tr>\n",
              "    <tr>\n",
              "      <th>1</th>\n",
              "      <td>2</td>\n",
              "      <td>31112</td>\n",
              "      <td>1</td>\n",
              "      <td>80.0</td>\n",
              "      <td>0</td>\n",
              "      <td>1</td>\n",
              "      <td>1</td>\n",
              "      <td>2</td>\n",
              "      <td>0</td>\n",
              "      <td>105.92</td>\n",
              "      <td>32.5</td>\n",
              "      <td>never smoked</td>\n",
              "      <td>1</td>\n",
              "    </tr>\n",
              "    <tr>\n",
              "      <th>2</th>\n",
              "      <td>3</td>\n",
              "      <td>60182</td>\n",
              "      <td>0</td>\n",
              "      <td>49.0</td>\n",
              "      <td>0</td>\n",
              "      <td>0</td>\n",
              "      <td>1</td>\n",
              "      <td>2</td>\n",
              "      <td>1</td>\n",
              "      <td>171.23</td>\n",
              "      <td>34.4</td>\n",
              "      <td>smokes</td>\n",
              "      <td>1</td>\n",
              "    </tr>\n",
              "    <tr>\n",
              "      <th>3</th>\n",
              "      <td>4</td>\n",
              "      <td>1665</td>\n",
              "      <td>0</td>\n",
              "      <td>79.0</td>\n",
              "      <td>1</td>\n",
              "      <td>0</td>\n",
              "      <td>1</td>\n",
              "      <td>3</td>\n",
              "      <td>0</td>\n",
              "      <td>174.12</td>\n",
              "      <td>24.0</td>\n",
              "      <td>never smoked</td>\n",
              "      <td>1</td>\n",
              "    </tr>\n",
              "    <tr>\n",
              "      <th>4</th>\n",
              "      <td>5</td>\n",
              "      <td>56669</td>\n",
              "      <td>1</td>\n",
              "      <td>81.0</td>\n",
              "      <td>0</td>\n",
              "      <td>0</td>\n",
              "      <td>1</td>\n",
              "      <td>2</td>\n",
              "      <td>1</td>\n",
              "      <td>186.21</td>\n",
              "      <td>29.0</td>\n",
              "      <td>formerly smoked</td>\n",
              "      <td>1</td>\n",
              "    </tr>\n",
              "    <tr>\n",
              "      <th>...</th>\n",
              "      <td>...</td>\n",
              "      <td>...</td>\n",
              "      <td>...</td>\n",
              "      <td>...</td>\n",
              "      <td>...</td>\n",
              "      <td>...</td>\n",
              "      <td>...</td>\n",
              "      <td>...</td>\n",
              "      <td>...</td>\n",
              "      <td>...</td>\n",
              "      <td>...</td>\n",
              "      <td>...</td>\n",
              "      <td>...</td>\n",
              "    </tr>\n",
              "    <tr>\n",
              "      <th>4904</th>\n",
              "      <td>5104</td>\n",
              "      <td>14180</td>\n",
              "      <td>0</td>\n",
              "      <td>13.0</td>\n",
              "      <td>0</td>\n",
              "      <td>0</td>\n",
              "      <td>0</td>\n",
              "      <td>4</td>\n",
              "      <td>0</td>\n",
              "      <td>103.08</td>\n",
              "      <td>18.6</td>\n",
              "      <td>Unknown</td>\n",
              "      <td>0</td>\n",
              "    </tr>\n",
              "    <tr>\n",
              "      <th>4905</th>\n",
              "      <td>5106</td>\n",
              "      <td>44873</td>\n",
              "      <td>0</td>\n",
              "      <td>81.0</td>\n",
              "      <td>0</td>\n",
              "      <td>0</td>\n",
              "      <td>1</td>\n",
              "      <td>3</td>\n",
              "      <td>1</td>\n",
              "      <td>125.20</td>\n",
              "      <td>40.0</td>\n",
              "      <td>never smoked</td>\n",
              "      <td>0</td>\n",
              "    </tr>\n",
              "    <tr>\n",
              "      <th>4906</th>\n",
              "      <td>5107</td>\n",
              "      <td>19723</td>\n",
              "      <td>0</td>\n",
              "      <td>35.0</td>\n",
              "      <td>0</td>\n",
              "      <td>0</td>\n",
              "      <td>1</td>\n",
              "      <td>3</td>\n",
              "      <td>0</td>\n",
              "      <td>82.99</td>\n",
              "      <td>30.6</td>\n",
              "      <td>never smoked</td>\n",
              "      <td>0</td>\n",
              "    </tr>\n",
              "    <tr>\n",
              "      <th>4907</th>\n",
              "      <td>5108</td>\n",
              "      <td>37544</td>\n",
              "      <td>1</td>\n",
              "      <td>51.0</td>\n",
              "      <td>0</td>\n",
              "      <td>0</td>\n",
              "      <td>1</td>\n",
              "      <td>2</td>\n",
              "      <td>0</td>\n",
              "      <td>166.29</td>\n",
              "      <td>25.6</td>\n",
              "      <td>formerly smoked</td>\n",
              "      <td>0</td>\n",
              "    </tr>\n",
              "    <tr>\n",
              "      <th>4908</th>\n",
              "      <td>5109</td>\n",
              "      <td>44679</td>\n",
              "      <td>0</td>\n",
              "      <td>44.0</td>\n",
              "      <td>0</td>\n",
              "      <td>0</td>\n",
              "      <td>1</td>\n",
              "      <td>0</td>\n",
              "      <td>1</td>\n",
              "      <td>85.28</td>\n",
              "      <td>26.2</td>\n",
              "      <td>Unknown</td>\n",
              "      <td>0</td>\n",
              "    </tr>\n",
              "  </tbody>\n",
              "</table>\n",
              "<p>4909 rows × 13 columns</p>\n",
              "</div>\n",
              "      <button class=\"colab-df-convert\" onclick=\"convertToInteractive('df-13a708e7-543c-47ab-ae62-88c0f9421d64')\"\n",
              "              title=\"Convert this dataframe to an interactive table.\"\n",
              "              style=\"display:none;\">\n",
              "        \n",
              "  <svg xmlns=\"http://www.w3.org/2000/svg\" height=\"24px\"viewBox=\"0 0 24 24\"\n",
              "       width=\"24px\">\n",
              "    <path d=\"M0 0h24v24H0V0z\" fill=\"none\"/>\n",
              "    <path d=\"M18.56 5.44l.94 2.06.94-2.06 2.06-.94-2.06-.94-.94-2.06-.94 2.06-2.06.94zm-11 1L8.5 8.5l.94-2.06 2.06-.94-2.06-.94L8.5 2.5l-.94 2.06-2.06.94zm10 10l.94 2.06.94-2.06 2.06-.94-2.06-.94-.94-2.06-.94 2.06-2.06.94z\"/><path d=\"M17.41 7.96l-1.37-1.37c-.4-.4-.92-.59-1.43-.59-.52 0-1.04.2-1.43.59L10.3 9.45l-7.72 7.72c-.78.78-.78 2.05 0 2.83L4 21.41c.39.39.9.59 1.41.59.51 0 1.02-.2 1.41-.59l7.78-7.78 2.81-2.81c.8-.78.8-2.07 0-2.86zM5.41 20L4 18.59l7.72-7.72 1.47 1.35L5.41 20z\"/>\n",
              "  </svg>\n",
              "      </button>\n",
              "      \n",
              "  <style>\n",
              "    .colab-df-container {\n",
              "      display:flex;\n",
              "      flex-wrap:wrap;\n",
              "      gap: 12px;\n",
              "    }\n",
              "\n",
              "    .colab-df-convert {\n",
              "      background-color: #E8F0FE;\n",
              "      border: none;\n",
              "      border-radius: 50%;\n",
              "      cursor: pointer;\n",
              "      display: none;\n",
              "      fill: #1967D2;\n",
              "      height: 32px;\n",
              "      padding: 0 0 0 0;\n",
              "      width: 32px;\n",
              "    }\n",
              "\n",
              "    .colab-df-convert:hover {\n",
              "      background-color: #E2EBFA;\n",
              "      box-shadow: 0px 1px 2px rgba(60, 64, 67, 0.3), 0px 1px 3px 1px rgba(60, 64, 67, 0.15);\n",
              "      fill: #174EA6;\n",
              "    }\n",
              "\n",
              "    [theme=dark] .colab-df-convert {\n",
              "      background-color: #3B4455;\n",
              "      fill: #D2E3FC;\n",
              "    }\n",
              "\n",
              "    [theme=dark] .colab-df-convert:hover {\n",
              "      background-color: #434B5C;\n",
              "      box-shadow: 0px 1px 3px 1px rgba(0, 0, 0, 0.15);\n",
              "      filter: drop-shadow(0px 1px 2px rgba(0, 0, 0, 0.3));\n",
              "      fill: #FFFFFF;\n",
              "    }\n",
              "  </style>\n",
              "\n",
              "      <script>\n",
              "        const buttonEl =\n",
              "          document.querySelector('#df-13a708e7-543c-47ab-ae62-88c0f9421d64 button.colab-df-convert');\n",
              "        buttonEl.style.display =\n",
              "          google.colab.kernel.accessAllowed ? 'block' : 'none';\n",
              "\n",
              "        async function convertToInteractive(key) {\n",
              "          const element = document.querySelector('#df-13a708e7-543c-47ab-ae62-88c0f9421d64');\n",
              "          const dataTable =\n",
              "            await google.colab.kernel.invokeFunction('convertToInteractive',\n",
              "                                                     [key], {});\n",
              "          if (!dataTable) return;\n",
              "\n",
              "          const docLinkHtml = 'Like what you see? Visit the ' +\n",
              "            '<a target=\"_blank\" href=https://colab.research.google.com/notebooks/data_table.ipynb>data table notebook</a>'\n",
              "            + ' to learn more about interactive tables.';\n",
              "          element.innerHTML = '';\n",
              "          dataTable['output_type'] = 'display_data';\n",
              "          await google.colab.output.renderOutput(dataTable, element);\n",
              "          const docLink = document.createElement('div');\n",
              "          docLink.innerHTML = docLinkHtml;\n",
              "          element.appendChild(docLink);\n",
              "        }\n",
              "      </script>\n",
              "    </div>\n",
              "  </div>\n",
              "  "
            ]
          },
          "metadata": {},
          "execution_count": 4
        }
      ]
    },
    {
      "cell_type": "markdown",
      "source": [
        "Para el caso específico del smoking_status genero un encoding por separado para poder tener un mapeo que me indique cual número corresponde al status \"unknown\" y asi eliminarlo del subset posteriormente."
      ],
      "metadata": {
        "id": "XcjcAhnpxxX8"
      }
    },
    {
      "cell_type": "code",
      "source": [
        "le = preprocessing.LabelEncoder()\n",
        "brain_df[\"smoking_status\"] = le.fit_transform(brain_df[\"smoking_status\"])\n",
        "mapping = dict(zip(le.classes_, range(len(le.classes_))))\n",
        "\n",
        "mapping"
      ],
      "metadata": {
        "colab": {
          "base_uri": "https://localhost:8080/"
        },
        "id": "y-LrL6XNQQBA",
        "outputId": "9f346e32-3084-459d-aaac-43d423a54d71"
      },
      "execution_count": null,
      "outputs": [
        {
          "output_type": "execute_result",
          "data": {
            "text/plain": [
              "{'Unknown': 0, 'formerly smoked': 1, 'never smoked': 2, 'smokes': 3}"
            ]
          },
          "metadata": {},
          "execution_count": 5
        }
      ]
    },
    {
      "cell_type": "markdown",
      "source": [
        "Para la imputación de valores faltantes para el status de fumador, decido generar un árbol de decisión que clasifique su status en función del resto de las variables presentes en el dataset."
      ],
      "metadata": {
        "id": "Ufa4QNPVLk-T"
      }
    },
    {
      "cell_type": "code",
      "source": [
        "from sklearn.tree import plot_tree\n",
        "from sklearn.metrics import mean_absolute_error, mean_squared_error, r2_score\n",
        "from sklearn.tree import DecisionTreeClassifier\n",
        "\n",
        "#Genero data frame sin smoking status = Unknown. Para el modelo no tomo la variable stroke como predictora ya que generaría\n",
        "# una correlación que quiero evitar para generar el KNN\n",
        "\n",
        "smoking_df = brain_df.drop(brain_df.loc[brain_df['smoking_status']==0].index, inplace=False)\n",
        "\n",
        "X_train, X_test, y_train, y_test = train_test_split(smoking_df[[\"gender\",\"age\",\"hypertension\",\n",
        "                                                                \"heart_disease\",\"ever_married\",\n",
        "                                                                \"work_type\",\"Residence_type\",\n",
        "                                                                \"avg_glucose_level\"]], smoking_df['smoking_status'],\n",
        "                                                    stratify = smoking_df['smoking_status'],\n",
        "                                                    random_state=42, test_size=0.3 )\n",
        "print (X_train.shape, y_train.shape)\n",
        "print (X_test.shape, y_test.shape)"
      ],
      "metadata": {
        "id": "7QDZzhjJIMsl",
        "colab": {
          "base_uri": "https://localhost:8080/"
        },
        "outputId": "307b4211-e836-483c-b572-54b3b62600db"
      },
      "execution_count": null,
      "outputs": [
        {
          "output_type": "stream",
          "name": "stdout",
          "text": [
            "(2398, 8) (2398,)\n",
            "(1028, 8) (1028,)\n"
          ]
        }
      ]
    },
    {
      "cell_type": "code",
      "source": [
        "md_list = []\n",
        "score_train_list = []\n",
        "score_test_list = []\n",
        "\n",
        "for maxdepth in list(range(1,10)):\n",
        "  tree_model = DecisionTreeClassifier(random_state=0, max_depth=maxdepth)\n",
        "  tree_model.fit(X_train, y_train)\n",
        "\n",
        "  ## Generación de listas\n",
        "  md_list.append(maxdepth)\n",
        "  score_train_list.append(100.0*tree_model.score(X_train, y_train))\n",
        "  score_test_list.append(100.0*tree_model.score(X_test, y_test))\n",
        "\n",
        "df = pd.DataFrame({\"max_depth\":md_list,\n",
        "                   \"score_train\":score_train_list,\n",
        "                   \"score_test\":score_test_list})\n",
        "\n",
        "df.set_index(\"max_depth\", inplace=True)\n",
        "df[\"score_train\"].plot(label=\"Train Score\")\n",
        "df[\"score_test\"].plot(label=\"Test Score\")\n",
        "plt.suptitle(\"Overfitting vs Underfitting\")\n",
        "plt.legend()\n",
        "plt.show();"
      ],
      "metadata": {
        "colab": {
          "base_uri": "https://localhost:8080/",
          "height": 309
        },
        "id": "dGVr_XXQOUiM",
        "outputId": "4e87f6f0-c36f-4586-e3b4-9c85753abfc5"
      },
      "execution_count": null,
      "outputs": [
        {
          "output_type": "display_data",
          "data": {
            "text/plain": [
              "<Figure size 432x288 with 1 Axes>"
            ],
            "image/png": "[encoded data removed]"
          },
          "metadata": {
            "needs_background": "light"
          }
        }
      ]
    },
    {
      "cell_type": "markdown",
      "source": [
        "A raíz del gráfico superior, decido utilizar un max_depth = 4."
      ],
      "metadata": {
        "id": "ur8stoo4yTuW"
      }
    },
    {
      "cell_type": "code",
      "source": [
        "tree_model = DecisionTreeClassifier(random_state=0, max_depth=4)\n",
        "tree_model.fit(X_train, y_train)\n",
        "pred_train = tree_model.predict(X_train)\n",
        "pred_test = tree_model.predict(X_test)\n",
        "print(\"Precisión sobre los datos de entrenamiento: {:.2f}\".format(100.0*tree_model.score(X_train, y_train)))\n",
        "print(\"Precisión sobre los datos de test: {:.2f}\".format(100.0*tree_model.score(X_test, y_test)))"
      ],
      "metadata": {
        "colab": {
          "base_uri": "https://localhost:8080/"
        },
        "id": "Vp7I8mPmRlUZ",
        "outputId": "15851b53-9005-44e3-d41b-84dd48244f13"
      },
      "execution_count": null,
      "outputs": [
        {
          "output_type": "stream",
          "name": "stdout",
          "text": [
            "Precisión sobre los datos de entrenamiento: 55.34\n",
            "Precisión sobre los datos de test: 53.99\n"
          ]
        }
      ]
    },
    {
      "cell_type": "markdown",
      "source": [
        "Una vez generado el árbol de decisión, predigo los valores de smoking status para aquellos casos donde el smoking status es unknown y creo un array con dicha información.\n",
        "\n",
        "A partir de lo anterior, reemplazo los valores \"unknown\" con los datos predichos."
      ],
      "metadata": {
        "id": "Qa_fL0pgyfe5"
      }
    },
    {
      "cell_type": "code",
      "source": [
        "smoking_array = tree_model.predict(\n",
        "                                  brain_df.loc[brain_df[\"smoking_status\"]== 0,\n",
        "                                               [\"gender\",\"age\",\"hypertension\",\n",
        "                                                \"heart_disease\",\"ever_married\",\n",
        "                                                \"work_type\",\"Residence_type\",\n",
        "                                                \"avg_glucose_level\"]])\n",
        "\n",
        "len(smoking_array)"
      ],
      "metadata": {
        "colab": {
          "base_uri": "https://localhost:8080/"
        },
        "id": "8ZGjdUaiSTVL",
        "outputId": "73868e8a-aeac-4f87-8919-ceafd7ccfceb"
      },
      "execution_count": null,
      "outputs": [
        {
          "output_type": "execute_result",
          "data": {
            "text/plain": [
              "1483"
            ]
          },
          "metadata": {},
          "execution_count": 9
        }
      ]
    },
    {
      "cell_type": "code",
      "source": [
        "brain_df.loc[brain_df[\"smoking_status\"]==0,\"smoking_status\"] = smoking_array"
      ],
      "metadata": {
        "id": "WiAcqT_1SpCN"
      },
      "execution_count": null,
      "outputs": []
    },
    {
      "cell_type": "markdown",
      "source": [
        "A partir de la generación del árbol de decisión y de la predicción del status de fumador, se sustituye el dataframe donde dicha condición es \"unknown\" (valor = 0) con los valores que dicho modelo arroja.\n",
        "\n",
        "Como se puede notar debajo, ya no habrán valores unknown."
      ],
      "metadata": {
        "id": "x7_5p7_uUM_b"
      }
    },
    {
      "cell_type": "code",
      "source": [
        "brain_df[\"smoking_status\"].unique()"
      ],
      "metadata": {
        "colab": {
          "base_uri": "https://localhost:8080/"
        },
        "id": "XyP8j13hUDWB",
        "outputId": "c52b9441-fab4-4f63-86e1-90ed7984baa6"
      },
      "execution_count": null,
      "outputs": [
        {
          "output_type": "execute_result",
          "data": {
            "text/plain": [
              "array([1, 2, 3])"
            ]
          },
          "metadata": {},
          "execution_count": 11
        }
      ]
    },
    {
      "cell_type": "code",
      "source": [
        "#Escalado de variables\n",
        "\n",
        "scaler = StandardScaler()\n",
        "scaled = scaler.fit(brain_df.iloc[:,0:-1]).transform(brain_df.iloc[:,0:-1])\n",
        "dfs = pd.DataFrame(scaled, columns=brain_df.columns[:-1])\n",
        "dfs = pd.concat([dfs, brain_df[\"stroke\"]], axis=1)\n",
        "dfs\n"
      ],
      "metadata": {
        "colab": {
          "base_uri": "https://localhost:8080/",
          "height": 488
        },
        "id": "wgdHWn2cWhXG",
        "outputId": "eb4a6870-2a26-409d-d09d-ec6795f13758"
      },
      "execution_count": null,
      "outputs": [
        {
          "output_type": "execute_result",
          "data": {
            "text/plain": [
              "         index        id    gender       age  hypertension  heart_disease  \\\n",
              "0    -1.749969 -1.334653  1.198428  1.070138     -0.318067       4.381968   \n",
              "1    -1.748609 -0.283539  1.198428  1.646563     -0.318067       4.381968   \n",
              "2    -1.747929  1.101211 -0.833023  0.272012     -0.318067      -0.228208   \n",
              "3    -1.747249 -1.686247 -0.833023  1.602222      3.143994      -0.228208   \n",
              "4    -1.746569  0.933870  1.198428  1.690903     -0.318067      -0.228208   \n",
              "...        ...       ...       ...       ...           ...            ...   \n",
              "4904  1.720736 -1.090095 -0.833023 -1.324241     -0.318067      -0.228208   \n",
              "4905  1.722096  0.371967 -0.833023  1.690903     -0.318067      -0.228208   \n",
              "4906  1.722776 -0.826054 -0.833023 -0.348753     -0.318067      -0.228208   \n",
              "4907  1.723456  0.022850  1.198428  0.360692     -0.318067      -0.228208   \n",
              "4908  1.724136  0.362726 -0.833023  0.050310     -0.318067      -0.228208   \n",
              "\n",
              "      ever_married  work_type  Residence_type  avg_glucose_level       bmi  \\\n",
              "0         0.729484  -0.155697        0.985640           2.777698  0.981345   \n",
              "1         0.729484  -0.155697       -1.014569           0.013842  0.459269   \n",
              "2         0.729484  -0.155697        0.985640           1.484132  0.701207   \n",
              "3         0.729484   0.759651       -1.014569           1.549193 -0.623083   \n",
              "4         0.729484  -0.155697        0.985640           1.821368  0.013595   \n",
              "...            ...        ...             ...                ...       ...   \n",
              "4904     -1.370831   1.674998       -1.014569          -0.050094 -1.310695   \n",
              "4905      0.729484   0.759651        0.985640           0.447882  1.414286   \n",
              "4906      0.729484   0.759651       -1.014569          -0.502369  0.217332   \n",
              "4907      0.729484  -0.155697       -1.014569           1.372920 -0.419346   \n",
              "4908      0.729484  -1.986391        0.985640          -0.450816 -0.342945   \n",
              "\n",
              "      smoking_status  stroke  \n",
              "0          -1.626843       1  \n",
              "1           0.078147       1  \n",
              "2           1.783137       1  \n",
              "3           0.078147       1  \n",
              "4          -1.626843       1  \n",
              "...              ...     ...  \n",
              "4904        0.078147       0  \n",
              "4905        0.078147       0  \n",
              "4906        0.078147       0  \n",
              "4907       -1.626843       0  \n",
              "4908        0.078147       0  \n",
              "\n",
              "[4909 rows x 13 columns]"
            ],
            "text/html": [
              "\n",
              "  <div id=\"df-75ba64b7-060c-4569-8dd3-42bcac855dcc\">\n",
              "    <div class=\"colab-df-container\">\n",
              "      <div>\n",
              "<style scoped>\n",
              "    .dataframe tbody tr th:only-of-type {\n",
              "        vertical-align: middle;\n",
              "    }\n",
              "\n",
              "    .dataframe tbody tr th {\n",
              "        vertical-align: top;\n",
              "    }\n",
              "\n",
              "    .dataframe thead th {\n",
              "        text-align: right;\n",
              "    }\n",
              "</style>\n",
              "<table border=\"1\" class=\"dataframe\">\n",
              "  <thead>\n",
              "    <tr style=\"text-align: right;\">\n",
              "      <th></th>\n",
              "      <th>index</th>\n",
              "      <th>id</th>\n",
              "      <th>gender</th>\n",
              "      <th>age</th>\n",
              "      <th>hypertension</th>\n",
              "      <th>heart_disease</th>\n",
              "      <th>ever_married</th>\n",
              "      <th>work_type</th>\n",
              "      <th>Residence_type</th>\n",
              "      <th>avg_glucose_level</th>\n",
              "      <th>bmi</th>\n",
              "      <th>smoking_status</th>\n",
              "      <th>stroke</th>\n",
              "    </tr>\n",
              "  </thead>\n",
              "  <tbody>\n",
              "    <tr>\n",
              "      <th>0</th>\n",
              "      <td>-1.749969</td>\n",
              "      <td>-1.334653</td>\n",
              "      <td>1.198428</td>\n",
              "      <td>1.070138</td>\n",
              "      <td>-0.318067</td>\n",
              "      <td>4.381968</td>\n",
              "      <td>0.729484</td>\n",
              "      <td>-0.155697</td>\n",
              "      <td>0.985640</td>\n",
              "      <td>2.777698</td>\n",
              "      <td>0.981345</td>\n",
              "      <td>-1.626843</td>\n",
              "      <td>1</td>\n",
              "    </tr>\n",
              "    <tr>\n",
              "      <th>1</th>\n",
              "      <td>-1.748609</td>\n",
              "      <td>-0.283539</td>\n",
              "      <td>1.198428</td>\n",
              "      <td>1.646563</td>\n",
              "      <td>-0.318067</td>\n",
              "      <td>4.381968</td>\n",
              "      <td>0.729484</td>\n",
              "      <td>-0.155697</td>\n",
              "      <td>-1.014569</td>\n",
              "      <td>0.013842</td>\n",
              "      <td>0.459269</td>\n",
              "      <td>0.078147</td>\n",
              "      <td>1</td>\n",
              "    </tr>\n",
              "    <tr>\n",
              "      <th>2</th>\n",
              "      <td>-1.747929</td>\n",
              "      <td>1.101211</td>\n",
              "      <td>-0.833023</td>\n",
              "      <td>0.272012</td>\n",
              "      <td>-0.318067</td>\n",
              "      <td>-0.228208</td>\n",
              "      <td>0.729484</td>\n",
              "      <td>-0.155697</td>\n",
              "      <td>0.985640</td>\n",
              "      <td>1.484132</td>\n",
              "      <td>0.701207</td>\n",
              "      <td>1.783137</td>\n",
              "      <td>1</td>\n",
              "    </tr>\n",
              "    <tr>\n",
              "      <th>3</th>\n",
              "      <td>-1.747249</td>\n",
              "      <td>-1.686247</td>\n",
              "      <td>-0.833023</td>\n",
              "      <td>1.602222</td>\n",
              "      <td>3.143994</td>\n",
              "      <td>-0.228208</td>\n",
              "      <td>0.729484</td>\n",
              "      <td>0.759651</td>\n",
              "      <td>-1.014569</td>\n",
              "      <td>1.549193</td>\n",
              "      <td>-0.623083</td>\n",
              "      <td>0.078147</td>\n",
              "      <td>1</td>\n",
              "    </tr>\n",
              "    <tr>\n",
              "      <th>4</th>\n",
              "      <td>-1.746569</td>\n",
              "      <td>0.933870</td>\n",
              "      <td>1.198428</td>\n",
              "      <td>1.690903</td>\n",
              "      <td>-0.318067</td>\n",
              "      <td>-0.228208</td>\n",
              "      <td>0.729484</td>\n",
              "      <td>-0.155697</td>\n",
              "      <td>0.985640</td>\n",
              "      <td>1.821368</td>\n",
              "      <td>0.013595</td>\n",
              "      <td>-1.626843</td>\n",
              "      <td>1</td>\n",
              "    </tr>\n",
              "    <tr>\n",
              "      <th>...</th>\n",
              "      <td>...</td>\n",
              "      <td>...</td>\n",
              "      <td>...</td>\n",
              "      <td>...</td>\n",
              "      <td>...</td>\n",
              "      <td>...</td>\n",
              "      <td>...</td>\n",
              "      <td>...</td>\n",
              "      <td>...</td>\n",
              "      <td>...</td>\n",
              "      <td>...</td>\n",
              "      <td>...</td>\n",
              "      <td>...</td>\n",
              "    </tr>\n",
              "    <tr>\n",
              "      <th>4904</th>\n",
              "      <td>1.720736</td>\n",
              "      <td>-1.090095</td>\n",
              "      <td>-0.833023</td>\n",
              "      <td>-1.324241</td>\n",
              "      <td>-0.318067</td>\n",
              "      <td>-0.228208</td>\n",
              "      <td>-1.370831</td>\n",
              "      <td>1.674998</td>\n",
              "      <td>-1.014569</td>\n",
              "      <td>-0.050094</td>\n",
              "      <td>-1.310695</td>\n",
              "      <td>0.078147</td>\n",
              "      <td>0</td>\n",
              "    </tr>\n",
              "    <tr>\n",
              "      <th>4905</th>\n",
              "      <td>1.722096</td>\n",
              "      <td>0.371967</td>\n",
              "      <td>-0.833023</td>\n",
              "      <td>1.690903</td>\n",
              "      <td>-0.318067</td>\n",
              "      <td>-0.228208</td>\n",
              "      <td>0.729484</td>\n",
              "      <td>0.759651</td>\n",
              "      <td>0.985640</td>\n",
              "      <td>0.447882</td>\n",
              "      <td>1.414286</td>\n",
              "      <td>0.078147</td>\n",
              "      <td>0</td>\n",
              "    </tr>\n",
              "    <tr>\n",
              "      <th>4906</th>\n",
              "      <td>1.722776</td>\n",
              "      <td>-0.826054</td>\n",
              "      <td>-0.833023</td>\n",
              "      <td>-0.348753</td>\n",
              "      <td>-0.318067</td>\n",
              "      <td>-0.228208</td>\n",
              "      <td>0.729484</td>\n",
              "      <td>0.759651</td>\n",
              "      <td>-1.014569</td>\n",
              "      <td>-0.502369</td>\n",
              "      <td>0.217332</td>\n",
              "      <td>0.078147</td>\n",
              "      <td>0</td>\n",
              "    </tr>\n",
              "    <tr>\n",
              "      <th>4907</th>\n",
              "      <td>1.723456</td>\n",
              "      <td>0.022850</td>\n",
              "      <td>1.198428</td>\n",
              "      <td>0.360692</td>\n",
              "      <td>-0.318067</td>\n",
              "      <td>-0.228208</td>\n",
              "      <td>0.729484</td>\n",
              "      <td>-0.155697</td>\n",
              "      <td>-1.014569</td>\n",
              "      <td>1.372920</td>\n",
              "      <td>-0.419346</td>\n",
              "      <td>-1.626843</td>\n",
              "      <td>0</td>\n",
              "    </tr>\n",
              "    <tr>\n",
              "      <th>4908</th>\n",
              "      <td>1.724136</td>\n",
              "      <td>0.362726</td>\n",
              "      <td>-0.833023</td>\n",
              "      <td>0.050310</td>\n",
              "      <td>-0.318067</td>\n",
              "      <td>-0.228208</td>\n",
              "      <td>0.729484</td>\n",
              "      <td>-1.986391</td>\n",
              "      <td>0.985640</td>\n",
              "      <td>-0.450816</td>\n",
              "      <td>-0.342945</td>\n",
              "      <td>0.078147</td>\n",
              "      <td>0</td>\n",
              "    </tr>\n",
              "  </tbody>\n",
              "</table>\n",
              "<p>4909 rows × 13 columns</p>\n",
              "</div>\n",
              "      <button class=\"colab-df-convert\" onclick=\"convertToInteractive('df-75ba64b7-060c-4569-8dd3-42bcac855dcc')\"\n",
              "              title=\"Convert this dataframe to an interactive table.\"\n",
              "              style=\"display:none;\">\n",
              "        \n",
              "  <svg xmlns=\"http://www.w3.org/2000/svg\" height=\"24px\"viewBox=\"0 0 24 24\"\n",
              "       width=\"24px\">\n",
              "    <path d=\"M0 0h24v24H0V0z\" fill=\"none\"/>\n",
              "    <path d=\"M18.56 5.44l.94 2.06.94-2.06 2.06-.94-2.06-.94-.94-2.06-.94 2.06-2.06.94zm-11 1L8.5 8.5l.94-2.06 2.06-.94-2.06-.94L8.5 2.5l-.94 2.06-2.06.94zm10 10l.94 2.06.94-2.06 2.06-.94-2.06-.94-.94-2.06-.94 2.06-2.06.94z\"/><path d=\"M17.41 7.96l-1.37-1.37c-.4-.4-.92-.59-1.43-.59-.52 0-1.04.2-1.43.59L10.3 9.45l-7.72 7.72c-.78.78-.78 2.05 0 2.83L4 21.41c.39.39.9.59 1.41.59.51 0 1.02-.2 1.41-.59l7.78-7.78 2.81-2.81c.8-.78.8-2.07 0-2.86zM5.41 20L4 18.59l7.72-7.72 1.47 1.35L5.41 20z\"/>\n",
              "  </svg>\n",
              "      </button>\n",
              "      \n",
              "  <style>\n",
              "    .colab-df-container {\n",
              "      display:flex;\n",
              "      flex-wrap:wrap;\n",
              "      gap: 12px;\n",
              "    }\n",
              "\n",
              "    .colab-df-convert {\n",
              "      background-color: #E8F0FE;\n",
              "      border: none;\n",
              "      border-radius: 50%;\n",
              "      cursor: pointer;\n",
              "      display: none;\n",
              "      fill: #1967D2;\n",
              "      height: 32px;\n",
              "      padding: 0 0 0 0;\n",
              "      width: 32px;\n",
              "    }\n",
              "\n",
              "    .colab-df-convert:hover {\n",
              "      background-color: #E2EBFA;\n",
              "      box-shadow: 0px 1px 2px rgba(60, 64, 67, 0.3), 0px 1px 3px 1px rgba(60, 64, 67, 0.15);\n",
              "      fill: #174EA6;\n",
              "    }\n",
              "\n",
              "    [theme=dark] .colab-df-convert {\n",
              "      background-color: #3B4455;\n",
              "      fill: #D2E3FC;\n",
              "    }\n",
              "\n",
              "    [theme=dark] .colab-df-convert:hover {\n",
              "      background-color: #434B5C;\n",
              "      box-shadow: 0px 1px 3px 1px rgba(0, 0, 0, 0.15);\n",
              "      filter: drop-shadow(0px 1px 2px rgba(0, 0, 0, 0.3));\n",
              "      fill: #FFFFFF;\n",
              "    }\n",
              "  </style>\n",
              "\n",
              "      <script>\n",
              "        const buttonEl =\n",
              "          document.querySelector('#df-75ba64b7-060c-4569-8dd3-42bcac855dcc button.colab-df-convert');\n",
              "        buttonEl.style.display =\n",
              "          google.colab.kernel.accessAllowed ? 'block' : 'none';\n",
              "\n",
              "        async function convertToInteractive(key) {\n",
              "          const element = document.querySelector('#df-75ba64b7-060c-4569-8dd3-42bcac855dcc');\n",
              "          const dataTable =\n",
              "            await google.colab.kernel.invokeFunction('convertToInteractive',\n",
              "                                                     [key], {});\n",
              "          if (!dataTable) return;\n",
              "\n",
              "          const docLinkHtml = 'Like what you see? Visit the ' +\n",
              "            '<a target=\"_blank\" href=https://colab.research.google.com/notebooks/data_table.ipynb>data table notebook</a>'\n",
              "            + ' to learn more about interactive tables.';\n",
              "          element.innerHTML = '';\n",
              "          dataTable['output_type'] = 'display_data';\n",
              "          await google.colab.output.renderOutput(dataTable, element);\n",
              "          const docLink = document.createElement('div');\n",
              "          docLink.innerHTML = docLinkHtml;\n",
              "          element.appendChild(docLink);\n",
              "        }\n",
              "      </script>\n",
              "    </div>\n",
              "  </div>\n",
              "  "
            ]
          },
          "metadata": {},
          "execution_count": 12
        }
      ]
    },
    {
      "cell_type": "markdown",
      "source": [
        "Con los datos ya pre procesados de la forma requerida, busco el valor de k óptimo para el modelo que voy a generar."
      ],
      "metadata": {
        "id": "u_N92QXvy7Zq"
      }
    },
    {
      "cell_type": "code",
      "source": [
        "X = dfs.iloc[:,2:-1] #Dejo de tomar la columna index y id para computar las variables predictoras\n",
        "Y = dfs.iloc[:,-1]\n",
        "\n",
        "preds_list = []\n",
        "score_list = []\n",
        "k_list = []\n",
        "\n",
        "for k in list(range(1, 20, 2)):\n",
        "  knn_model = KNeighborsClassifier(n_neighbors=k, weights=\"uniform\", metric=\"minkowski\")\n",
        "  preds = cross_val_predict(knn_model, X, Y, cv=3, method=\"predict\", n_jobs=3)\n",
        "  score = cross_val_score(knn_model, X, Y, cv=3, scoring=\"accuracy\")\n",
        "  k_list.append(k)\n",
        "  preds_list.append(preds)\n",
        "  score_list.append(score.mean())"
      ],
      "metadata": {
        "id": "yBqIz-igXCy4"
      },
      "execution_count": null,
      "outputs": []
    },
    {
      "cell_type": "code",
      "source": [
        "df_scores = pd.DataFrame({\"K\":k_list,\n",
        "                   \"score\":score_list\n",
        "                   })"
      ],
      "metadata": {
        "id": "X5EN-PFaqdgM"
      },
      "execution_count": null,
      "outputs": []
    },
    {
      "cell_type": "code",
      "source": [
        "df_scores.set_index(\"K\")[\"score\"].plot(label=\"KNN Score\")\n",
        "plt.legend()\n",
        "plt.show();"
      ],
      "metadata": {
        "colab": {
          "base_uri": "https://localhost:8080/",
          "height": 279
        },
        "id": "80LkD-izrOoM",
        "outputId": "d95195e5-dcf9-4199-c919-2dd66147eb49"
      },
      "execution_count": null,
      "outputs": [
        {
          "output_type": "display_data",
          "data": {
            "text/plain": [
              "<Figure size 432x288 with 1 Axes>"
            ],
            "image/png": "[encoded data removed]"
          },
          "metadata": {
            "needs_background": "light"
          }
        }
      ]
    },
    {
      "cell_type": "code",
      "source": [
        "knn_model = KNeighborsClassifier(n_neighbors=7, weights=\"uniform\", metric=\"minkowski\")\n",
        "knn_model.fit(X, Y)\n",
        "preds = cross_val_predict(knn_model, X, Y, cv=3, method=\"predict\", n_jobs=3) #predicciones para comparar en la confusion matrix\n",
        "score = cross_val_score(knn_model, X, Y, cv=3, scoring=\"accuracy\", n_jobs=3) #accuracy del modelo\n",
        "score"
      ],
      "metadata": {
        "colab": {
          "base_uri": "https://localhost:8080/"
        },
        "id": "BgPFcb9MtaA-",
        "outputId": "5981cc97-aecc-4535-8afd-15ed6ede5efd"
      },
      "execution_count": null,
      "outputs": [
        {
          "output_type": "execute_result",
          "data": {
            "text/plain": [
              "array([0.95662798, 0.95660147, 0.95721271])"
            ]
          },
          "metadata": {},
          "execution_count": 39
        }
      ]
    },
    {
      "cell_type": "markdown",
      "source": [
        "A partir de la matriz de confusión generada debajo, se pueden notar:\n",
        "\n",
        "4697 negativos predichos correctamente.\n",
        "3 negativos que se predijeron como positivos (falsos positivos).\n",
        "209 positivos que se predijeron como negativos (falsos negativos).\n",
        "0 positivos predichos como positivos (verdaderos positivos).\n",
        "\n",
        "Como se puede ver, el modelo no predice suficientemente bien a la clase \"true\" debido principalmente a que son datos imbalanceados; hay muchos registros que no han tenido un accidente cerebro vascular sobre el total de la muestra y eso genera un buen nivel de predicción para los negativos pero no así para los casos positivos."
      ],
      "metadata": {
        "id": "LbqEFmRs0d_6"
      }
    },
    {
      "cell_type": "code",
      "source": [
        "from sklearn.metrics import confusion_matrix\n",
        "confusion_matrix(Y, preds)\n"
      ],
      "metadata": {
        "colab": {
          "base_uri": "https://localhost:8080/"
        },
        "id": "v7phENS3tnFA",
        "outputId": "e6b5542e-9b2a-4209-893e-587564da4c7b"
      },
      "execution_count": null,
      "outputs": [
        {
          "output_type": "execute_result",
          "data": {
            "text/plain": [
              "array([[4697,    3],\n",
              "       [ 209,    0]])"
            ]
          },
          "metadata": {},
          "execution_count": 40
        }
      ]
    },
    {
      "cell_type": "code",
      "source": [
        "from sklearn.metrics import classification_report\n",
        "print(f\"Informe de Clasificación:\\n\"\n",
        "      f\"{classification_report(Y, preds)}\")"
      ],
      "metadata": {
        "colab": {
          "base_uri": "https://localhost:8080/"
        },
        "id": "XCoBiETauFiY",
        "outputId": "b246acc2-369d-4dec-e1db-9821d2790ccf"
      },
      "execution_count": null,
      "outputs": [
        {
          "output_type": "stream",
          "name": "stdout",
          "text": [
            "Informe de Clasificación:\n",
            "              precision    recall  f1-score   support\n",
            "\n",
            "           0       0.96      1.00      0.98      4700\n",
            "           1       0.00      0.00      0.00       209\n",
            "\n",
            "    accuracy                           0.96      4909\n",
            "   macro avg       0.48      0.50      0.49      4909\n",
            "weighted avg       0.92      0.96      0.94      4909\n",
            "\n"
          ]
        }
      ]
    },
    {
      "cell_type": "markdown",
      "source": [
        "Podemos ver a partir de lo anterior que, si bien el modelo tiene una buena accurracy general (del 96%), esto es generado principalmente debido al mencionado imbalanceo de los datos; la clase 0 tiene una precision del 96% y un recall del 100%.\n",
        "\n",
        "Por el lado de los positivos, dichas métricas disminuyen drásticamente siendo del 0% en ambos casos."
      ],
      "metadata": {
        "id": "v-Dg0iRA1q2K"
      }
    },
    {
      "cell_type": "code",
      "source": [
        "print(confusion_matrix(Y, preds))\n",
        "\n",
        "print(f\"Confusion matrix:\\n\")\n",
        "disp = plot_confusion_matrix(knn_model, X, Y, cmap=plt.cm.viridis,)\n",
        "plt.show()"
      ],
      "metadata": {
        "colab": {
          "base_uri": "https://localhost:8080/",
          "height": 403
        },
        "id": "YcSnGzl7hBwb",
        "outputId": "c3f56c94-d435-42a4-e7b5-d0728f811c84"
      },
      "execution_count": null,
      "outputs": [
        {
          "output_type": "stream",
          "name": "stdout",
          "text": [
            "[[4697    3]\n",
            " [ 209    0]]\n",
            "Confusion matrix:\n",
            "\n"
          ]
        },
        {
          "output_type": "stream",
          "name": "stderr",
          "text": [
            "/usr/local/lib/python3.7/dist-packages/sklearn/utils/deprecation.py:87: FutureWarning: Function plot_confusion_matrix is deprecated; Function `plot_confusion_matrix` is deprecated in 1.0 and will be removed in 1.2. Use one of the class methods: ConfusionMatrixDisplay.from_predictions or ConfusionMatrixDisplay.from_estimator.\n",
            "  warnings.warn(msg, category=FutureWarning)\n"
          ]
        },
        {
          "output_type": "display_data",
          "data": {
            "text/plain": [
              "<Figure size 432x288 with 2 Axes>"
            ],
            "image/png": "[encoded data removed]"
          },
          "metadata": {
            "needs_background": "light"
          }
        }
      ]
    },
    {
      "cell_type": "code",
      "source": [
        "from sklearn.metrics import plot_roc_curve\n",
        "plot_roc_curve(knn_model, X, Y)\n",
        "plt.suptitle(\"ROC-AUC-CURVE\")\n",
        "plt.show()"
      ],
      "metadata": {
        "colab": {
          "base_uri": "https://localhost:8080/",
          "height": 363
        },
        "id": "gXZDQA9Cirec",
        "outputId": "ec793d05-2d63-44e7-ccad-456eda172b56"
      },
      "execution_count": null,
      "outputs": [
        {
          "output_type": "stream",
          "name": "stderr",
          "text": [
            "/usr/local/lib/python3.7/dist-packages/sklearn/utils/deprecation.py:87: FutureWarning: Function plot_roc_curve is deprecated; Function :func:`plot_roc_curve` is deprecated in 1.0 and will be removed in 1.2. Use one of the class methods: :meth:`sklearn.metric.RocCurveDisplay.from_predictions` or :meth:`sklearn.metric.RocCurveDisplay.from_estimator`.\n",
            "  warnings.warn(msg, category=FutureWarning)\n"
          ]
        },
        {
          "output_type": "display_data",
          "data": {
            "text/plain": [
              "<Figure size 432x288 with 1 Axes>"
            ],
            "image/png": "[encoded data removed]"
          },
          "metadata": {
            "needs_background": "light"
          }
        }
      ]
    },
    {
      "cell_type": "markdown",
      "source": [
        "En este caso se puede notar como la curva ROC está fuertemente influenciada por el imbalanceo de datos. Muy facilmente se llega a una tasa de casi el 100% de verdaderos positivos debido a que hay una gran cantidad de valores \"0\" predichos correctamente."
      ],
      "metadata": {
        "id": "S-J_lVRTmxdF"
      }
    },
    {
      "cell_type": "code",
      "source": [
        "probs = cross_val_predict(knn_model, X, Y, cv=3, method=\"predict_proba\", n_jobs=3)\n",
        "probs"
      ],
      "metadata": {
        "colab": {
          "base_uri": "https://localhost:8080/"
        },
        "id": "-gNViOpwuILR",
        "outputId": "5e8223b3-d4a2-411d-dad5-38ca164e8eb8"
      },
      "execution_count": null,
      "outputs": [
        {
          "output_type": "execute_result",
          "data": {
            "text/plain": [
              "array([[0.85714286, 0.14285714],\n",
              "       [1.        , 0.        ],\n",
              "       [0.85714286, 0.14285714],\n",
              "       ...,\n",
              "       [1.        , 0.        ],\n",
              "       [1.        , 0.        ],\n",
              "       [1.        , 0.        ]])"
            ]
          },
          "metadata": {},
          "execution_count": 45
        }
      ]
    },
    {
      "cell_type": "markdown",
      "source": [
        "Genero un array con las probabilidades para las predicciones de cada clase."
      ],
      "metadata": {
        "id": "jPGwmz0x4ZVI"
      }
    },
    {
      "cell_type": "code",
      "source": [
        "df_dict = {\"prob_class0\": probs[:,0],\n",
        "           \"prob_class1\": probs[:,1],\n",
        "           \"preds\":preds}\n",
        "\n",
        "df_probs = pd.DataFrame(df_dict)\n",
        "df_probs.head()"
      ],
      "metadata": {
        "colab": {
          "base_uri": "https://localhost:8080/",
          "height": 206
        },
        "id": "kfnqinsH4W2N",
        "outputId": "d24ab04f-ecb4-4c91-e463-2e0d742c8ac1"
      },
      "execution_count": null,
      "outputs": [
        {
          "output_type": "execute_result",
          "data": {
            "text/plain": [
              "   prob_class0  prob_class1  preds\n",
              "0     0.857143     0.142857      0\n",
              "1     1.000000     0.000000      0\n",
              "2     0.857143     0.142857      0\n",
              "3     0.857143     0.142857      0\n",
              "4     0.714286     0.285714      0"
            ],
            "text/html": [
              "\n",
              "  <div id=\"df-f750f9b0-a2a8-4615-9e10-290fc08aa5e4\">\n",
              "    <div class=\"colab-df-container\">\n",
              "      <div>\n",
              "<style scoped>\n",
              "    .dataframe tbody tr th:only-of-type {\n",
              "        vertical-align: middle;\n",
              "    }\n",
              "\n",
              "    .dataframe tbody tr th {\n",
              "        vertical-align: top;\n",
              "    }\n",
              "\n",
              "    .dataframe thead th {\n",
              "        text-align: right;\n",
              "    }\n",
              "</style>\n",
              "<table border=\"1\" class=\"dataframe\">\n",
              "  <thead>\n",
              "    <tr style=\"text-align: right;\">\n",
              "      <th></th>\n",
              "      <th>prob_class0</th>\n",
              "      <th>prob_class1</th>\n",
              "      <th>preds</th>\n",
              "    </tr>\n",
              "  </thead>\n",
              "  <tbody>\n",
              "    <tr>\n",
              "      <th>0</th>\n",
              "      <td>0.857143</td>\n",
              "      <td>0.142857</td>\n",
              "      <td>0</td>\n",
              "    </tr>\n",
              "    <tr>\n",
              "      <th>1</th>\n",
              "      <td>1.000000</td>\n",
              "      <td>0.000000</td>\n",
              "      <td>0</td>\n",
              "    </tr>\n",
              "    <tr>\n",
              "      <th>2</th>\n",
              "      <td>0.857143</td>\n",
              "      <td>0.142857</td>\n",
              "      <td>0</td>\n",
              "    </tr>\n",
              "    <tr>\n",
              "      <th>3</th>\n",
              "      <td>0.857143</td>\n",
              "      <td>0.142857</td>\n",
              "      <td>0</td>\n",
              "    </tr>\n",
              "    <tr>\n",
              "      <th>4</th>\n",
              "      <td>0.714286</td>\n",
              "      <td>0.285714</td>\n",
              "      <td>0</td>\n",
              "    </tr>\n",
              "  </tbody>\n",
              "</table>\n",
              "</div>\n",
              "      <button class=\"colab-df-convert\" onclick=\"convertToInteractive('df-f750f9b0-a2a8-4615-9e10-290fc08aa5e4')\"\n",
              "              title=\"Convert this dataframe to an interactive table.\"\n",
              "              style=\"display:none;\">\n",
              "        \n",
              "  <svg xmlns=\"http://www.w3.org/2000/svg\" height=\"24px\"viewBox=\"0 0 24 24\"\n",
              "       width=\"24px\">\n",
              "    <path d=\"M0 0h24v24H0V0z\" fill=\"none\"/>\n",
              "    <path d=\"M18.56 5.44l.94 2.06.94-2.06 2.06-.94-2.06-.94-.94-2.06-.94 2.06-2.06.94zm-11 1L8.5 8.5l.94-2.06 2.06-.94-2.06-.94L8.5 2.5l-.94 2.06-2.06.94zm10 10l.94 2.06.94-2.06 2.06-.94-2.06-.94-.94-2.06-.94 2.06-2.06.94z\"/><path d=\"M17.41 7.96l-1.37-1.37c-.4-.4-.92-.59-1.43-.59-.52 0-1.04.2-1.43.59L10.3 9.45l-7.72 7.72c-.78.78-.78 2.05 0 2.83L4 21.41c.39.39.9.59 1.41.59.51 0 1.02-.2 1.41-.59l7.78-7.78 2.81-2.81c.8-.78.8-2.07 0-2.86zM5.41 20L4 18.59l7.72-7.72 1.47 1.35L5.41 20z\"/>\n",
              "  </svg>\n",
              "      </button>\n",
              "      \n",
              "  <style>\n",
              "    .colab-df-container {\n",
              "      display:flex;\n",
              "      flex-wrap:wrap;\n",
              "      gap: 12px;\n",
              "    }\n",
              "\n",
              "    .colab-df-convert {\n",
              "      background-color: #E8F0FE;\n",
              "      border: none;\n",
              "      border-radius: 50%;\n",
              "      cursor: pointer;\n",
              "      display: none;\n",
              "      fill: #1967D2;\n",
              "      height: 32px;\n",
              "      padding: 0 0 0 0;\n",
              "      width: 32px;\n",
              "    }\n",
              "\n",
              "    .colab-df-convert:hover {\n",
              "      background-color: #E2EBFA;\n",
              "      box-shadow: 0px 1px 2px rgba(60, 64, 67, 0.3), 0px 1px 3px 1px rgba(60, 64, 67, 0.15);\n",
              "      fill: #174EA6;\n",
              "    }\n",
              "\n",
              "    [theme=dark] .colab-df-convert {\n",
              "      background-color: #3B4455;\n",
              "      fill: #D2E3FC;\n",
              "    }\n",
              "\n",
              "    [theme=dark] .colab-df-convert:hover {\n",
              "      background-color: #434B5C;\n",
              "      box-shadow: 0px 1px 3px 1px rgba(0, 0, 0, 0.15);\n",
              "      filter: drop-shadow(0px 1px 2px rgba(0, 0, 0, 0.3));\n",
              "      fill: #FFFFFF;\n",
              "    }\n",
              "  </style>\n",
              "\n",
              "      <script>\n",
              "        const buttonEl =\n",
              "          document.querySelector('#df-f750f9b0-a2a8-4615-9e10-290fc08aa5e4 button.colab-df-convert');\n",
              "        buttonEl.style.display =\n",
              "          google.colab.kernel.accessAllowed ? 'block' : 'none';\n",
              "\n",
              "        async function convertToInteractive(key) {\n",
              "          const element = document.querySelector('#df-f750f9b0-a2a8-4615-9e10-290fc08aa5e4');\n",
              "          const dataTable =\n",
              "            await google.colab.kernel.invokeFunction('convertToInteractive',\n",
              "                                                     [key], {});\n",
              "          if (!dataTable) return;\n",
              "\n",
              "          const docLinkHtml = 'Like what you see? Visit the ' +\n",
              "            '<a target=\"_blank\" href=https://colab.research.google.com/notebooks/data_table.ipynb>data table notebook</a>'\n",
              "            + ' to learn more about interactive tables.';\n",
              "          element.innerHTML = '';\n",
              "          dataTable['output_type'] = 'display_data';\n",
              "          await google.colab.output.renderOutput(dataTable, element);\n",
              "          const docLink = document.createElement('div');\n",
              "          docLink.innerHTML = docLinkHtml;\n",
              "          element.appendChild(docLink);\n",
              "        }\n",
              "      </script>\n",
              "    </div>\n",
              "  </div>\n",
              "  "
            ]
          },
          "metadata": {},
          "execution_count": 46
        }
      ]
    },
    {
      "cell_type": "code",
      "source": [
        "from sklearn.metrics import precision_recall_curve\n",
        "precision, recall, limite = precision_recall_curve(Y,probs[:,1])"
      ],
      "metadata": {
        "id": "ZIS9wcGa47_4"
      },
      "execution_count": null,
      "outputs": []
    },
    {
      "cell_type": "markdown",
      "source": [
        "A partir de lo anterior, genero una curva de precision/recall para entender cómo varían dichas métricas cuando se modifica el valor de la probabilidad que se le da a cada clase al predecir."
      ],
      "metadata": {
        "id": "dgan9Wlq6Mvd"
      }
    },
    {
      "cell_type": "code",
      "source": [
        "plt.plot(limite, precision[:-1], c=\"green\", label=\"Precision\")\n",
        "plt.plot(limite, recall[:-1], c=\"red\", label=\"Recall\")\n",
        "plt.axvline(0.5, alpha=0.5, c=\"gray\")\n",
        "plt.suptitle(\"Precision-Recall Curve\")\n",
        "plt.legend()\n",
        "plt.show()"
      ],
      "metadata": {
        "colab": {
          "base_uri": "https://localhost:8080/",
          "height": 294
        },
        "id": "4u-bzSfH48W1",
        "outputId": "56ec69b6-a197-4e88-ed7b-77defa69100d"
      },
      "execution_count": null,
      "outputs": [
        {
          "output_type": "display_data",
          "data": {
            "text/plain": [
              "<Figure size 432x288 with 1 Axes>"
            ],
            "image/png": "[encoded data removed]"
          },
          "metadata": {
            "needs_background": "light"
          }
        }
      ]
    },
    {
      "cell_type": "markdown",
      "source": [
        "A partir de la grafica precision / recall generada anteriormente voy a crear las matrices de confusión para los valores de 30%  y 60% para entender cómo cambian dichas métricas."
      ],
      "metadata": {
        "id": "7pV9zeHx6VmI"
      }
    },
    {
      "cell_type": "code",
      "source": [
        "df_probs[\"preds_30\"] = 0\n",
        "df_probs[\"preds_60\"] = 0\n",
        "\n",
        "\n",
        "df_probs.loc[df_probs[\"prob_class1\"]>0.3, \"preds_30\"] = 1\n",
        "df_probs.loc[df_probs[\"prob_class1\"]>0.6, \"preds_60\"] = 1\n",
        "\n",
        "\n",
        "df_probs"
      ],
      "metadata": {
        "colab": {
          "base_uri": "https://localhost:8080/",
          "height": 424
        },
        "id": "0P4LgfFa5UcX",
        "outputId": "5dc3da46-726f-4b8c-f585-183898b80183"
      },
      "execution_count": null,
      "outputs": [
        {
          "output_type": "execute_result",
          "data": {
            "text/plain": [
              "      prob_class0  prob_class1  preds  preds_30  preds_60\n",
              "0        0.857143     0.142857      0         0         0\n",
              "1        1.000000     0.000000      0         0         0\n",
              "2        0.857143     0.142857      0         0         0\n",
              "3        0.857143     0.142857      0         0         0\n",
              "4        0.714286     0.285714      0         0         0\n",
              "...           ...          ...    ...       ...       ...\n",
              "4904     1.000000     0.000000      0         0         0\n",
              "4905     0.857143     0.142857      0         0         0\n",
              "4906     1.000000     0.000000      0         0         0\n",
              "4907     1.000000     0.000000      0         0         0\n",
              "4908     1.000000     0.000000      0         0         0\n",
              "\n",
              "[4909 rows x 5 columns]"
            ],
            "text/html": [
              "\n",
              "  <div id=\"df-c35927eb-0dba-4122-b52c-a0353bcedb9d\">\n",
              "    <div class=\"colab-df-container\">\n",
              "      <div>\n",
              "<style scoped>\n",
              "    .dataframe tbody tr th:only-of-type {\n",
              "        vertical-align: middle;\n",
              "    }\n",
              "\n",
              "    .dataframe tbody tr th {\n",
              "        vertical-align: top;\n",
              "    }\n",
              "\n",
              "    .dataframe thead th {\n",
              "        text-align: right;\n",
              "    }\n",
              "</style>\n",
              "<table border=\"1\" class=\"dataframe\">\n",
              "  <thead>\n",
              "    <tr style=\"text-align: right;\">\n",
              "      <th></th>\n",
              "      <th>prob_class0</th>\n",
              "      <th>prob_class1</th>\n",
              "      <th>preds</th>\n",
              "      <th>preds_30</th>\n",
              "      <th>preds_60</th>\n",
              "    </tr>\n",
              "  </thead>\n",
              "  <tbody>\n",
              "    <tr>\n",
              "      <th>0</th>\n",
              "      <td>0.857143</td>\n",
              "      <td>0.142857</td>\n",
              "      <td>0</td>\n",
              "      <td>0</td>\n",
              "      <td>0</td>\n",
              "    </tr>\n",
              "    <tr>\n",
              "      <th>1</th>\n",
              "      <td>1.000000</td>\n",
              "      <td>0.000000</td>\n",
              "      <td>0</td>\n",
              "      <td>0</td>\n",
              "      <td>0</td>\n",
              "    </tr>\n",
              "    <tr>\n",
              "      <th>2</th>\n",
              "      <td>0.857143</td>\n",
              "      <td>0.142857</td>\n",
              "      <td>0</td>\n",
              "      <td>0</td>\n",
              "      <td>0</td>\n",
              "    </tr>\n",
              "    <tr>\n",
              "      <th>3</th>\n",
              "      <td>0.857143</td>\n",
              "      <td>0.142857</td>\n",
              "      <td>0</td>\n",
              "      <td>0</td>\n",
              "      <td>0</td>\n",
              "    </tr>\n",
              "    <tr>\n",
              "      <th>4</th>\n",
              "      <td>0.714286</td>\n",
              "      <td>0.285714</td>\n",
              "      <td>0</td>\n",
              "      <td>0</td>\n",
              "      <td>0</td>\n",
              "    </tr>\n",
              "    <tr>\n",
              "      <th>...</th>\n",
              "      <td>...</td>\n",
              "      <td>...</td>\n",
              "      <td>...</td>\n",
              "      <td>...</td>\n",
              "      <td>...</td>\n",
              "    </tr>\n",
              "    <tr>\n",
              "      <th>4904</th>\n",
              "      <td>1.000000</td>\n",
              "      <td>0.000000</td>\n",
              "      <td>0</td>\n",
              "      <td>0</td>\n",
              "      <td>0</td>\n",
              "    </tr>\n",
              "    <tr>\n",
              "      <th>4905</th>\n",
              "      <td>0.857143</td>\n",
              "      <td>0.142857</td>\n",
              "      <td>0</td>\n",
              "      <td>0</td>\n",
              "      <td>0</td>\n",
              "    </tr>\n",
              "    <tr>\n",
              "      <th>4906</th>\n",
              "      <td>1.000000</td>\n",
              "      <td>0.000000</td>\n",
              "      <td>0</td>\n",
              "      <td>0</td>\n",
              "      <td>0</td>\n",
              "    </tr>\n",
              "    <tr>\n",
              "      <th>4907</th>\n",
              "      <td>1.000000</td>\n",
              "      <td>0.000000</td>\n",
              "      <td>0</td>\n",
              "      <td>0</td>\n",
              "      <td>0</td>\n",
              "    </tr>\n",
              "    <tr>\n",
              "      <th>4908</th>\n",
              "      <td>1.000000</td>\n",
              "      <td>0.000000</td>\n",
              "      <td>0</td>\n",
              "      <td>0</td>\n",
              "      <td>0</td>\n",
              "    </tr>\n",
              "  </tbody>\n",
              "</table>\n",
              "<p>4909 rows × 5 columns</p>\n",
              "</div>\n",
              "      <button class=\"colab-df-convert\" onclick=\"convertToInteractive('df-c35927eb-0dba-4122-b52c-a0353bcedb9d')\"\n",
              "              title=\"Convert this dataframe to an interactive table.\"\n",
              "              style=\"display:none;\">\n",
              "        \n",
              "  <svg xmlns=\"http://www.w3.org/2000/svg\" height=\"24px\"viewBox=\"0 0 24 24\"\n",
              "       width=\"24px\">\n",
              "    <path d=\"M0 0h24v24H0V0z\" fill=\"none\"/>\n",
              "    <path d=\"M18.56 5.44l.94 2.06.94-2.06 2.06-.94-2.06-.94-.94-2.06-.94 2.06-2.06.94zm-11 1L8.5 8.5l.94-2.06 2.06-.94-2.06-.94L8.5 2.5l-.94 2.06-2.06.94zm10 10l.94 2.06.94-2.06 2.06-.94-2.06-.94-.94-2.06-.94 2.06-2.06.94z\"/><path d=\"M17.41 7.96l-1.37-1.37c-.4-.4-.92-.59-1.43-.59-.52 0-1.04.2-1.43.59L10.3 9.45l-7.72 7.72c-.78.78-.78 2.05 0 2.83L4 21.41c.39.39.9.59 1.41.59.51 0 1.02-.2 1.41-.59l7.78-7.78 2.81-2.81c.8-.78.8-2.07 0-2.86zM5.41 20L4 18.59l7.72-7.72 1.47 1.35L5.41 20z\"/>\n",
              "  </svg>\n",
              "      </button>\n",
              "      \n",
              "  <style>\n",
              "    .colab-df-container {\n",
              "      display:flex;\n",
              "      flex-wrap:wrap;\n",
              "      gap: 12px;\n",
              "    }\n",
              "\n",
              "    .colab-df-convert {\n",
              "      background-color: #E8F0FE;\n",
              "      border: none;\n",
              "      border-radius: 50%;\n",
              "      cursor: pointer;\n",
              "      display: none;\n",
              "      fill: #1967D2;\n",
              "      height: 32px;\n",
              "      padding: 0 0 0 0;\n",
              "      width: 32px;\n",
              "    }\n",
              "\n",
              "    .colab-df-convert:hover {\n",
              "      background-color: #E2EBFA;\n",
              "      box-shadow: 0px 1px 2px rgba(60, 64, 67, 0.3), 0px 1px 3px 1px rgba(60, 64, 67, 0.15);\n",
              "      fill: #174EA6;\n",
              "    }\n",
              "\n",
              "    [theme=dark] .colab-df-convert {\n",
              "      background-color: #3B4455;\n",
              "      fill: #D2E3FC;\n",
              "    }\n",
              "\n",
              "    [theme=dark] .colab-df-convert:hover {\n",
              "      background-color: #434B5C;\n",
              "      box-shadow: 0px 1px 3px 1px rgba(0, 0, 0, 0.15);\n",
              "      filter: drop-shadow(0px 1px 2px rgba(0, 0, 0, 0.3));\n",
              "      fill: #FFFFFF;\n",
              "    }\n",
              "  </style>\n",
              "\n",
              "      <script>\n",
              "        const buttonEl =\n",
              "          document.querySelector('#df-c35927eb-0dba-4122-b52c-a0353bcedb9d button.colab-df-convert');\n",
              "        buttonEl.style.display =\n",
              "          google.colab.kernel.accessAllowed ? 'block' : 'none';\n",
              "\n",
              "        async function convertToInteractive(key) {\n",
              "          const element = document.querySelector('#df-c35927eb-0dba-4122-b52c-a0353bcedb9d');\n",
              "          const dataTable =\n",
              "            await google.colab.kernel.invokeFunction('convertToInteractive',\n",
              "                                                     [key], {});\n",
              "          if (!dataTable) return;\n",
              "\n",
              "          const docLinkHtml = 'Like what you see? Visit the ' +\n",
              "            '<a target=\"_blank\" href=https://colab.research.google.com/notebooks/data_table.ipynb>data table notebook</a>'\n",
              "            + ' to learn more about interactive tables.';\n",
              "          element.innerHTML = '';\n",
              "          dataTable['output_type'] = 'display_data';\n",
              "          await google.colab.output.renderOutput(dataTable, element);\n",
              "          const docLink = document.createElement('div');\n",
              "          docLink.innerHTML = docLinkHtml;\n",
              "          element.appendChild(docLink);\n",
              "        }\n",
              "      </script>\n",
              "    </div>\n",
              "  </div>\n",
              "  "
            ]
          },
          "metadata": {},
          "execution_count": 49
        }
      ]
    },
    {
      "cell_type": "code",
      "source": [
        "#Matriz de confusión para prob = 0.3\n",
        "preds_30=df_probs[\"preds_30\"].values\n",
        "\n",
        "print(\"Matriz de confusión: \\n {} \\n \".format(confusion_matrix(Y, preds_30)))\n",
        "\n",
        "\n",
        "print(f\"Informe de Clasificación:\\n\"\n",
        "      f\"{classification_report(Y, preds_30)}\")\n"
      ],
      "metadata": {
        "colab": {
          "base_uri": "https://localhost:8080/"
        },
        "id": "A9F20CMU6veX",
        "outputId": "bf9e66e7-c025-4d01-c04e-6b8367cee977"
      },
      "execution_count": null,
      "outputs": [
        {
          "output_type": "stream",
          "name": "stdout",
          "text": [
            "Matriz de confusión: \n",
            " [[4666   34]\n",
            " [ 205    4]] \n",
            " \n",
            "Informe de Clasificación:\n",
            "              precision    recall  f1-score   support\n",
            "\n",
            "           0       0.96      0.99      0.98      4700\n",
            "           1       0.11      0.02      0.03       209\n",
            "\n",
            "    accuracy                           0.95      4909\n",
            "   macro avg       0.53      0.51      0.50      4909\n",
            "weighted avg       0.92      0.95      0.93      4909\n",
            "\n"
          ]
        }
      ]
    },
    {
      "cell_type": "code",
      "source": [
        "#Matriz de confusión para prob = 0.6\n",
        "preds_60=df_probs[\"preds_60\"].values\n",
        "\n",
        "print(\"Matriz de confusión: \\n {} \\n \".format(confusion_matrix(Y, preds_60)))\n",
        "\n",
        "\n",
        "print(f\"Informe de Clasificación:\\n\"\n",
        "      f\"{classification_report(Y, preds_60)}\")"
      ],
      "metadata": {
        "colab": {
          "base_uri": "https://localhost:8080/"
        },
        "id": "Moj2T9v07690",
        "outputId": "7f8f8c06-ed44-4d7c-ecc3-d282159975d2"
      },
      "execution_count": null,
      "outputs": [
        {
          "output_type": "stream",
          "name": "stdout",
          "text": [
            "Matriz de confusión: \n",
            " [[4700    0]\n",
            " [ 209    0]] \n",
            " \n",
            "Informe de Clasificación:\n",
            "              precision    recall  f1-score   support\n",
            "\n",
            "           0       0.96      1.00      0.98      4700\n",
            "           1       0.00      0.00      0.00       209\n",
            "\n",
            "    accuracy                           0.96      4909\n",
            "   macro avg       0.48      0.50      0.49      4909\n",
            "weighted avg       0.92      0.96      0.94      4909\n",
            "\n"
          ]
        },
        {
          "output_type": "stream",
          "name": "stderr",
          "text": [
            "/usr/local/lib/python3.7/dist-packages/sklearn/metrics/_classification.py:1318: UndefinedMetricWarning: Precision and F-score are ill-defined and being set to 0.0 in labels with no predicted samples. Use `zero_division` parameter to control this behavior.\n",
            "  _warn_prf(average, modifier, msg_start, len(result))\n",
            "/usr/local/lib/python3.7/dist-packages/sklearn/metrics/_classification.py:1318: UndefinedMetricWarning: Precision and F-score are ill-defined and being set to 0.0 in labels with no predicted samples. Use `zero_division` parameter to control this behavior.\n",
            "  _warn_prf(average, modifier, msg_start, len(result))\n",
            "/usr/local/lib/python3.7/dist-packages/sklearn/metrics/_classification.py:1318: UndefinedMetricWarning: Precision and F-score are ill-defined and being set to 0.0 in labels with no predicted samples. Use `zero_division` parameter to control this behavior.\n",
            "  _warn_prf(average, modifier, msg_start, len(result))\n"
          ]
        }
      ]
    },
    {
      "cell_type": "markdown",
      "source": [
        "A partir de lo anterior, se puede notar cómo varían los valores de precision/recall cuando se modifica la probabilidad asignada para la clasificación de clases.\n",
        "\n",
        "Es a su vez interesante ver cómo la accurracy casi no cambia en todos los casos (original = 50%, 30% y 60%). Esto se debe al mencionado imbalanceo de los casos, donde los casos negativos tienen una preponderancia significativa sobre el total de casos. A pesar de lo anterior, es notorio que cuando se baja la probabilidad (dicho de otra forma, la \"exigencia\" o \"rigurosidad\" que le exigimos al modelo) la predicción de los valores \"1\" mejora."
      ],
      "metadata": {
        "id": "cUh9E_c48GvC"
      }
    }
  ]
}